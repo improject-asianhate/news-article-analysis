{
 "cells": [
  {
   "cell_type": "markdown",
   "metadata": {},
   "source": [
    "### Steps:\n",
    "- Step 1. Go to https://namsor.app/api-documentation/ to register for an account and copy the api keys.\n",
    "- Step 2. Replace the API_KEY with your api_keys"
   ]
  },
  {
   "cell_type": "code",
   "execution_count": 1,
   "metadata": {},
   "outputs": [
    {
     "data": {
      "text/plain": [
       "'\\nSteps:\\nStep 1. Go to https://namsor.app/api-documentation/ to register for an account and copy the api keys.\\nStep 2. Replace the API_KEY with your api_keys\\n'"
      ]
     },
     "execution_count": 1,
     "metadata": {},
     "output_type": "execute_result"
    }
   ],
   "source": [
    "import csv\n",
    "import requests, json\n",
    "from tqdm import tqdm"
   ]
  },
  {
   "cell_type": "code",
   "execution_count": 2,
   "metadata": {},
   "outputs": [],
   "source": [
    "# Things you have to change\n",
    "API_KEY = \"YOUR_API_KEY\" # replace with your api keys\n",
    "\n",
    "\n",
    "# You can just input the last name\n",
    "def get_region(last_name, first_name=\"\"): \n",
    "    payload = {  # Initial settings\n",
    "        \"personalNames\": [{\n",
    "            \"firstName\": first_name,\n",
    "            \"lastName\": last_name\n",
    "        }]\n",
    "    }\n",
    "    headers = {\n",
    "        \"X-API-KEY\": API_KEY, # API Key\n",
    "        \"Accept\": \"application/json\",\n",
    "        \"Content-Type\": \"application/json\"\n",
    "    }\n",
    "\n",
    "    response = requests.request(\"POST\", \"https://v2.namsor.com/NamSorAPIv2/api2/json/originBatch\", json=payload, headers=headers)\n",
    "    region_origin = json.loads(response.text)['personalNames'][0]['regionOrigin']\n",
    "    return region_origin, response.text\n"
   ]
  },
  {
   "cell_type": "code",
   "execution_count": null,
   "metadata": {},
   "outputs": [],
   "source": [
    "# Read files and extract names\n",
    "name_lst = []\n",
    "with open('NMS_citations.txt') as f:\n",
    "    for line in f:\n",
    "        line = line.rstrip()\n",
    "        if len(line) < 1: continue\n",
    "        \n",
    "        text = line.split('(')[0]\n",
    "        if '&' in text:\n",
    "            for t in text.split('&'):\n",
    "                t = t.strip()\n",
    "                if t[-1] == ',': t = t[:-1] # remove additional comma\n",
    "                name_lst.append(t)\n",
    "        else:\n",
    "            name_lst.append(text.strip())\n",
    "\n",
    "    \n",
    "# Get region from namsor\n",
    "ind_name_lst = set(name_lst)\n",
    "# for i in ind_name_lst:\n",
    "#     print(i)\n",
    "\n",
    "try:\n",
    "    ind_name_lst.remove(\"\")\n",
    "except ValueError:\n",
    "    print(\"Item not found in the list.\")\n",
    "\n",
    "region_lst, region_txt_lst = [], []\n",
    "for n in tqdm(ind_name_lst):\n",
    "    lst_name = n.split(',')[0]\n",
    "    reg, reg_txt = get_region(lst_name)\n",
    "    region_lst.append(reg)\n",
    "    region_txt_lst.append(reg_txt)\n",
    "    \n",
    "\n",
    "\n",
    "# Write the data into csv files\n",
    "data = []\n",
    "for i, j, k in zip(ind_name_lst, region_lst, region_txt_lst):\n",
    "    data.append({\"name\": i, \"region\": j, \"text\": k})\n",
    "    \n",
    "# Specify the CSV file name\n",
    "with open('NMS_name_dict.csv', 'w', newline='') as csvfile:\n",
    "    writer = csv.DictWriter(csvfile, fieldnames=['name', 'region', 'text'])\n",
    "    writer.writeheader()\n",
    "\n",
    "    for row in data:\n",
    "        writer.writerow(row)\n",
    "\n",
    "print(\"CSV file has been created successfully.\")"
   ]
  }
 ],
 "metadata": {
  "kernelspec": {
   "display_name": "gp_venv",
   "language": "python",
   "name": "python3"
  },
  "language_info": {
   "codemirror_mode": {
    "name": "ipython",
    "version": 3
   },
   "file_extension": ".py",
   "mimetype": "text/x-python",
   "name": "python",
   "nbconvert_exporter": "python",
   "pygments_lexer": "ipython3",
   "version": "3.11.4"
  }
 },
 "nbformat": 4,
 "nbformat_minor": 2
}
