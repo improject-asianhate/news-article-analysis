{
 "cells": [
  {
   "cell_type": "markdown",
   "metadata": {},
   "source": [
    "## Main Purpose\n",
    "針對新聞文章進行前處理\n",
    "- Input: \n",
    "    - 新聞文章之 txt 檔（一篇文章一篇）\n",
    "    - 日期與媒體來源標記\n",
    "    - 停用詞庫\n",
    "    - 連續詞庫\n",
    "    - 同義詞庫\n",
    "- Output: 二維的陣列"
   ]
  },
  {
   "cell_type": "markdown",
   "metadata": {},
   "source": [
    "## Read the data"
   ]
  },
  {
   "cell_type": "code",
   "execution_count": 1,
   "metadata": {},
   "outputs": [],
   "source": [
    "import os\n",
    "import json\n",
    "import string\n",
    "import pandas as pd\n",
    "from datetime import datetime\n",
    "import warnings\n",
    "warnings.filterwarnings(\"ignore\")"
   ]
  },
  {
   "cell_type": "code",
   "execution_count": 2,
   "metadata": {},
   "outputs": [
    {
     "data": {
      "text/html": [
       "<div>\n",
       "<style scoped>\n",
       "    .dataframe tbody tr th:only-of-type {\n",
       "        vertical-align: middle;\n",
       "    }\n",
       "\n",
       "    .dataframe tbody tr th {\n",
       "        vertical-align: top;\n",
       "    }\n",
       "\n",
       "    .dataframe thead th {\n",
       "        text-align: right;\n",
       "    }\n",
       "</style>\n",
       "<table border=\"1\" class=\"dataframe\">\n",
       "  <thead>\n",
       "    <tr style=\"text-align: right;\">\n",
       "      <th></th>\n",
       "      <th>id</th>\n",
       "      <th>contents</th>\n",
       "      <th>source</th>\n",
       "      <th>date</th>\n",
       "    </tr>\n",
       "  </thead>\n",
       "  <tbody>\n",
       "    <tr>\n",
       "      <th>0</th>\n",
       "      <td>0</td>\n",
       "      <td>7/1/2021\\n https://www-proquest-com.falcon.lib...</td>\n",
       "      <td>Boston Globe</td>\n",
       "      <td>202004</td>\n",
       "    </tr>\n",
       "    <tr>\n",
       "      <th>1</th>\n",
       "      <td>1</td>\n",
       "      <td>7/2/2021\\n https://www-proquest-com.falcon.lib...</td>\n",
       "      <td>Boston Globe</td>\n",
       "      <td>202004</td>\n",
       "    </tr>\n",
       "    <tr>\n",
       "      <th>2</th>\n",
       "      <td>10</td>\n",
       "      <td>Find a copy\\n Abstract\\n document 1 of 1\\n Ful...</td>\n",
       "      <td>Boston Globe</td>\n",
       "      <td>202103</td>\n",
       "    </tr>\n",
       "    <tr>\n",
       "      <th>3</th>\n",
       "      <td>100</td>\n",
       "      <td>6/24/2021\\n https://www-proquest-com.falcon.li...</td>\n",
       "      <td>Others</td>\n",
       "      <td>202003</td>\n",
       "    </tr>\n",
       "    <tr>\n",
       "      <th>4</th>\n",
       "      <td>101</td>\n",
       "      <td>6/24/2021\\n https://www-proquest-com.falcon.li...</td>\n",
       "      <td>Others</td>\n",
       "      <td>202003</td>\n",
       "    </tr>\n",
       "  </tbody>\n",
       "</table>\n",
       "</div>"
      ],
      "text/plain": [
       "    id                                           contents        source  \\\n",
       "0    0  7/1/2021\\n https://www-proquest-com.falcon.lib...  Boston Globe   \n",
       "1    1  7/2/2021\\n https://www-proquest-com.falcon.lib...  Boston Globe   \n",
       "2   10  Find a copy\\n Abstract\\n document 1 of 1\\n Ful...  Boston Globe   \n",
       "3  100  6/24/2021\\n https://www-proquest-com.falcon.li...        Others   \n",
       "4  101  6/24/2021\\n https://www-proquest-com.falcon.li...        Others   \n",
       "\n",
       "     date  \n",
       "0  202004  \n",
       "1  202004  \n",
       "2  202103  \n",
       "3  202003  \n",
       "4  202003  "
      ]
     },
     "execution_count": 2,
     "metadata": {},
     "output_type": "execute_result"
    }
   ],
   "source": [
    "# 載入新聞文章、日期、媒體資料\n",
    "all_files = os.listdir(\"../txt/\")\n",
    "df_articles = pd.DataFrame(columns=['id','contents'])\n",
    "for file in all_files:\n",
    "    with open(\"../txt/\" + file, 'r', encoding='utf-8') as f:\n",
    "        if file != \"labels.csv\":\n",
    "            df_articles.loc[len(df_articles.index)] = [int(file.replace('.txt', '')), \" \".join(f.readlines())]\n",
    "        else:\n",
    "            df_label = pd.read_csv(\"../txt/\" + file) \n",
    "\n",
    "# 合併新聞文章、日期、媒體資料\n",
    "df_news = pd.merge(df_articles, df_label, on='id', how='left').reset_index(drop=True)\n",
    "\n",
    "# 移除缺失值\n",
    "df_news = df_news.dropna()\n",
    "\n",
    "df_news.head()"
   ]
  },
  {
   "cell_type": "code",
   "execution_count": 3,
   "metadata": {},
   "outputs": [],
   "source": [
    "# 載入連續詞資料\n",
    "with open('../wordbook/continous-words.txt', 'r') as file:\n",
    "    lines = file.readlines()\n",
    "\n",
    "# 將 txt 檔轉成 list\n",
    "data = [tuple(line.strip().split()) for line in lines][1:-1]\n",
    "\n",
    "# 移除標點符號\n",
    "continuous_words = []\n",
    "for item in data:\n",
    "    item_no_punctuation = tuple(''.join(char for char in word if char not in string.punctuation) for word in item)\n",
    "    continuous_words.append(item_no_punctuation)\n",
    "\n",
    "continuous_words = [\" \".join(list(pair)) for pair in continuous_words]"
   ]
  },
  {
   "cell_type": "code",
   "execution_count": 4,
   "metadata": {},
   "outputs": [
    {
     "data": {
      "text/plain": [
       "['publication',\n",
       " 'document',\n",
       " 'newspaper',\n",
       " 'database',\n",
       " 'login',\n",
       " 'docview',\n",
       " 'copyright',\n",
       " 'se',\n",
       " 'llc',\n",
       " 'inc']"
      ]
     },
     "execution_count": 4,
     "metadata": {},
     "output_type": "execute_result"
    }
   ],
   "source": [
    "# 載入連續詞資料\n",
    "with open('../wordbook/stopwords.txt', 'r') as file:\n",
    "    lines = file.readlines()[0]\n",
    "    \n",
    "our_stopwords = lines.strip('[\"').strip('\"]').split('\",\"')\n",
    "our_stopwords[0:10]"
   ]
  },
  {
   "cell_type": "markdown",
   "metadata": {},
   "source": [
    "## Data Preprocessing"
   ]
  },
  {
   "cell_type": "code",
   "execution_count": 5,
   "metadata": {},
   "outputs": [],
   "source": [
    "from nltk import pos_tag\n",
    "from nltk.tokenize import RegexpTokenizer\n",
    "from nltk.corpus import wordnet\n",
    "from nltk.stem import WordNetLemmatizer\n",
    "from nltk.corpus import stopwords\n",
    "import re"
   ]
  },
  {
   "cell_type": "code",
   "execution_count": 6,
   "metadata": {},
   "outputs": [],
   "source": [
    "def get_wordnet_pos(treebank_tag):\n",
    "    if treebank_tag.startswith('J'):\n",
    "        return wordnet.ADJ\n",
    "    elif treebank_tag.startswith('V'):\n",
    "        return wordnet.VERB\n",
    "    elif treebank_tag.startswith('N'):\n",
    "        return wordnet.NOUN\n",
    "    elif treebank_tag.startswith('R'):\n",
    "        return wordnet.ADV\n",
    "    elif treebank_tag.startswith('S'):\n",
    "        return wordnet.ADJ_SAT\n",
    "    else:\n",
    "        return wordnet.NOUN\n",
    "\n",
    "def preprocess(articles):\n",
    "    tokenizer = RegexpTokenizer(r'\\b[^\\'\\d\\W]+\\b')\n",
    "    # Lowercase\n",
    "    articles = [article.lower() for article in articles]\n",
    "    # Remove Chinese characters\n",
    "    articles = [re.sub(r'[\\u4e00-\\u9fff]+', '', article) for article in articles]\n",
    "    # Execute tokenization\n",
    "    tokenized_articles = [tokenizer.tokenize(article) for article in articles]\n",
    "    # Concatenate multi-word terms\n",
    "    for article_index, article in enumerate(tokenized_articles):\n",
    "        article_length = len(article)\n",
    "        i = 0\n",
    "        while i < article_length - 1:\n",
    "            if article[i] + ' ' + article[i + 1] in continuous_words:  # Add more multi-word terms as needed\n",
    "                tokenized_articles[article_index][i] = article[i] + '_' + article[i + 1]\n",
    "                del tokenized_articles[article_index][i + 1]\n",
    "                article_length -= 1\n",
    "            i += 1\n",
    "    # Extract articles\n",
    "    selected_texts = []\n",
    "    for article in tokenized_articles:\n",
    "        if \"full_text\" in article:\n",
    "            start_idx = article.index(\"full_text\")\n",
    "            article = article[start_idx+1:]\n",
    "        if \"subject\" in article:\n",
    "            end_idx = article.index(\"subject\")\n",
    "            article = article[:end_idx]\n",
    "        selected_texts.append(article)\n",
    "    tokenized_articles = selected_texts\n",
    "    # Lemmatization\n",
    "    lemmatizer = WordNetLemmatizer()\n",
    "    preprocessed_articles = [pos_tag(article) for article in tokenized_articles]\n",
    "    # Keep only nouns, verbs\n",
    "    preprocessed_articles = [[(word, pos) for word, pos in article if pos in ['NN', 'NNS', 'VB', 'VBD', 'VBG', 'VBN', 'VBP', 'VBZ']] for article in preprocessed_articles]\n",
    "    preprocessed_articles = [[lemmatizer.lemmatize(word, get_wordnet_pos(pos)) for word, pos in article] for article in preprocessed_articles]\n",
    "    # Remove words with length less than 3\n",
    "    preprocessed_articles = [[word for word in article if len(word) > 2] for article in preprocessed_articles]\n",
    "    # Stopwords removal\n",
    "    nltk_stopwords = stopwords.words('english')\n",
    "    preprocessed_articles = [[word for word in article if word.lower() not in nltk_stopwords] for article in preprocessed_articles]\n",
    "    preprocessed_articles = [[word for word in article if word.lower() not in our_stopwords] for article in preprocessed_articles]\n",
    "    return preprocessed_articles"
   ]
  },
  {
   "cell_type": "code",
   "execution_count": 7,
   "metadata": {},
   "outputs": [],
   "source": [
    "articles_to_preprocess = df_news['contents'].tolist()\n",
    "preprocessed_articles = preprocess(articles_to_preprocess)\n",
    "df_news['preprocessed_articles'] = preprocessed_articles"
   ]
  },
  {
   "cell_type": "code",
   "execution_count": 8,
   "metadata": {},
   "outputs": [],
   "source": [
    "df_news.to_csv('../results/preprocessed_news.csv', index=False)"
   ]
  },
  {
   "cell_type": "code",
   "execution_count": null,
   "metadata": {},
   "outputs": [],
   "source": []
  }
 ],
 "metadata": {
  "kernelspec": {
   "display_name": "Python 3 (ipykernel)",
   "language": "python",
   "name": "python3"
  },
  "language_info": {
   "codemirror_mode": {
    "name": "ipython",
    "version": 3
   },
   "file_extension": ".py",
   "mimetype": "text/x-python",
   "name": "python",
   "nbconvert_exporter": "python",
   "pygments_lexer": "ipython3",
   "version": "3.11.5"
  }
 },
 "nbformat": 4,
 "nbformat_minor": 4
}
