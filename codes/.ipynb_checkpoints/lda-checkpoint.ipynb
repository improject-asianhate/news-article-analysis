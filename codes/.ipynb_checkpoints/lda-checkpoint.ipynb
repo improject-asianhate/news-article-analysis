{
 "cells": [
  {
   "cell_type": "markdown",
   "metadata": {},
   "source": [
    "## Read the data"
   ]
  },
  {
   "cell_type": "code",
   "execution_count": 1,
   "metadata": {},
   "outputs": [],
   "source": [
    "import os\n",
    "import json\n",
    "import pandas as pd\n",
    "\n",
    "df_news = pd.read_csv('../txt/labels.csv')\n",
    "for index, row in df_news.iterrows():\n",
    "    file_path = f\"../txt/{row['id']}.txt\"\n",
    "    with open(file_path, 'r', encoding='utf-8') as file:\n",
    "        file_content = file.read()\n",
    "        df_news.at[index, \"contents\"] = file_content"
   ]
  },
  {
   "cell_type": "markdown",
   "metadata": {},
   "source": [
    "## Data Preprocessing"
   ]
  },
  {
   "cell_type": "code",
   "execution_count": 2,
   "metadata": {},
   "outputs": [],
   "source": [
    "from nltk import pos_tag\n",
    "from nltk.tokenize import RegexpTokenizer\n",
    "from nltk.corpus import wordnet\n",
    "from nltk.stem import WordNetLemmatizer\n",
    "from nltk.corpus import stopwords\n",
    "from nltk.tokenize import MWETokenizer\n",
    "import nltk\n",
    "import re"
   ]
  },
  {
   "cell_type": "code",
   "execution_count": 3,
   "metadata": {},
   "outputs": [],
   "source": [
    "def compute_coherence_values(dictionary, corpus, texts, limit, start=5, step=1):\n",
    "    coherence_values = []\n",
    "    model_list = []\n",
    "    for num_topics in range(start, limit, step):\n",
    "        # Train LDA model\n",
    "        model = LdaModel(corpus=corpus, id2word=dictionary, num_topics=num_topics, random_state=100, update_every=1, chunksize=100, passes=10, alpha='auto')\n",
    "        model_list.append(model)\n",
    "        # Compute coherence value\n",
    "        coherencemodel = CoherenceModel(model=model, texts=texts, dictionary=dictionary, coherence='u_mass')\n",
    "        coherence_values.append(coherencemodel.get_coherence())\n",
    "    return model_list, coherence_values"
   ]
  },
  {
   "cell_type": "code",
   "execution_count": 4,
   "metadata": {},
   "outputs": [],
   "source": [
    "def get_wordnet_pos(treebank_tag):\n",
    "    if treebank_tag.startswith('J'):\n",
    "        return wordnet.ADJ\n",
    "    elif treebank_tag.startswith('V'):\n",
    "        return wordnet.VERB\n",
    "    elif treebank_tag.startswith('N'):\n",
    "        return wordnet.NOUN\n",
    "    elif treebank_tag.startswith('R'):\n",
    "        return wordnet.ADV\n",
    "    elif treebank_tag.startswith('S'):\n",
    "        return wordnet.ADJ_SAT\n",
    "    else:\n",
    "        return wordnet.NOUN\n",
    "\n",
    "def preprocess(articles):\n",
    "    nltk.download('stopwords')\n",
    "    nltk_stopwords = stopwords.words('english')\n",
    "    #load stopwords\n",
    "    with open('../wordbook/stopwords.txt', 'r', encoding='utf-8') as f:\n",
    "        our_stopwords = f.read()\n",
    "        our_stopwords = our_stopwords.strip('\\ufeff')\n",
    "        our_stopwords = eval(our_stopwords)\n",
    "    \n",
    "    # Lowercase\n",
    "    articles = [article.lower() for article in articles]\n",
    "    # Remove Chinese characters\n",
    "    articles = [re.sub(r'[\\u4e00-\\u9fff]+', '', article) for article in articles]\n",
    "    # Execute tokenization\n",
    "    with open('../wordbook/continous-words.txt', 'r', encoding='utf-8') as f:\n",
    "        multi_word_expressions = f.read()\n",
    "        multi_word_expressions = multi_word_expressions.strip('\\ufeff')\n",
    "        multi_word_expressions = eval(multi_word_expressions)\n",
    "    regexp_tokenizer = RegexpTokenizer(r'\\b[^\\'\\d\\W]+\\b')\n",
    "    mwe_tokenizer = MWETokenizer()\n",
    "    for expression in multi_word_expressions:\n",
    "        mwe_tokenizer.add_mwe(expression)\n",
    "    tokenized_articles = [regexp_tokenizer.tokenize(article) for article in articles]\n",
    "    tokenized_articles = [mwe_tokenizer.tokenize(article) for article in tokenized_articles]\n",
    "    # Lemmatization\n",
    "    lemmatizer = WordNetLemmatizer()\n",
    "    preprocessed_articles = [pos_tag(article) for article in tokenized_articles]\n",
    "    # Keep only nouns, verbs\n",
    "    preprocessed_articles = [[(word, pos) for word, pos in article if pos in ['NN', 'NNS', 'VB', 'VBD', 'VBG', 'VBN', 'VBP', 'VBZ']] for article in preprocessed_articles]\n",
    "    preprocessed_articles = [[lemmatizer.lemmatize(word, get_wordnet_pos(pos)) for word, pos in article] for article in preprocessed_articles]\n",
    "    # Remove words with length less than 3\n",
    "    preprocessed_articles = [[word for word in article if len(word) > 2] for article in preprocessed_articles]\n",
    "    # Stopwords removal\n",
    "    preprocessed_articles = [[word for word in article if word.lower() not in nltk_stopwords] for article in preprocessed_articles]\n",
    "    preprocessed_articles = [[word for word in article if word.lower() not in our_stopwords] for article in preprocessed_articles]\n",
    "    print(\"preprocessing finished\")\n",
    "    return preprocessed_articles\n"
   ]
  },
  {
   "cell_type": "code",
   "execution_count": 5,
   "metadata": {},
   "outputs": [],
   "source": [
    "df_news = df_news.dropna()\n",
    "df_mainstream = df_news[df_news['source'] != 'Others']\n",
    "df_not_mainstream = df_news[df_news['source'] == 'Others']"
   ]
  },
  {
   "cell_type": "code",
   "execution_count": 6,
   "metadata": {},
   "outputs": [
    {
     "name": "stderr",
     "output_type": "stream",
     "text": [
      "[nltk_data] Downloading package stopwords to\n",
      "[nltk_data]     C:\\Users\\henry\\AppData\\Roaming\\nltk_data...\n",
      "[nltk_data]   Package stopwords is already up-to-date!\n"
     ]
    },
    {
     "name": "stdout",
     "output_type": "stream",
     "text": [
      "preprocessing finished\n"
     ]
    }
   ],
   "source": [
    "goal = 'total' \n",
    "articles_to_preprocess = df_news['contents'].tolist()\n",
    "preprocessed_articles = preprocess(articles_to_preprocess)"
   ]
  },
  {
   "cell_type": "markdown",
   "metadata": {},
   "source": [
    "## Create TF-IDF corpus"
   ]
  },
  {
   "cell_type": "code",
   "execution_count": 8,
   "metadata": {},
   "outputs": [],
   "source": [
    "from gensim.corpora import Dictionary\n",
    "from gensim.models import TfidfModel"
   ]
  },
  {
   "cell_type": "code",
   "execution_count": 9,
   "metadata": {},
   "outputs": [],
   "source": [
    "# Create a dictionary representation of the documents.\n",
    "dictionary = Dictionary(preprocessed_articles)\n",
    "dictionary.filter_extremes(no_below=7, no_above=0.3)\n",
    "corpus = [dictionary.doc2bow(article) for article in preprocessed_articles]\n",
    "\n",
    "# Get TF-IDF scores\n",
    "tfidf = TfidfModel(corpus)  \n",
    "tfidf_corpus = tfidf[corpus]"
   ]
  },
  {
   "cell_type": "markdown",
   "metadata": {},
   "source": [
    "## Train LDA model\n"
   ]
  },
  {
   "cell_type": "code",
   "execution_count": 10,
   "metadata": {},
   "outputs": [],
   "source": [
    "from gensim.models.ldamodel import LdaModel\n",
    "from gensim.models.coherencemodel import CoherenceModel\n",
    "import pandas as pd\n",
    "from gensim import corpora\n",
    "from gensim.models import LdaModel\n",
    "\n",
    "def compute_perplexity_values(dictionary, corpus, texts, limit, start=5, step=1):\n",
    "    perplexity_values = []\n",
    "    model_list = []\n",
    "    for num_topics in range(start, limit, step):\n",
    "        # Train LDA model\n",
    "        model = LdaModel(corpus=corpus, id2word=dictionary, num_topics=num_topics, random_state=100, update_every=1, chunksize=100, passes=10, alpha='auto')\n",
    "        model_list.append(model)\n",
    "        # Compute perplexity value\n",
    "        perplexity = model.log_perplexity(corpus)\n",
    "        perplexity_values.append(perplexity)\n",
    "    return model_list, perplexity_values\n"
   ]
  },
  {
   "cell_type": "code",
   "execution_count": 11,
   "metadata": {},
   "outputs": [],
   "source": [
    "# Compute coherence values\n",
    "model_list, coherence_values = compute_coherence_values(dictionary=dictionary, corpus=corpus, texts=preprocessed_articles, start=10, limit=15, step=1)\n",
    "best_model = model_list[coherence_values.index(max(coherence_values))]"
   ]
  },
  {
   "cell_type": "markdown",
   "metadata": {},
   "source": [
    "輸出各主題的前 20 名關鍵字"
   ]
  },
  {
   "cell_type": "code",
   "execution_count": 28,
   "metadata": {},
   "outputs": [],
   "source": [
    "# Set the number of keywords to 20\n",
    "num_keywords = 20\n",
    "# Get the top keywords for each topic\n",
    "topics = best_model.show_topics(num_topics=-1, num_words=num_keywords, formatted=False)\n",
    "# Create a dictionary to store the keywords\n",
    "keywords = {}\n",
    "for topic in topics:\n",
    "    keywords[topic[0]] = [word for word, _ in topic[1]]\n",
    "\n",
    "# Save the keywords\n",
    "with open(f'../results/keywords.json', 'w') as f:\n",
    "    json.dump(keywords, f)"
   ]
  },
  {
   "cell_type": "markdown",
   "metadata": {},
   "source": [
    "## Select the dominant topic for each document"
   ]
  },
  {
   "cell_type": "markdown",
   "metadata": {},
   "source": [
    "儲存機率"
   ]
  },
  {
   "cell_type": "code",
   "execution_count": 27,
   "metadata": {},
   "outputs": [],
   "source": [
    "# Get the most probable topic for each document\n",
    "topics = best_model[corpus]\n",
    "d = []\n",
    "id = 0\n",
    "for topic in topics:\n",
    "    o = {\"id\": df_news.iloc[id].id, \"odd\": topic}\n",
    "    d.append(o)\n",
    "    id += 1\n",
    "df = pd.DataFrame(d)\n",
    "df.to_csv(f\"../results/odd_{goal}.csv\", index=False)\n"
   ]
  },
  {
   "cell_type": "code",
   "execution_count": 26,
   "metadata": {},
   "outputs": [],
   "source": [
    "def find_max_category(odd_list):\n",
    "    max_category = None\n",
    "    max_prob = -1\n",
    "    for item in odd_list:\n",
    "        if item[1] > max_prob:\n",
    "            max_prob = item[1]\n",
    "            max_category = item[0]\n",
    "    return max_category\n",
    "\n",
    "# 將最大分類添加到新的 class 列中\n",
    "df['class'] = df['odd'].apply(find_max_category)\n",
    "class_counts = df['class'].value_counts()\n",
    "class_7_count = class_counts.get(7, 0)  # 如果沒有值為 7 的話，返回 0"
   ]
  },
  {
   "cell_type": "code",
   "execution_count": 15,
   "metadata": {},
   "outputs": [],
   "source": [
    "df_mainstream = df_news[df_news['source'] != 'Others']\n",
    "df_not_mainstream = df_news[df_news['source'] == 'Others']"
   ]
  },
  {
   "cell_type": "code",
   "execution_count": 16,
   "metadata": {},
   "outputs": [],
   "source": [
    "class_mainstream =pd.merge(df, df_mainstream, on='id', suffixes=('_df1', '_df2'), how='inner')\n",
    "class_mainstream_counts = class_mainstream['class'].value_counts()\n"
   ]
  },
  {
   "cell_type": "code",
   "execution_count": 17,
   "metadata": {},
   "outputs": [],
   "source": [
    "class_not_mainstream =pd.merge(df, df_not_mainstream, on='id', suffixes=('_df1', '_df2'), how='inner')\n",
    "class_not_mainstream_counts = class_not_mainstream['class'].value_counts()\n"
   ]
  },
  {
   "cell_type": "code",
   "execution_count": 24,
   "metadata": {},
   "outputs": [],
   "source": [
    "class_list = df['class'].unique().tolist()\n",
    "r_mainstream = []\n",
    "r_not_mainstream = []\n",
    "for c in class_list:\n",
    "    r_mainstream.append((c, class_mainstream_counts.get(c,0)/class_counts.get(c, 1)/df_mainstream.shape[0]))\n",
    "    r_not_mainstream.append((c, class_not_mainstream_counts.get(c,0)/class_counts.get(c, 1)/df_not_mainstream.shape[0]))\n",
    "r_mainstream = sorted(r_mainstream, key=lambda x: x[0])\n",
    "r_not_mainstream = sorted(r_not_mainstream, key=lambda x: x[0])"
   ]
  },
  {
   "cell_type": "code",
   "execution_count": 19,
   "metadata": {},
   "outputs": [
    {
     "data": {
      "image/png": "[encoded data removed]",
      "text/plain": [
       "<Figure size 1000x500 with 1 Axes>"
      ]
     },
     "metadata": {},
     "output_type": "display_data"
    }
   ],
   "source": [
    "import matplotlib.pyplot as plt\n",
    "import numpy as np\n",
    "x1, y1 = zip(*r_mainstream)\n",
    "x2, y2 = zip(*r_not_mainstream)\n",
    "fig, ax = plt.subplots(figsize=(10, 5))\n",
    "ax.bar(np.array(x1) - 0.1, y1, width=0.2, color='blue', alpha=0.5, label='mainstream')\n",
    "ax.bar(np.array(x2) + 0.1, y2, width=0.2, color='red', alpha=0.5, label='not_mainstream')\n",
    "ax.set_title('Bar Chart')\n",
    "ax.set_xlabel('Class')\n",
    "ax.set_ylabel('Value')\n",
    "ax.set_xticks(np.arange(len(x1)))\n",
    "ax.legend()\n",
    "plt.savefig('../results/bar_chart.png', bbox_inches='tight')\n",
    "plt.show()\n"
   ]
  },
  {
   "cell_type": "markdown",
   "metadata": {},
   "source": [
    "## Select the dominant documents for each topic"
   ]
  },
  {
   "cell_type": "markdown",
   "metadata": {},
   "source": [
    "對於每個主題，選擇最具代表性的兩篇文章，並儲存"
   ]
  },
  {
   "cell_type": "code",
   "execution_count": 20,
   "metadata": {},
   "outputs": [],
   "source": [
    "topics = [max(topic, key=lambda x: x[1]) for topic in topics]\n"
   ]
  },
  {
   "cell_type": "code",
   "execution_count": 25,
   "metadata": {},
   "outputs": [],
   "source": [
    "# Select 10 best documents for each topic\n",
    "# Convert topics to a dataframe\n",
    "topics_df = pd.DataFrame(topics, columns=['dominant topic', 'prob'])\n",
    "topics_df['doc_id'] = topics_df.index\n",
    "# Select 10 best documents for each topic\n",
    "best_docs = topics_df.groupby('dominant topic').apply(lambda x: x.nlargest(2, 'prob')).reset_index(drop=True)\n",
    "# Save the best documents\n",
    "best_docs.to_csv(f'../results/best_docs_{goal}.csv', index=False)"
   ]
  },
  {
   "cell_type": "code",
   "execution_count": null,
   "metadata": {},
   "outputs": [],
   "source": []
  }
 ],
 "metadata": {
  "kernelspec": {
   "display_name": "Python 3 (ipykernel)",
   "language": "python",
   "name": "python3"
  },
  "language_info": {
   "codemirror_mode": {
    "name": "ipython",
    "version": 3
   },
   "file_extension": ".py",
   "mimetype": "text/x-python",
   "name": "python",
   "nbconvert_exporter": "python",
   "pygments_lexer": "ipython3",
   "version": "3.11.5"
  }
 },
 "nbformat": 4,
 "nbformat_minor": 4
}
