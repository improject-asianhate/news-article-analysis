{
 "cells": [
  {
   "cell_type": "markdown",
   "metadata": {},
   "source": [
    "## Main Purpose\n",
    "針對新聞文章進行前處理\n",
    "- Input: \n",
    "    - 新聞文章之 txt 檔（一篇文章一篇）\n",
    "    - 日期與媒體來源標記\n",
    "    - 停用詞庫\n",
    "    - 連續詞庫\n",
    "    - 同義詞庫\n",
    "- Output: 二維的陣列"
   ]
  },
  {
   "cell_type": "markdown",
   "metadata": {},
   "source": [
    "## Read the data"
   ]
  },
  {
   "cell_type": "code",
   "execution_count": 1,
   "metadata": {},
   "outputs": [],
   "source": [
    "import os\n",
    "import json\n",
    "import string\n",
    "import pandas as pd\n",
    "from datetime import datetime\n",
    "import warnings\n",
    "warnings.filterwarnings(\"ignore\")"
   ]
  },
  {
   "cell_type": "code",
   "execution_count": 3,
   "metadata": {},
   "outputs": [
    {
     "ename": "UnicodeDecodeError",
     "evalue": "'cp950' codec can't decode byte 0xe2 in position 1271: illegal multibyte sequence",
     "output_type": "error",
     "traceback": [
      "\u001b[1;31m---------------------------------------------------------------------------\u001b[0m",
      "\u001b[1;31mUnicodeDecodeError\u001b[0m                        Traceback (most recent call last)",
      "Cell \u001b[1;32mIn[3], line 7\u001b[0m\n\u001b[0;32m      5\u001b[0m \u001b[38;5;28;01mwith\u001b[39;00m \u001b[38;5;28mopen\u001b[39m(\u001b[38;5;124m\"\u001b[39m\u001b[38;5;124m../txt/\u001b[39m\u001b[38;5;124m\"\u001b[39m \u001b[38;5;241m+\u001b[39m file, \u001b[38;5;124m'\u001b[39m\u001b[38;5;124mr\u001b[39m\u001b[38;5;124m'\u001b[39m) \u001b[38;5;28;01mas\u001b[39;00m f:\n\u001b[0;32m      6\u001b[0m     \u001b[38;5;28;01mif\u001b[39;00m file \u001b[38;5;241m!=\u001b[39m \u001b[38;5;124m\"\u001b[39m\u001b[38;5;124mlabels.csv\u001b[39m\u001b[38;5;124m\"\u001b[39m:\n\u001b[1;32m----> 7\u001b[0m         df_articles\u001b[38;5;241m.\u001b[39mloc[\u001b[38;5;28mlen\u001b[39m(df_articles\u001b[38;5;241m.\u001b[39mindex)] \u001b[38;5;241m=\u001b[39m [\u001b[38;5;28mint\u001b[39m(file\u001b[38;5;241m.\u001b[39mreplace(\u001b[38;5;124m'\u001b[39m\u001b[38;5;124m.txt\u001b[39m\u001b[38;5;124m'\u001b[39m, \u001b[38;5;124m'\u001b[39m\u001b[38;5;124m'\u001b[39m)), \u001b[38;5;124m\"\u001b[39m\u001b[38;5;124m \u001b[39m\u001b[38;5;124m\"\u001b[39m\u001b[38;5;241m.\u001b[39mjoin(\u001b[43mf\u001b[49m\u001b[38;5;241;43m.\u001b[39;49m\u001b[43mreadlines\u001b[49m\u001b[43m(\u001b[49m\u001b[43m)\u001b[49m)]\n\u001b[0;32m      8\u001b[0m     \u001b[38;5;28;01melse\u001b[39;00m:\n\u001b[0;32m      9\u001b[0m         df_label \u001b[38;5;241m=\u001b[39m pd\u001b[38;5;241m.\u001b[39mread_csv(\u001b[38;5;124m\"\u001b[39m\u001b[38;5;124m../txt/\u001b[39m\u001b[38;5;124m\"\u001b[39m \u001b[38;5;241m+\u001b[39m file) \n",
      "\u001b[1;31mUnicodeDecodeError\u001b[0m: 'cp950' codec can't decode byte 0xe2 in position 1271: illegal multibyte sequence"
     ]
    }
   ],
   "source": [
    "# 載入新聞文章、日期、媒體資料\n",
    "all_files = os.listdir(\"../txt/\")\n",
    "df_articles = pd.DataFrame(columns=['id','contents'])\n",
    "for file in all_files:\n",
    "    with open(\"../txt/\" + file, 'r', encoding='utf-8') as f:\n",
    "        if file != \"labels.csv\":\n",
    "            df_articles.loc[len(df_articles.index)] = [int(file.replace('.txt', '')), \" \".join(f.readlines())]\n",
    "        else:\n",
    "            df_label = pd.read_csv(\"../txt/\" + file) \n",
    "\n",
    "# 合併新聞文章、日期、媒體資料\n",
    "df_news = pd.merge(df_articles, df_label, on='id', how='left').reset_index(drop=True)\n",
    "\n",
    "# 移除缺失值\n",
    "df_news = df_news.dropna()\n",
    "\n",
    "df_news.head()"
   ]
  },
  {
   "cell_type": "code",
   "execution_count": null,
   "metadata": {},
   "outputs": [],
   "source": [
    "# 載入連續詞資料\n",
    "with open('../wordbook/continous-words.txt', 'r') as file:\n",
    "    lines = file.readlines()\n",
    "\n",
    "# 將 txt 檔轉成 list\n",
    "data = [tuple(line.strip().split()) for line in lines][1:-1]\n",
    "\n",
    "# 移除標點符號\n",
    "continuous_words = []\n",
    "for item in data:\n",
    "    item_no_punctuation = tuple(''.join(char for char in word if char not in string.punctuation) for word in item)\n",
    "    continuous_words.append(item_no_punctuation)\n",
    "\n",
    "continuous_words = [\" \".join(list(pair)) for pair in continuous_words]"
   ]
  },
  {
   "cell_type": "code",
   "execution_count": null,
   "metadata": {},
   "outputs": [],
   "source": [
    "# 載入連續詞資料\n",
    "with open('../wordbook/stopwords.txt', 'r') as file:\n",
    "    lines = file.readlines()[0]\n",
    "    \n",
    "our_stopwords = lines.strip('[\"').strip('\"]').split('\",\"')\n",
    "our_stopwords[0:10]"
   ]
  },
  {
   "cell_type": "markdown",
   "metadata": {},
   "source": [
    "## Data Preprocessing"
   ]
  },
  {
   "cell_type": "code",
   "execution_count": null,
   "metadata": {},
   "outputs": [],
   "source": [
    "from nltk import pos_tag\n",
    "from nltk.tokenize import RegexpTokenizer\n",
    "from nltk.corpus import wordnet\n",
    "from nltk.stem import WordNetLemmatizer\n",
    "from nltk.corpus import stopwords\n",
    "import re"
   ]
  },
  {
   "cell_type": "code",
   "execution_count": null,
   "metadata": {},
   "outputs": [],
   "source": [
    "def get_wordnet_pos(treebank_tag):\n",
    "    if treebank_tag.startswith('J'):\n",
    "        return wordnet.ADJ\n",
    "    elif treebank_tag.startswith('V'):\n",
    "        return wordnet.VERB\n",
    "    elif treebank_tag.startswith('N'):\n",
    "        return wordnet.NOUN\n",
    "    elif treebank_tag.startswith('R'):\n",
    "        return wordnet.ADV\n",
    "    elif treebank_tag.startswith('S'):\n",
    "        return wordnet.ADJ_SAT\n",
    "    else:\n",
    "        return wordnet.NOUN\n",
    "\n",
    "def preprocess(articles):\n",
    "    tokenizer = RegexpTokenizer(r'\\b[^\\'\\d\\W]+\\b')\n",
    "    # Lowercase\n",
    "    articles = [article.lower() for article in articles]\n",
    "    # Remove Chinese characters\n",
    "    articles = [re.sub(r'[\\u4e00-\\u9fff]+', '', article) for article in articles]\n",
    "    # Execute tokenization\n",
    "    tokenized_articles = [tokenizer.tokenize(article) for article in articles]\n",
    "    # Concatenate multi-word terms\n",
    "    for article_index, article in enumerate(tokenized_articles):\n",
    "        article_length = len(article)\n",
    "        i = 0\n",
    "        while i < article_length - 1:\n",
    "            if article[i] + ' ' + article[i + 1] in continuous_words:  # Add more multi-word terms as needed\n",
    "                tokenized_articles[article_index][i] = article[i] + '_' + article[i + 1]\n",
    "                del tokenized_articles[article_index][i + 1]\n",
    "                article_length -= 1\n",
    "            i += 1\n",
    "    # Extract articles\n",
    "    selected_texts = []\n",
    "    for article in tokenized_articles:\n",
    "        if \"full_text\" in article:\n",
    "            start_idx = article.index(\"full_text\")\n",
    "            article = article[start_idx+1:]\n",
    "        if \"subject\" in article:\n",
    "            end_idx = article.index(\"subject\")\n",
    "            article = article[:end_idx]\n",
    "        selected_texts.append(article)\n",
    "    tokenized_articles = selected_texts\n",
    "    # Lemmatization\n",
    "    lemmatizer = WordNetLemmatizer()\n",
    "    preprocessed_articles = [pos_tag(article) for article in tokenized_articles]\n",
    "    # Keep only nouns, verbs\n",
    "    preprocessed_articles = [[(word, pos) for word, pos in article if pos in ['NN', 'NNS', 'VB', 'VBD', 'VBG', 'VBN', 'VBP', 'VBZ']] for article in preprocessed_articles]\n",
    "    preprocessed_articles = [[lemmatizer.lemmatize(word, get_wordnet_pos(pos)) for word, pos in article] for article in preprocessed_articles]\n",
    "    # Remove words with length less than 3\n",
    "    preprocessed_articles = [[word for word in article if len(word) > 2] for article in preprocessed_articles]\n",
    "    # Stopwords removal\n",
    "    nltk_stopwords = stopwords.words('english')\n",
    "    preprocessed_articles = [[word for word in article if word.lower() not in nltk_stopwords] for article in preprocessed_articles]\n",
    "    preprocessed_articles = [[word for word in article if word.lower() not in our_stopwords] for article in preprocessed_articles]\n",
    "    return preprocessed_articles"
   ]
  },
  {
   "cell_type": "code",
   "execution_count": null,
   "metadata": {},
   "outputs": [],
   "source": [
    "articles_to_preprocess = df_news['contents'].tolist()\n",
    "preprocessed_articles = preprocess(articles_to_preprocess)\n",
    "df_news['preprocessed_articles'] = preprocessed_articles"
   ]
  },
  {
   "cell_type": "code",
   "execution_count": null,
   "metadata": {},
   "outputs": [],
   "source": [
    "df_news.to_csv('../data/preprocessed_news.csv', index=False)"
   ]
  }
 ],
 "metadata": {
  "kernelspec": {
   "display_name": "Python 3 (ipykernel)",
   "language": "python",
   "name": "python3"
  },
  "language_info": {
   "codemirror_mode": {
    "name": "ipython",
    "version": 3
   },
   "file_extension": ".py",
   "mimetype": "text/x-python",
   "name": "python",
   "nbconvert_exporter": "python",
   "pygments_lexer": "ipython3",
   "version": "3.11.5"
  }
 },
 "nbformat": 4,
 "nbformat_minor": 4
}
