{
 "cells": [
  {
   "cell_type": "markdown",
   "metadata": {},
   "source": [
    "# LDA Analysis\n",
    "## Main Research Questions\n",
    "\n",
    "主流/非主流媒體的比較：\n",
    "\n",
    "- 排名前十個概念 (concept) 是否有顯著不同\n",
    "- 報導 Anti-Asian Racism 態度上是否不同（中立性、支持 Asian 性、強調 Anti-Asian 對社會上種族不平等的嚴重性）\n",
    "\n",
    "## Methodology\n",
    "- 將全部的文章作為訓練集，訓練 LDA 模型\n",
    "- 找出能夠區分出主流/非主流的主題"
   ]
  },
  {
   "cell_type": "markdown",
   "metadata": {},
   "source": [
    "## Read the data\n",
    "讀入先前處理好的文章"
   ]
  },
  {
   "cell_type": "code",
   "execution_count": 60,
   "metadata": {},
   "outputs": [],
   "source": [
    "import os\n",
    "import json\n",
    "import pandas as pd"
   ]
  },
  {
   "cell_type": "code",
   "execution_count": 61,
   "metadata": {},
   "outputs": [],
   "source": [
    "df_news = pd.read_csv('../results/preprocessed_news.csv')\n",
    "preprocessed_articles = [article.strip(\"['\").strip(\"']\").split(\"', '\") for article in df_news['preprocessed_articles'].tolist()]"
   ]
  },
  {
   "cell_type": "code",
   "execution_count": 62,
   "metadata": {},
   "outputs": [
    {
     "data": {
      "text/html": [
       "<div>\n",
       "<style scoped>\n",
       "    .dataframe tbody tr th:only-of-type {\n",
       "        vertical-align: middle;\n",
       "    }\n",
       "\n",
       "    .dataframe tbody tr th {\n",
       "        vertical-align: top;\n",
       "    }\n",
       "\n",
       "    .dataframe thead th {\n",
       "        text-align: right;\n",
       "    }\n",
       "</style>\n",
       "<table border=\"1\" class=\"dataframe\">\n",
       "  <thead>\n",
       "    <tr style=\"text-align: right;\">\n",
       "      <th></th>\n",
       "      <th>id</th>\n",
       "      <th>contents</th>\n",
       "      <th>source</th>\n",
       "      <th>date</th>\n",
       "      <th>preprocessed_contents</th>\n",
       "      <th>preprocessed_articles</th>\n",
       "    </tr>\n",
       "  </thead>\n",
       "  <tbody>\n",
       "    <tr>\n",
       "      <th>0</th>\n",
       "      <td>289</td>\n",
       "      <td>Find a copy\\n Abstract\\n document 1 of 1\\n Ful...</td>\n",
       "      <td>Others</td>\n",
       "      <td>202102</td>\n",
       "      <td>find copy text bling queen emperor star bling ...</td>\n",
       "      <td>['bling', 'queen', 'emperor', 'star', 'bling',...</td>\n",
       "    </tr>\n",
       "    <tr>\n",
       "      <th>1</th>\n",
       "      <td>504</td>\n",
       "      <td>ProQuest\\n document 1 of 1\\n Full Text Newspap...</td>\n",
       "      <td>Others</td>\n",
       "      <td>202104</td>\n",
       "      <td>text time hurt honor columbus time hurt honor ...</td>\n",
       "      <td>['time', 'hurt', 'honor', 'columbus', 'time', ...</td>\n",
       "    </tr>\n",
       "    <tr>\n",
       "      <th>2</th>\n",
       "      <td>262</td>\n",
       "      <td>Find a copy\\n Abstract\\n document 1 of 1\\n Ful...</td>\n",
       "      <td>Others</td>\n",
       "      <td>202010</td>\n",
       "      <td>find copy text racism condition covid statisti...</td>\n",
       "      <td>['racism', 'condition', 'covid', 'statistic', ...</td>\n",
       "    </tr>\n",
       "    <tr>\n",
       "      <th>3</th>\n",
       "      <td>276</td>\n",
       "      <td>Find a copy\\n Abstract\\n document 1 of 1\\n Ful...</td>\n",
       "      <td>Others</td>\n",
       "      <td>202102</td>\n",
       "      <td>find copy text state consulate sunday call end...</td>\n",
       "      <td>['united_states', 'consulate', 'sunday', 'call...</td>\n",
       "    </tr>\n",
       "    <tr>\n",
       "      <th>4</th>\n",
       "      <td>510</td>\n",
       "      <td>ProQuest\\n document 1 of 1\\n Full Text Newspap...</td>\n",
       "      <td>Others</td>\n",
       "      <td>202104</td>\n",
       "      <td>text time stop racism cannot bystander attack ...</td>\n",
       "      <td>['time', 'stop', 'racism', 'cannot', 'bystande...</td>\n",
       "    </tr>\n",
       "  </tbody>\n",
       "</table>\n",
       "</div>"
      ],
      "text/plain": [
       "    id                                           contents  source    date  \\\n",
       "0  289  Find a copy\\n Abstract\\n document 1 of 1\\n Ful...  Others  202102   \n",
       "1  504  ProQuest\\n document 1 of 1\\n Full Text Newspap...  Others  202104   \n",
       "2  262  Find a copy\\n Abstract\\n document 1 of 1\\n Ful...  Others  202010   \n",
       "3  276  Find a copy\\n Abstract\\n document 1 of 1\\n Ful...  Others  202102   \n",
       "4  510  ProQuest\\n document 1 of 1\\n Full Text Newspap...  Others  202104   \n",
       "\n",
       "                               preprocessed_contents  \\\n",
       "0  find copy text bling queen emperor star bling ...   \n",
       "1  text time hurt honor columbus time hurt honor ...   \n",
       "2  find copy text racism condition covid statisti...   \n",
       "3  find copy text state consulate sunday call end...   \n",
       "4  text time stop racism cannot bystander attack ...   \n",
       "\n",
       "                               preprocessed_articles  \n",
       "0  ['bling', 'queen', 'emperor', 'star', 'bling',...  \n",
       "1  ['time', 'hurt', 'honor', 'columbus', 'time', ...  \n",
       "2  ['racism', 'condition', 'covid', 'statistic', ...  \n",
       "3  ['united_states', 'consulate', 'sunday', 'call...  \n",
       "4  ['time', 'stop', 'racism', 'cannot', 'bystande...  "
      ]
     },
     "execution_count": 62,
     "metadata": {},
     "output_type": "execute_result"
    }
   ],
   "source": [
    "df_news.head()"
   ]
  },
  {
   "cell_type": "markdown",
   "metadata": {},
   "source": [
    "## Create TF-IDF corpus"
   ]
  },
  {
   "cell_type": "code",
   "execution_count": 65,
   "metadata": {},
   "outputs": [],
   "source": [
    "from gensim.corpora import Dictionary\n",
    "from gensim.models import TfidfModel"
   ]
  },
  {
   "cell_type": "code",
   "execution_count": 66,
   "metadata": {},
   "outputs": [],
   "source": [
    "# Create a dictionary representation of the documents.\n",
    "dictionary = Dictionary(preprocessed_articles)\n",
    "dictionary.filter_extremes(no_below=7, no_above=0.3)\n",
    "corpus = [dictionary.doc2bow(article) for article in preprocessed_articles]\n",
    "\n",
    "# Get TF-IDF scores\n",
    "tfidf = TfidfModel(corpus)  \n",
    "tfidf_corpus = tfidf[corpus]"
   ]
  },
  {
   "cell_type": "markdown",
   "metadata": {},
   "source": [
    "## Train LDA model\n"
   ]
  },
  {
   "cell_type": "code",
   "execution_count": 67,
   "metadata": {},
   "outputs": [],
   "source": [
    "from gensim.models.ldamodel import LdaModel\n",
    "from gensim.models.coherencemodel import CoherenceModel\n",
    "import pandas as pd\n",
    "from gensim import corpora\n",
    "from gensim.models import LdaModel\n",
    "\n",
    "def compute_perplexity_values(dictionary, corpus, texts, limit, start=5, step=1):\n",
    "    perplexity_values = []\n",
    "    model_list = []\n",
    "    for num_topics in range(start, limit, step):\n",
    "        # Train LDA model\n",
    "        model = LdaModel(corpus=corpus, id2word=dictionary, num_topics=num_topics, random_state=100, update_every=1, chunksize=100, passes=10, alpha='auto')\n",
    "        model_list.append(model)\n",
    "        # Compute perplexity value\n",
    "        perplexity = model.log_perplexity(corpus)\n",
    "        perplexity_values.append(perplexity)\n",
    "    return model_list, perplexity_values\n",
    "\n",
    "def compute_coherence_values(dictionary, corpus, texts, limit, start=5, step=1):\n",
    "    coherence_values = []\n",
    "    model_list = []\n",
    "    for num_topics in range(start, limit, step):\n",
    "        # Train LDA model\n",
    "        model = LdaModel(corpus=corpus, id2word=dictionary, num_topics=num_topics, random_state=100, update_every=1, chunksize=100, passes=10, alpha='auto')\n",
    "        model_list.append(model)\n",
    "        # Compute coherence value\n",
    "        coherencemodel = CoherenceModel(model=model, texts=texts, dictionary=dictionary, coherence='u_mass')\n",
    "        coherence_values.append(coherencemodel.get_coherence())\n",
    "    return model_list, coherence_values"
   ]
  },
  {
   "cell_type": "code",
   "execution_count": 68,
   "metadata": {},
   "outputs": [],
   "source": [
    "# Compute coherence values\n",
    "model_list, coherence_values = compute_coherence_values(dictionary=dictionary, corpus=corpus, texts=preprocessed_articles, start=10, limit=15, step=1)\n",
    "best_model = model_list[coherence_values.index(max(coherence_values))]"
   ]
  },
  {
   "cell_type": "markdown",
   "metadata": {},
   "source": [
    "輸出各主題的前 20 名關鍵字"
   ]
  },
  {
   "cell_type": "code",
   "execution_count": 69,
   "metadata": {},
   "outputs": [],
   "source": [
    "# Set the number of keywords to 20\n",
    "num_keywords = 20\n",
    "# Get the top keywords for each topic\n",
    "topics = best_model.show_topics(num_topics=-1, num_words=num_keywords, formatted=False)\n",
    "# Create a dictionary to store the keywords\n",
    "keywords = {}\n",
    "for topic in topics:\n",
    "    keywords[topic[0]] = [word for word, _ in topic[1]]\n",
    "\n",
    "# Save the keywords\n",
    "with open(f'../results/keywords_media.json', 'w') as f:\n",
    "    json.dump(keywords, f)"
   ]
  },
  {
   "cell_type": "markdown",
   "metadata": {},
   "source": [
    "## Select the dominant topic for each document"
   ]
  },
  {
   "cell_type": "markdown",
   "metadata": {},
   "source": [
    "儲存每篇文章對每個主題的機率"
   ]
  },
  {
   "cell_type": "code",
   "execution_count": 70,
   "metadata": {},
   "outputs": [],
   "source": [
    "# Get the most probable topic for each document\n",
    "topics = best_model[corpus]\n",
    "d = []\n",
    "id = 0\n",
    "for topic in topics:\n",
    "    o = {\"id\": df_news.iloc[id].id, \"odd\": topic}\n",
    "    d.append(o)\n",
    "    id += 1\n",
    "df = pd.DataFrame(d)\n",
    "df.to_csv(f\"../results/odd_media.csv\", index=False)"
   ]
  },
  {
   "cell_type": "code",
   "execution_count": 71,
   "metadata": {},
   "outputs": [],
   "source": [
    "def find_max_category(odd_list):\n",
    "    max_category = None\n",
    "    max_prob = -1\n",
    "    for item in odd_list:\n",
    "        if item[1] > max_prob:\n",
    "            max_prob = item[1]\n",
    "            max_category = item[0]\n",
    "    return max_category\n",
    "\n",
    "# 將最大分類添加到新的 class 列中\n",
    "df['class'] = df['odd'].apply(find_max_category)\n",
    "class_counts = df['class'].value_counts()\n",
    "class_7_count = class_counts.get(7, 0)  # 如果沒有值為 7 的話，返回 0"
   ]
  },
  {
   "cell_type": "code",
   "execution_count": 72,
   "metadata": {},
   "outputs": [],
   "source": [
    "df_mainstream = df_news[df_news['source'] != 'Others']\n",
    "df_not_mainstream = df_news[df_news['source'] == 'Others']"
   ]
  },
  {
   "cell_type": "code",
   "execution_count": 73,
   "metadata": {},
   "outputs": [],
   "source": [
    "class_mainstream =pd.merge(df, df_mainstream, on='id', suffixes=('_df1', '_df2'), how='inner')\n",
    "class_mainstream_counts = class_mainstream['class'].value_counts()"
   ]
  },
  {
   "cell_type": "code",
   "execution_count": 74,
   "metadata": {},
   "outputs": [],
   "source": [
    "class_not_mainstream =pd.merge(df, df_not_mainstream, on='id', suffixes=('_df1', '_df2'), how='inner')\n",
    "class_not_mainstream_counts = class_not_mainstream['class'].value_counts()"
   ]
  },
  {
   "cell_type": "code",
   "execution_count": 75,
   "metadata": {},
   "outputs": [],
   "source": [
    "class_list = df['class'].unique().tolist()\n",
    "r_mainstream = []\n",
    "r_not_mainstream = []\n",
    "for c in class_list:\n",
    "    r_mainstream.append((c, class_mainstream_counts.get(c,0)/class_counts.get(c, 1)/df_mainstream.shape[0]))\n",
    "    r_not_mainstream.append((c, class_not_mainstream_counts.get(c,0)/class_counts.get(c, 1)/df_not_mainstream.shape[0]))\n",
    "r_mainstream = sorted(r_mainstream, key=lambda x: x[0])\n",
    "r_not_mainstream = sorted(r_not_mainstream, key=lambda x: x[0])"
   ]
  },
  {
   "cell_type": "code",
   "execution_count": 76,
   "metadata": {},
   "outputs": [
    {
     "data": {
      "image/png": "[encoded data removed]",
      "text/plain": [
       "<Figure size 1000x500 with 1 Axes>"
      ]
     },
     "metadata": {},
     "output_type": "display_data"
    }
   ],
   "source": [
    "import matplotlib.pyplot as plt\n",
    "import numpy as np\n",
    "x1, y1 = zip(*r_mainstream)\n",
    "x2, y2 = zip(*r_not_mainstream)\n",
    "fig, ax = plt.subplots(figsize=(10, 5))\n",
    "ax.bar(np.array(x1) - 0.1, y1, width=0.2, color='blue', alpha=0.5, label='mainstream')\n",
    "ax.bar(np.array(x2) + 0.1, y2, width=0.2, color='red', alpha=0.5, label='not_mainstream')\n",
    "ax.set_title('Bar Chart')\n",
    "ax.set_xlabel('Class')\n",
    "ax.set_ylabel('Value')\n",
    "ax.set_xticks(np.arange(len(x1)))\n",
    "ax.legend()\n",
    "plt.savefig('../results/bar_chart.png', bbox_inches='tight')\n",
    "plt.show()\n"
   ]
  },
  {
   "cell_type": "markdown",
   "metadata": {},
   "source": [
    "## Select the dominant documents for each topic"
   ]
  },
  {
   "cell_type": "markdown",
   "metadata": {},
   "source": [
    "對於每個主題，選擇最具代表性的兩篇文章，並儲存"
   ]
  },
  {
   "cell_type": "code",
   "execution_count": 77,
   "metadata": {},
   "outputs": [],
   "source": [
    "topics = [max(topic, key=lambda x: x[1]) for topic in topics]"
   ]
  },
  {
   "cell_type": "code",
   "execution_count": 78,
   "metadata": {},
   "outputs": [],
   "source": [
    "# Select 10 best documents for each topic\n",
    "# Convert topics to a dataframe\n",
    "topics_df = pd.DataFrame(topics, columns=['dominant topic', 'prob'])\n",
    "topics_df['doc_id'] = topics_df.index\n",
    "# Select 10 best documents for each topic\n",
    "best_docs = topics_df.groupby('dominant topic').apply(lambda x: x.nlargest(2, 'prob')).reset_index(drop=True)\n",
    "# Save the best documents\n",
    "best_docs.to_csv(f'../results/best_docs_media.csv', index=False)"
   ]
  }
 ],
 "metadata": {
  "kernelspec": {
   "display_name": "Python 3 (ipykernel)",
   "language": "python",
   "name": "python3"
  },
  "language_info": {
   "codemirror_mode": {
    "name": "ipython",
    "version": 3
   },
   "file_extension": ".py",
   "mimetype": "text/x-python",
   "name": "python",
   "nbconvert_exporter": "python",
   "pygments_lexer": "ipython3",
   "version": "3.10.10"
  }
 },
 "nbformat": 4,
 "nbformat_minor": 4
}
