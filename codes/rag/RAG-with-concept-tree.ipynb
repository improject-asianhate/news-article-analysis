{
 "cells": [
  {
   "cell_type": "markdown",
   "metadata": {},
   "source": [
    "## Load OpenAI's LLM"
   ]
  },
  {
   "cell_type": "code",
   "execution_count": 132,
   "metadata": {},
   "outputs": [],
   "source": [
    "from langchain_openai import ChatOpenAI\n",
    "import getpass\n",
    "import os\n",
    "\n",
    "os.environ[\"OPENAI_API_KEY\"] = getpass.getpass()\n",
    "llm = ChatOpenAI(model=\"gpt-4o\")"
   ]
  },
  {
   "cell_type": "markdown",
   "metadata": {},
   "source": [
    "## Indexing\n",
    "### Load"
   ]
  },
  {
   "cell_type": "code",
   "execution_count": 133,
   "metadata": {},
   "outputs": [
    {
     "name": "stdout",
     "output_type": "stream",
     "text": [
      "126 documents loaded\n"
     ]
    }
   ],
   "source": [
    "# Load the pdf documents from ./glossary\n",
    "from langchain_community.document_loaders import PyPDFDirectoryLoader\n",
    "loader = PyPDFDirectoryLoader(\"./glossary\")\n",
    "docs = loader.load()\n",
    "print(len(docs), \"documents loaded\")"
   ]
  },
  {
   "cell_type": "markdown",
   "metadata": {},
   "source": [
    "### Split\n",
    "Our loaded document is over 42k characters long. This is too long to fit in the context window of many models. Even for those models that could fit the full post in their context window, models can struggle to find information in very long inputs.\n",
    "\n",
    "To handle this we’ll split the Document into chunks for embedding and vector storage. This should help us retrieve only the most relevant bits of the blog post at run time."
   ]
  },
  {
   "cell_type": "code",
   "execution_count": 134,
   "metadata": {},
   "outputs": [
    {
     "data": {
      "text/plain": [
       "370"
      ]
     },
     "execution_count": 134,
     "metadata": {},
     "output_type": "execute_result"
    }
   ],
   "source": [
    "from langchain_text_splitters import RecursiveCharacterTextSplitter\n",
    "\n",
    "text_splitter = RecursiveCharacterTextSplitter(\n",
    "    chunk_size=1000, chunk_overlap=200, add_start_index=True\n",
    ")\n",
    "all_splits = text_splitter.split_documents(docs)\n",
    "\n",
    "len(all_splits)"
   ]
  },
  {
   "cell_type": "markdown",
   "metadata": {},
   "source": [
    "### Store\n",
    "\n",
    "Now we need to index our text chunks so that we can search over them at runtime. The most common way to do this is to **embed the contents of each document split** and **insert these embeddings into a vector database** (or vector store)."
   ]
  },
  {
   "cell_type": "code",
   "execution_count": 135,
   "metadata": {},
   "outputs": [],
   "source": [
    "from langchain_chroma import Chroma # Chroma vector store\n",
    "from langchain_openai import OpenAIEmbeddings\n",
    "\n",
    "vectorstore = Chroma.from_documents(documents=all_splits, embedding=OpenAIEmbeddings())"
   ]
  },
  {
   "cell_type": "markdown",
   "metadata": {},
   "source": [
    "## Retrieval and Generation"
   ]
  },
  {
   "cell_type": "markdown",
   "metadata": {},
   "source": [
    "### Retrieval"
   ]
  },
  {
   "cell_type": "code",
   "execution_count": 136,
   "metadata": {},
   "outputs": [
    {
     "data": {
      "text/plain": [
       "5"
      ]
     },
     "execution_count": 136,
     "metadata": {},
     "output_type": "execute_result"
    }
   ],
   "source": [
    "retriever = vectorstore.as_retriever(search_type=\"similarity\", search_kwargs={\"k\": 5})  \n",
    "retrieved_docs = retriever.invoke(\"What is Model Minority?\")\n",
    "\n",
    "len(retrieved_docs)"
   ]
  },
  {
   "cell_type": "markdown",
   "metadata": {},
   "source": [
    "### Generation"
   ]
  },
  {
   "cell_type": "markdown",
   "metadata": {},
   "source": [
    "Read the example article"
   ]
  },
  {
   "cell_type": "code",
   "execution_count": 137,
   "metadata": {},
   "outputs": [
    {
     "name": "stdout",
     "output_type": "stream",
     "text": [
      "There’s an old saying about traditions: Abandon a tradition it tells us and you will soon learn why it became one. That’s what California cities are learning today as city councils around the state have acted on the urging of Black Lives Matter protesters and diverted portions of their former police budgets to social action causes in previously underserved neighborhoods. But the spate of anti-Asian violence now playing out in California communities as disparate as Sacramento San Jose Los Angeles San Leandro and Orange County dramatically shows this was folly. The logical police response to on-street attacks ought to be more foot and squad car patrols but that’s not happening in most places despite the rise in anti-Asian hate crimes. So they continue showing no signs of abating. Before the coronavirus pandemic this was not a big problem. Hate crimes against Asians were relatively few and far between. But a huge upswing began just about the time ex-President Donald Trump dubbed the coronavirus plague the “Chinese virus.” Atlanta shootings: Racism clearly drove Atlanta shootings. It also fuels sexual exploitation of Asian women. Around California these crimes have far more than doubled over the last year but no one can put a precise number on them. In San Francisco they have at least tripled. In Los Angeles there have been more than twice as many this year as a year ago. But official numbers are likely far lower than in real life partly because police don’t do much about the attacks. Not even 700-person rallies decrying the attacks like one the other day in San Jose can stop them. The head of a Southern California group called Asian-Americans Advancing Justice told one reporter many such crimes go unreported because of language problems immigrants unable to communicate with police. Plus she said “When victims … come forward having the police say nothing can be done discourages other victims from relying on police.” Some immigrant advocates also say Korean-Americans and other Asian groups are perceiving new bias among police officers perhaps caused by the Trump rhetoric. Keith Ellison and Jonathan Greenblatt: Stand together to fight anti-Asian hate. We all have a stake in a more inclusive America. But the mere presence of cops on street patrol could have stopped one early March assault on an elderly Asian man who was seated in a Nob Hill laundromat in San Francisco when at attacker ambushed him. Police presence probably would have spared the death of Vicha Ratanapakdee an 84-year-old Thai-American beaten to death in broad daylight also in San Francisco. Neither of their assailants has been identified like most others conducting the current spate of attacks. There are also less violent but still threatening incidents. One Asian-American woman stopped at a red light the other day in Fresno and a man in the next car signaled she should roll down her window. When she did he shouted “Get out of my country — that’s an order.” After pausing he reportedly added “I’ll kill you.” All this is a demonstration that even a “model minority” noted for high achievement and founding large and successful businesses of many types can suddenly be targeted especially when national leaders become loose-lipped about their own prejudices. It also shows that not only California but the entire nation needs effective policing to protect minorities who have no way to know when they might be victimized even if their particular ethnic group enjoys generally high public esteem. Because bigots have always picked on those they see as weak this is especially important for elderly and frail individuals. Yes the pandemic appears to have originated in or near the Chinese city of Wuhan. But there is no evidence it was deliberately perpetrated on the world. The claim that it was amounts to a blood libel against Chinese individuals who would have been thousands of miles away even if deeds like this had been done. Because most others have difficulty discerning Asians’ native nationalities simply from their appearance all Asian-Americans are now at serious risk especially if they don’t look strong a la the Los Angeles Angels’ 6-foot 4-inch 210 pound Shohei Otani. Police are their only assured protection from random violence and bigotry when they leave their homes. And the fewer cops on the street the more danger for them. Which is just one reason it makes little sense to defund police as Americans are now discovering.\n",
      "\n"
     ]
    }
   ],
   "source": [
    "with open(\"./articles/example.txt\", \"r\") as f:\n",
    "    text = f.read()\n",
    "\n",
    "example_article = ' '.join(text.split('\\n\\n')[4:])\n",
    "print(example_article)"
   ]
  },
  {
   "cell_type": "markdown",
   "metadata": {},
   "source": [
    "Read the concept tree"
   ]
  },
  {
   "cell_type": "code",
   "execution_count": 174,
   "metadata": {},
   "outputs": [],
   "source": [
    "with open(\"./concept_tree.txt\", \"r\") as f:\n",
    "    concept_tree = f.read()"
   ]
  },
  {
   "cell_type": "markdown",
   "metadata": {},
   "source": [
    "Citation Setup"
   ]
  },
  {
   "cell_type": "code",
   "execution_count": 144,
   "metadata": {},
   "outputs": [],
   "source": [
    "from langchain_core.pydantic_v1 import BaseModel, Field\n",
    "from operator import itemgetter\n",
    "from typing import List\n",
    "\n",
    "\n",
    "class CitedAnswer(BaseModel):\n",
    "    \"\"\"Answer the user question based only on the given sources, and cite the sources used.\"\"\"\n",
    "\n",
    "    answer: str = Field(\n",
    "        ...,\n",
    "        description=\"The analysis the user's news article (include main topics and relevant concepts), which is based only on the given sources and the concept tree.\",\n",
    "    )\n",
    "    citations: List[int] = Field(\n",
    "        ...,\n",
    "        description=\"The source name of the SPECIFIC sources which justify the answer.\",\n",
    "    )\n",
    "\n",
    "structured_llm = llm.with_structured_output(CitedAnswer)"
   ]
  },
  {
   "cell_type": "code",
   "execution_count": 176,
   "metadata": {},
   "outputs": [],
   "source": [
    "from langchain_core.prompts import ChatPromptTemplate, PromptTemplate\n",
    "from langchain_core.output_parsers import StrOutputParser\n",
    "from langchain_core.runnables import RunnablePassthrough\n",
    "\n",
    "def format_docs(docs):\n",
    "    return \"\\n\\n\".join(doc.page_content for doc in docs)\n",
    "\n",
    "def format_docs_with_id(docs):\n",
    "    formatted = [\n",
    "        f\"Source ID: {i}\\nArticle Title: {doc.metadata['source']}\\nArticle Snippet: {doc.page_content}\"\n",
    "        for i, doc in enumerate(docs)\n",
    "    ]\n",
    "    return \"\\n\\n\" + \"\\n\\n\".join(formatted)\n",
    "\n",
    "template = \"\"\"\n",
    "You are an helpful assistant who can analyze the news article provided by the user using the given context and concept tree. Use the following pieces of context and the concept tree to analyze the article at the end.\n",
    "Context: {context}\n",
    "Concept Tree: {concept_tree}\n",
    "\n",
    "Your analysis should include:\n",
    "- Relevant Concepts: Identify the concepts from the provided hierarchical concept tree that are mentioned or relevant to the article. List these concepts and briefly explain their connection to the article's content, quoting the related sentences. Ensure the title of each concept exactly matches the concept name in the tree. Additionally, show all parent concepts of the relevant concepts.\n",
    "\n",
    "Also, here are some tips to help you structure your analysis:\n",
    "- When identifying relevant concepts from the tree, consider both explicit mentions and implicit references. Include parent concepts if multiple child concepts are relevant.\n",
    "- Provide brief explanations for why you've selected each concept to justify your choices.\n",
    "- If there are ambiguities or multiple interpretations possible, mention these in your analysis.\n",
    "\n",
    "Article: {input}\n",
    "\n",
    "Now, begin your analysis of the news article:\n",
    "\"\"\"\n",
    "custom_rag_prompt = PromptTemplate.from_template(template)\n",
    "\n",
    "rag_chain_from_docs = (\n",
    "    RunnablePassthrough.assign(context=(lambda x: format_docs_with_id(x[\"context\"])), concept_tree= lambda x: concept_tree)\n",
    "    | custom_rag_prompt\n",
    "    | structured_llm\n",
    ")\n",
    "\n",
    "retrieve_docs = (lambda x: x[\"input\"]) | retriever\n",
    "\n",
    "chain = RunnablePassthrough.assign(context=retrieve_docs).assign(\n",
    "    answer=rag_chain_from_docs\n",
    ")"
   ]
  },
  {
   "cell_type": "code",
   "execution_count": 177,
   "metadata": {},
   "outputs": [],
   "source": [
    "result = chain.invoke({\"input\": example_article})"
   ]
  },
  {
   "cell_type": "code",
   "execution_count": 178,
   "metadata": {},
   "outputs": [
    {
     "name": "stdout",
     "output_type": "stream",
     "text": [
      "{'answer': '**Relevant Concepts:**\\n\\n1. **COVID-19/coronavirus/pandemic (Triggering anti-Asian hate)**\\n   - The article mentions the dramatic increase in anti-Asian hate crimes coinciding with the COVID-19 pandemic, specifically noting that it began around the time ex-President Donald Trump referred to the coronavirus as the “Chinese virus.” This concept is directly connected to the context of the pandemic fueling discrimination against Asian Americans. \\n   - Quote: “But a huge upswing began just about the time ex-President Donald Trump dubbed the coronavirus plague the ‘Chinese virus.’”\\n\\n2. **Types of Anti-Asian hate > Individual-level racism > Stereotype B (with hatred) > China/Chinese/Asian virus”/“Kung flu/plague/Ramen noodle flu**\\n   - The derogatory term “Chinese virus” used by Donald Trump is an example of the stereotypes and hateful language mentioned in the article. This aligns with the concept of using terms like “China/Chinese/Asian virus” to incite hate.\\n   - Quote: “But a huge upswing began just about the time ex-President Donald Trump dubbed the coronavirus plague the ‘Chinese virus.’”\\n\\n3. **Types of Anti-Asian hate > Individual-level racism > Bigotry/prejudice > Scapegoat > Racism toward Asian women**\\n   - The article discusses the racism and sexual exploitation faced by Asian women, as seen in the context of the Atlanta shootings. This falls under the concept of scapegoating and the specific targeting of Asian women.\\n   - Quote: “Atlanta shootings: Racism clearly drove Atlanta shootings. It also fuels sexual exploitation of Asian women.”\\n\\n4. **Types of Anti-Asian hate > Individual-level racism > Racial discrimination > Physical attack/violence > Anti-Asian hate crimes (investigated by police)**\\n   - The article details various physical attacks on Asian Americans, including the assault on an elderly Asian man and the death of Vicha Ratanapakdee. This highlights the physical violence faced by Asian Americans, which is investigated by police.\\n   - Quote: “Police presence probably would have spared the death of Vicha Ratanapakdee an 84-year-old Thai-American beaten to death in broad daylight also in San Francisco.”\\n\\n5. **Reactions toward Anti-Asian Hate > Law enforcement agency > Local police (e.g., city- and state-level) > Useless law enforcement > Did not take a report on Anti-Asian hate crime**\\n   - The article points out the ineffectiveness of police in addressing anti-Asian hate crimes, including instances where crimes go unreported or police do nothing about the attacks. This aligns with the concept of useless law enforcement failing to take reports on anti-Asian hate crimes.\\n   - Quote: “But official numbers are likely far lower than in real life partly because police don’t do much about the attacks.”\\n\\n6. **Reactions toward Anti-Asian Hate > Government officers > City > Stop Anti-Asian hate/Support Asian Americans > Increasing patrols**\\n   - The article suggests that increasing police patrols could have prevented some of the attacks on Asian Americans, indicating a need for more effective policing as a response to anti-Asian hate.\\n   - Quote: “The logical police response to on-street attacks ought to be more foot and squad car patrols...”\\n\\n7. **Impacts of Anti-Asian hate on Asian Americans > Psychological > worry about safety/being discriminated > Children are afraid of going to school**\\n   - The article touches on the widespread fear among Asian Americans, making them feel unsafe in public spaces. This falls under the concept of psychological impacts, specifically the worry about safety and discrimination.\\n   - Quote: “Police are their only assured protection from random violence and bigotry when they leave their homes.”\\n\\n**Citations:**\\nSources: 0, 2, 4', 'citations': [0, 2, 4]}\n"
     ]
    }
   ],
   "source": [
    "result_dict = dict(result[\"answer\"])\n",
    "print(result_dict)"
   ]
  },
  {
   "cell_type": "code",
   "execution_count": 179,
   "metadata": {},
   "outputs": [],
   "source": [
    "# Save result_dict to a .md file\n",
    "with open(\"./output.md\", \"w\") as f:\n",
    "    f.write(f\"{result_dict['answer']}\")"
   ]
  }
 ],
 "metadata": {
  "kernelspec": {
   "display_name": "rag",
   "language": "python",
   "name": "python3"
  },
  "language_info": {
   "codemirror_mode": {
    "name": "ipython",
    "version": 3
   },
   "file_extension": ".py",
   "mimetype": "text/x-python",
   "name": "python",
   "nbconvert_exporter": "python",
   "pygments_lexer": "ipython3",
   "version": "3.10.14"
  }
 },
 "nbformat": 4,
 "nbformat_minor": 2
}
