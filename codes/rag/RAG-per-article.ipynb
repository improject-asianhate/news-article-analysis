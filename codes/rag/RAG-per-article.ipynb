{
 "cells": [
  {
   "cell_type": "markdown",
   "metadata": {},
   "source": [
    "## Load OpenAI's LLM"
   ]
  },
  {
   "cell_type": "code",
   "execution_count": 11,
   "metadata": {},
   "outputs": [],
   "source": [
    "from langchain_openai import ChatOpenAI\n",
    "import getpass\n",
    "import os\n",
    "\n",
    "os.environ[\"OPENAI_API_KEY\"] = getpass.getpass()\n",
    "llm = ChatOpenAI(model=\"gpt-4o-mini\")"
   ]
  },
  {
   "cell_type": "markdown",
   "metadata": {},
   "source": [
    "## Indexing\n",
    "### Load Glossary"
   ]
  },
  {
   "cell_type": "code",
   "execution_count": 12,
   "metadata": {},
   "outputs": [
    {
     "name": "stdout",
     "output_type": "stream",
     "text": [
      "126 documents loaded\n"
     ]
    }
   ],
   "source": [
    "# Load the pdf documents from ./glossary\n",
    "from langchain_community.document_loaders import PyPDFDirectoryLoader\n",
    "loader = PyPDFDirectoryLoader(\"./glossary\")\n",
    "docs = loader.load()\n",
    "print(len(docs), \"documents loaded\")"
   ]
  },
  {
   "cell_type": "markdown",
   "metadata": {},
   "source": [
    "### Split\n",
    "Our loaded document is over 42k characters long. This is too long to fit in the context window of many models. Even for those models that could fit the full post in their context window, models can struggle to find information in very long inputs.\n",
    "\n",
    "To handle this we’ll split the Document into chunks for embedding and vector storage. This should help us retrieve only the most relevant bits of the blog post at run time."
   ]
  },
  {
   "cell_type": "code",
   "execution_count": 13,
   "metadata": {},
   "outputs": [
    {
     "data": {
      "text/plain": [
       "370"
      ]
     },
     "execution_count": 13,
     "metadata": {},
     "output_type": "execute_result"
    }
   ],
   "source": [
    "from langchain_text_splitters import RecursiveCharacterTextSplitter\n",
    "\n",
    "text_splitter = RecursiveCharacterTextSplitter(\n",
    "    chunk_size=1000, chunk_overlap=200, add_start_index=True\n",
    ")\n",
    "all_splits = text_splitter.split_documents(docs)\n",
    "\n",
    "len(all_splits)"
   ]
  },
  {
   "cell_type": "markdown",
   "metadata": {},
   "source": [
    "### Store\n",
    "\n",
    "Now we need to index our text chunks so that we can search over them at runtime. The most common way to do this is to **embed the contents of each document split** and **insert these embeddings into a vector database** (or vector store)."
   ]
  },
  {
   "cell_type": "code",
   "execution_count": 14,
   "metadata": {},
   "outputs": [],
   "source": [
    "from langchain_chroma import Chroma # Chroma vector store\n",
    "from langchain_openai import OpenAIEmbeddings\n",
    "\n",
    "vectorstore = Chroma.from_documents(documents=all_splits, embedding=OpenAIEmbeddings(), persist_directory=\"vectorstore\")"
   ]
  },
  {
   "cell_type": "markdown",
   "metadata": {},
   "source": [
    "## Retrieval and Generation"
   ]
  },
  {
   "cell_type": "markdown",
   "metadata": {},
   "source": [
    "### Retrieval"
   ]
  },
  {
   "cell_type": "code",
   "execution_count": 15,
   "metadata": {},
   "outputs": [
    {
     "data": {
      "text/plain": [
       "5"
      ]
     },
     "execution_count": 15,
     "metadata": {},
     "output_type": "execute_result"
    }
   ],
   "source": [
    "retriever = vectorstore.as_retriever(search_type=\"similarity\", search_kwargs={\"k\": 5})  \n",
    "retrieved_docs = retriever.invoke(\"What is Model Minority?\")\n",
    "\n",
    "len(retrieved_docs)"
   ]
  },
  {
   "cell_type": "markdown",
   "metadata": {},
   "source": [
    "### Generation"
   ]
  },
  {
   "cell_type": "markdown",
   "metadata": {},
   "source": [
    "Read the example articles"
   ]
  },
  {
   "cell_type": "code",
   "execution_count": 16,
   "metadata": {},
   "outputs": [
    {
     "name": "stdout",
     "output_type": "stream",
     "text": [
      "5\n"
     ]
    }
   ],
   "source": [
    "len_articles = 5\n",
    "example_articles = []\n",
    "for i in range(1, len_articles + 1):\n",
    "    with open(f\"./articles/{i}.txt\", \"r\") as f:\n",
    "        example_articles.append(f.read())\n",
    "\n",
    "print(len(example_articles))"
   ]
  },
  {
   "cell_type": "code",
   "execution_count": 17,
   "metadata": {},
   "outputs": [],
   "source": [
    "from langchain_core.prompts import ChatPromptTemplate, PromptTemplate\n",
    "from langchain_core.output_parsers import StrOutputParser\n",
    "from langchain_core.runnables import RunnablePassthrough\n",
    "\n",
    "\n",
    "def format_docs(docs):\n",
    "    return \"\\n\\n\".join(doc.page_content for doc in docs)\n",
    "\n",
    "def format_docs_with_id(docs):\n",
    "    formatted = [\n",
    "        f\"Source ID: {i}\\nArticle Title: {doc.metadata['source']}\\nArticle Snippet: {doc.page_content}\"\n",
    "        for i, doc in enumerate(docs)\n",
    "    ]\n",
    "    return \"\\n\\n\" + \"\\n\\n\".join(formatted)\n",
    "\n",
    "prompt_template_path = \"prompt_per_article/prompt_template.txt\"\n",
    "with open(prompt_template_path, \"r\") as f:\n",
    "    template = f.read()\n",
    "\n",
    "custom_rag_prompt = PromptTemplate.from_template(template)\n",
    "\n",
    "rag_chain_from_docs = (\n",
    "    RunnablePassthrough.assign(context=(lambda x: format_docs_with_id(x[\"context\"])))\n",
    "    | custom_rag_prompt\n",
    "    | llm\n",
    ")\n",
    "\n",
    "retrieve_docs = (lambda x: x[\"input\"]) | retriever\n",
    "\n",
    "chain = RunnablePassthrough.assign(context=retrieve_docs).assign(\n",
    "    answer=rag_chain_from_docs\n",
    ")"
   ]
  },
  {
   "cell_type": "code",
   "execution_count": 18,
   "metadata": {},
   "outputs": [
    {
     "name": "stderr",
     "output_type": "stream",
     "text": [
      "5it [00:56, 11.30s/it]\n"
     ]
    }
   ],
   "source": [
    "from tqdm import tqdm\n",
    "results = []\n",
    "for i, example_article in tqdm(enumerate(example_articles)):\n",
    "    result = chain.invoke({\"input\": example_article})\n",
    "    results.append(result)"
   ]
  },
  {
   "cell_type": "code",
   "execution_count": 20,
   "metadata": {},
   "outputs": [
    {
     "name": "stdout",
     "output_type": "stream",
     "text": [
      "<result>\n",
      "{\n",
      "  \"metadata\": {\n",
      "    \"title\": \"Anti-Asian violence shows folly of defunding police movement\",\n",
      "    \"date\": \"2021-03-21\",\n",
      "    \"publisher\": \"USA Today\",\n",
      "    \"author\": \"Tom Elias\",\n",
      "    \"asian\": \"false\"\n",
      "  },\n",
      "  \"racism_types\": [\n",
      "    \"Macro-level racism > systematic racism > racial injustice/inequity and oppression\",\n",
      "    \"Macro-level racism > systematic racism > white supremacy\",\n",
      "    \"Macro-level racism > systematic racism > Racial bias\",\n",
      "    \"Individual-level racism > Stereotype B (with hatred) > China/Chinese/Asian virus\",\n",
      "    \"Individual-level racism > Stereotype B (with hatred) > Perpetual/forever foreigner (Go back to China)\",\n",
      "    \"Individual-level racism > Bigotry/prejudice > Scapegoat > Racism toward Asian women\",\n",
      "    \"Individual-level racism > Bigotry/prejudice > Scapegoat > Xenophobia\",\n",
      "    \"Individual-level racism > Racial discrimination > Physical attack/violence > Anti-Asian hate crimes (investigated by police)\",\n",
      "    \"Individual-level racism > Racial discrimination > Physical attack/violence > Non-crime (not being investigated by police)\"\n",
      "  ],\n",
      "  \"entities\": [\n",
      "    {\n",
      "      \"name\": \"Vicha Ratanapakdee\",\n",
      "      \"identity\": \"victim\",\n",
      "      \"profession\": \"Unknown\",\n",
      "      \"reactions\": {\n",
      "        \"actions\": [\"Beaten to death in broad daylight\"],\n",
      "        \"emotions\": [\"sadness\"],\n",
      "        \"attitudes\": [\n",
      "          {\n",
      "            \"attitude\": \"Negative\",\n",
      "            \"toward\": \"the violence he suffered\"\n",
      "          }\n",
      "        ]\n",
      "      }\n",
      "    },\n",
      "    {\n",
      "      \"name\": \"Asian-Americans Advancing Justice representative\",\n",
      "      \"identity\": \"witness\",\n",
      "      \"profession\": \"advocate\",\n",
      "      \"reactions\": {\n",
      "        \"actions\": [\"Reported that many crimes go unreported due to language barriers\"],\n",
      "        \"emotions\": [\"fear\"],\n",
      "        \"attitudes\": [\n",
      "          {\n",
      "            \"attitude\": \"Negative\",\n",
      "            \"toward\": \"the lack of police response\"\n",
      "          }\n",
      "        ]\n",
      "      }\n",
      "    },\n",
      "    {\n",
      "      \"name\": \"Asian-American woman in Fresno\",\n",
      "      \"identity\": \"victim\",\n",
      "      \"profession\": \"Unknown\",\n",
      "      \"reactions\": {\n",
      "        \"actions\": [\"Harassed at a stoplight\"],\n",
      "        \"emotions\": [\"fear\"],\n",
      "        \"attitudes\": [\n",
      "          {\n",
      "            \"attitude\": \"Negative\",\n",
      "            \"toward\": \"the harassment she experienced\"\n",
      "          }\n",
      "        ]\n",
      "      }\n",
      "    },\n",
      "    {\n",
      "      \"name\": \"general public\",\n",
      "      \"identity\": \"general public\",\n",
      "      \"profession\": \"Unknown\",\n",
      "      \"reactions\": {\n",
      "        \"actions\": [\"Held 700-person rallies decrying the attacks\"],\n",
      "        \"emotions\": [\"anger\"],\n",
      "        \"attitudes\": [\n",
      "          {\n",
      "            \"attitude\": \"Negative\",\n",
      "            \"toward\": \"the ongoing violence against Asian individuals\"\n",
      "          }\n",
      "        ]\n",
      "      }\n",
      "    },\n",
      "    {\n",
      "      \"name\": \"police\",\n",
      "      \"identity\": \"institution\",\n",
      "      \"profession\": \"law enforcement\",\n",
      "      \"reactions\": {\n",
      "        \"actions\": [\"Not increasing patrols despite rising anti-Asian hate crimes\"],\n",
      "        \"emotions\": [\"disgust\"],\n",
      "        \"attitudes\": [\n",
      "          {\n",
      "            \"attitude\": \"Negative\",\n",
      "            \"toward\": \"the lack of effective policing\"\n",
      "          }\n",
      "        ]\n",
      "      }\n",
      "    }\n",
      "  ]\n",
      "}\n",
      "</result>\n"
     ]
    }
   ],
   "source": [
    "print(results[0][\"answer\"].content)"
   ]
  },
  {
   "cell_type": "markdown",
   "metadata": {},
   "source": [
    "## Save the results"
   ]
  },
  {
   "cell_type": "code",
   "execution_count": 21,
   "metadata": {},
   "outputs": [
    {
     "name": "stdout",
     "output_type": "stream",
     "text": [
      "[{'metadata': {'title': 'Anti-Asian violence shows folly of defunding police movement', 'date': '2021-03-21', 'publisher': 'USA Today', 'author': 'Tom Elias', 'asian': 'false'}, 'racism_types': ['Macro-level racism > systematic racism > racial injustice/inequity and oppression', 'Macro-level racism > systematic racism > white supremacy', 'Macro-level racism > systematic racism > Racial bias', 'Individual-level racism > Stereotype B (with hatred) > China/Chinese/Asian virus', 'Individual-level racism > Stereotype B (with hatred) > Perpetual/forever foreigner (Go back to China)', 'Individual-level racism > Bigotry/prejudice > Scapegoat > Racism toward Asian women', 'Individual-level racism > Bigotry/prejudice > Scapegoat > Xenophobia', 'Individual-level racism > Racial discrimination > Physical attack/violence > Anti-Asian hate crimes (investigated by police)', 'Individual-level racism > Racial discrimination > Physical attack/violence > Non-crime (not being investigated by police)'], 'entities': [{'name': 'Vicha Ratanapakdee', 'identity': 'victim', 'profession': 'Unknown', 'reactions': {'actions': ['Beaten to death in broad daylight'], 'emotions': ['sadness'], 'attitudes': [{'attitude': 'Negative', 'toward': 'the violence he suffered'}]}}, {'name': 'Asian-Americans Advancing Justice representative', 'identity': 'witness', 'profession': 'advocate', 'reactions': {'actions': ['Reported that many crimes go unreported due to language barriers'], 'emotions': ['fear'], 'attitudes': [{'attitude': 'Negative', 'toward': 'the lack of police response'}]}}, {'name': 'Asian-American woman in Fresno', 'identity': 'victim', 'profession': 'Unknown', 'reactions': {'actions': ['Harassed at a stoplight'], 'emotions': ['fear'], 'attitudes': [{'attitude': 'Negative', 'toward': 'the harassment she experienced'}]}}, {'name': 'general public', 'identity': 'general public', 'profession': 'Unknown', 'reactions': {'actions': ['Held 700-person rallies decrying the attacks'], 'emotions': ['anger'], 'attitudes': [{'attitude': 'Negative', 'toward': 'the ongoing violence against Asian individuals'}]}}, {'name': 'police', 'identity': 'institution', 'profession': 'law enforcement', 'reactions': {'actions': ['Not increasing patrols despite rising anti-Asian hate crimes'], 'emotions': ['disgust'], 'attitudes': [{'attitude': 'Negative', 'toward': 'the lack of effective policing'}]}}]}, {'metadata': {'title': 'After Georgia Attacks Asian Americans Demand Serious Action on Bias', 'date': '2021-03-18', 'publisher': 'New York Times', 'author': 'Eligon John, Fuller Thomas, Cowan Jill', 'asian': 'false'}, 'racism_types': ['Macro-level racism > systematic racism > racial injustice/inequity and oppression', 'Macro-level racism > systematic racism > white supremacy', 'Macro-level racism > systematic racism > white privilege', 'Macro-level racism > systematic racism > Racial bias', 'Individual-level racism > Stereotype B (with hatred) > China/Chinese/Asian virus/Kung flu/plague/Ramen noodle flu', 'Individual-level racism > Stereotype B (with hatred) > yellow peril', 'Individual-level racism > Bigotry/prejudice > Scapegoat > Racism toward Asian women', 'Individual-level racism > Bigotry/prejudice > Scapegoat > Misogyny', 'Individual-level racism > Bigotry/prejudice > Scapegoat > Xenophobia', 'Individual-level racism > Racial discrimination > Physical attack/violence > Anti-Asian hate crimes (investigated by police) > Attacked by White or not specified'], 'entities': [{'name': 'Victim 1', 'identity': 'victim', 'profession': 'Unknown', 'reactions': {'actions': [], 'emotions': ['sadness'], 'attitudes': [{'attitude': 'Negative', 'toward': 'anti-Asian discrimination'}]}}, {'name': 'Angela Hsu', 'identity': 'witness', 'profession': 'lawyer', 'reactions': {'actions': ['expressed disbelief in violence against Asian Americans'], 'emotions': ['fear'], 'attitudes': [{'attitude': 'Negative', 'toward': 'discrimination against Asian Americans'}]}}, {'name': 'Chris J. Lee', 'identity': 'activist', 'profession': 'founder of Plan A Magazine', 'reactions': {'actions': ['highlighted the invisibility of Asian Americans'], 'emotions': ['anger'], 'attitudes': [{'attitude': 'Negative', 'toward': 'societal dismissal of anti-Asian violence'}]}}, {'name': 'Will Lex Ham', 'identity': 'activist', 'profession': 'actor', 'reactions': {'actions': ['led a campaign of awareness'], 'emotions': ['anger'], 'attitudes': [{'attitude': 'Negative', 'toward': 'discrimination against Asians'}]}}, {'name': 'David Chiu', 'identity': 'politician', 'profession': 'California state Assembly member', 'reactions': {'actions': ['demanded an Asian American attorney general'], 'emotions': ['anger'], 'attitudes': [{'attitude': 'Negative', 'toward': 'lack of representation in law enforcement'}]}}, {'name': 'Suraiya Sharker', 'identity': 'community organizer', 'profession': 'community organizer with the National Asian Pacific American Women’s Forum', 'reactions': {'actions': ['received calls from members in distress'], 'emotions': ['fear'], 'attitudes': [{'attitude': 'Negative', 'toward': 'vulnerability of Asian American families'}]}}]}, {'metadata': {'title': 'Asian Americans Are Being Attacked. Why Are Hate Crime Charges So Rare?', 'date': '2021-03-18', 'publisher': 'New York Times', 'author': 'Nicole Hong, Jonah E. Bromwich', 'asian': 'false'}, 'racism_types': ['Macro-level racism > systematic racism > racial injustice/inequity and oppression', 'Macro-level racism > systematic racism > white supremacy', 'Macro-level racism > systematic racism > racial bias', 'Individual-level racism > Stereotype B (with hatred) > China/Chinese/Asian virus', 'Individual-level racism > Bigotry/prejudice > Scapegoat > Racism toward Asian women', 'Individual-level racism > Racial discrimination > Physical attack/violence > Anti-Asian hate crimes (investigated by police)', 'Individual-level racism > Racial discrimination > harassments > Verbal'], 'entities': [{'name': 'Victim 1', 'identity': 'victim', 'profession': 'Unknown', 'reactions': {'actions': [], 'emotions': ['fear'], 'attitudes': [{'attitude': 'Negative', 'toward': 'the violence against Asian Americans'}]}}, {'name': 'Perpetrator 1', 'identity': 'suspect', 'profession': 'Unknown', 'reactions': {'actions': ['attacked the victim'], 'emotions': ['Unknown'], 'attitudes': [{'attitude': 'Negative', 'toward': 'Asian Americans'}]}}, {'name': 'Don Lee', 'identity': 'community activist', 'profession': 'activist', 'reactions': {'actions': ['spoke at the rally', 'protested outside the Manhattan District Attorney’s Office'], 'emotions': ['anger'], 'attitudes': [{'attitude': 'Negative', 'toward': 'the lack of recognition of hate crimes'}]}}, {'name': 'Robert Aaron Long', 'identity': 'suspect', 'profession': 'Unknown', 'reactions': {'actions': ['denied harboring a racial bias'], 'emotions': ['Unknown'], 'attitudes': [{'attitude': 'Negative', 'toward': 'Asian victims'}]}}, {'name': 'Wayne Ho', 'identity': 'community leader', 'profession': 'president of the Chinese-American Planning Council', 'reactions': {'actions': ['expressed concern about police involvement'], 'emotions': ['fear'], 'attitudes': [{'attitude': 'Negative', 'toward': 'police treatment of minorities'}]}}, {'name': 'Alice Wong', 'identity': 'colleague', 'profession': 'Unknown', 'reactions': {'actions': ['reflected on the consequences of jail'], 'emotions': ['fear'], 'attitudes': [{'attitude': 'Negative', 'toward': 'the effectiveness of jailing perpetrators'}]}}, {'name': 'Elizabeth OuYang', 'identity': 'civil rights lawyer', 'profession': 'lawyer', 'reactions': {'actions': ['supervised the educational program'], 'emotions': ['trust'], 'attitudes': [{'attitude': 'Positive', 'toward': 'the potential for change in attitudes'}]}}]}, {'metadata': {'title': 'Visual timeline: What happened at Atlanta spa shootings', 'date': '2021-03-17', 'publisher': 'USA Today', 'author': 'Padilla, Ramon; Petras, George; Loehrke, Janet; Beard, Stephen J.', 'asian': 'false'}, 'racism_types': ['Macro-level racism > systematic racism > racial injustice/inequity and oppression', 'Individual-level racism > Bigotry/prejudice > Scapegoat > Racism toward Asian women', 'Individual-level racism > Bigotry/prejudice > Scapegoat > Misogyny', 'Individual-level racism > Bigotry/prejudice > Scapegoat > Xenophobia'], 'entities': [{'name': 'Robert Aaron Long', 'identity': 'suspect', 'profession': 'Unknown', 'reactions': {'actions': ['Told police the acts were not racially motivated.', 'Stated he has a sexual addiction.'], 'emotions': ['Unknown'], 'attitudes': [{'attitude': 'Negative', 'toward': 'Asian victims'}]}}, {'name': 'Victim 1', 'identity': 'victim', 'profession': 'Unknown', 'reactions': {'actions': [], 'emotions': ['sadness'], 'attitudes': [{'attitude': 'Negative', 'toward': 'the violence against Asian women'}]}}, {'name': 'Victim 2', 'identity': 'victim', 'profession': 'Unknown', 'reactions': {'actions': [], 'emotions': ['sadness'], 'attitudes': [{'attitude': 'Negative', 'toward': 'the violence against Asian women'}]}}, {'name': 'Victim 3', 'identity': 'victim', 'profession': 'Unknown', 'reactions': {'actions': [], 'emotions': ['sadness'], 'attitudes': [{'attitude': 'Negative', 'toward': 'the violence against Asian women'}]}}, {'name': 'Victim 4', 'identity': 'victim', 'profession': 'Unknown', 'reactions': {'actions': [], 'emotions': ['sadness'], 'attitudes': [{'attitude': 'Negative', 'toward': 'the violence against Asian women'}]}}, {'name': 'Grace Kao', 'identity': 'expert', 'profession': 'sociology department chair at Yale University', 'reactions': {'actions': ['Commented on the difficulty of disentangling race from the killings.'], 'emotions': ['sadness'], 'attitudes': [{'attitude': 'Negative', 'toward': 'the killings'}]}}, {'name': 'FBI Director Christopher Wray', 'identity': 'official', 'profession': 'FBI Director', 'reactions': {'actions': ['Stated that the investigation continues.'], 'emotions': ['Unknown'], 'attitudes': [{'attitude': 'Neutral', 'toward': 'the ongoing investigation'}]}}]}, {'metadata': {'title': 'Violence and hate against Asian Americans is a health and safety crisis for everyone', 'date': '2021-03-17', 'publisher': 'USA Today', 'author': 'Stacy Torres', 'asian': 'true'}, 'racism_types': ['Types of Anti-Asian hate > Macro-level racism > systematic racism > racial injustice/inequity and oppression', 'Types of Anti-Asian hate > Macro-level racism > systematic racism > white supremacy', 'Types of Anti-Asian hate > Macro-level racism > systematic racism > racial bias', 'Types of Anti-Asian hate > Individual-level racism > Racial discrimination > Physical attack/violence > Anti-Asian hate crimes (investigated by police) > Attacked by other minorities (e.g., Black)', 'Types of Anti-Asian hate > Individual-level racism > Racial discrimination > Physical attack/violence > Anti-Asian hate crimes (investigated by police) > Attacked by White or not specified'], 'entities': [{'name': 'Vicha Ratanapakdee', 'identity': 'victim', 'profession': 'elder', 'reactions': {'actions': ['was killed in a racially motivated attack'], 'emotions': ['sadness'], 'attitudes': [{'attitude': 'Negative', 'toward': 'Anti-Asian violence'}]}}, {'name': '91-year-old man', 'identity': 'victim', 'profession': 'elder', 'reactions': {'actions': [\"was attacked in Oakland's Chinatown\"], 'emotions': ['fear'], 'attitudes': [{'attitude': 'Negative', 'toward': 'Anti-Asian violence'}]}}, {'name': 'Pak Ho', 'identity': 'victim', 'profession': 'elder', 'reactions': {'actions': ['was robbed and killed during a morning walk'], 'emotions': ['sadness'], 'attitudes': [{'attitude': 'Negative', 'toward': 'Anti-Asian violence'}]}}, {'name': 'Russell Jeung', 'identity': 'expert', 'profession': 'Professor', 'reactions': {'actions': ['pointed to community disinvestment as a problem'], 'emotions': ['anger'], 'attitudes': [{'attitude': 'Negative', 'toward': 'Community disinvestment and racism'}]}}, {'name': 'Loren Taylor', 'identity': 'politician', 'profession': 'City Council Member', 'reactions': {'actions': ['expressed concern about community violence'], 'emotions': ['fear'], 'attitudes': [{'attitude': 'Negative', 'toward': 'Gun violence in the community'}]}}]}]\n"
     ]
    }
   ],
   "source": [
    "# For each response, extract the content between <result></result> and then put it into a big JSON file\n",
    "import json\n",
    "\n",
    "results_json = []\n",
    "\n",
    "for result in results:\n",
    "    content = result['answer'].content\n",
    "    # extract the content between <result></result>\n",
    "    content = content.split(\"<result>\")[1].split(\"</result>\")[0]\n",
    "    # Convert the content to JSON\n",
    "    content_json = json.loads(content)\n",
    "    results_json.append(content_json)\n",
    "\n",
    "print(results_json)"
   ]
  },
  {
   "cell_type": "code",
   "execution_count": 22,
   "metadata": {},
   "outputs": [],
   "source": [
    "# Save the results to a JSON file\n",
    "\n",
    "with open(\"results.json\", \"w\") as f:\n",
    "    json.dump(results_json, f, indent=4)\n"
   ]
  }
 ],
 "metadata": {
  "kernelspec": {
   "display_name": "rag",
   "language": "python",
   "name": "python3"
  },
  "language_info": {
   "codemirror_mode": {
    "name": "ipython",
    "version": 3
   },
   "file_extension": ".py",
   "mimetype": "text/x-python",
   "name": "python",
   "nbconvert_exporter": "python",
   "pygments_lexer": "ipython3",
   "version": "3.10.14"
  }
 },
 "nbformat": 4,
 "nbformat_minor": 2
}
