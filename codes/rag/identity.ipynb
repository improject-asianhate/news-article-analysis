{
 "cells": [
  {
   "cell_type": "code",
   "execution_count": 1,
   "id": "3ffc4550-a35e-430e-bace-acb0ff545bde",
   "metadata": {},
   "outputs": [],
   "source": [
    "import openai\n",
    "import os"
   ]
  },
  {
   "cell_type": "code",
   "execution_count": 5,
   "id": "1a0a7ef5-e6a2-4edb-9005-7a7809f4a61f",
   "metadata": {},
   "outputs": [
    {
     "name": "stdout",
     "output_type": "stream",
     "text": [
      "1. Celebrity: A person who is widely recognized in a society or by the general public, usually because of their work in the entertainment industry, including fields like film, music, television, sports or due to their association with such personalities. \n",
      "\n",
      "2. Professors in colleges of social sciences, humanities, or education: These are educators and researchers who work in tertiary education institutions. Their expertise lies in social sciences (such as sociology, anthropology, etc.), humanities (like literature, philosophy, etc.) or education (education theory, learning methodologies, etc.). They teach and publish research to expand knowledge in their respective fields.\n",
      "\n",
      "3. Politician: An individual who is involved in influencing public policy and decision making. This includes people who hold office in government, people who seek to gain office through election, or those who have significant influence in the political landscape of a society.\n",
      "\n",
      "4. Journalist/Media: A journalist is a professional who gathers, writes, or distributes news or other current information to the public. They work in various forms of media, including newspapers, magazines, radio, television, and the internet. 'Media' broadly refers to the channels through which this information is disseminated.\n",
      "\n",
      "5. General Public: Refers to the common people or community as a whole. This could include individuals from all walks of life who are not prominently known or do not hold a specific, distinct position in society, unlike a celebrity or politician for instance.\n",
      "\n",
      "6. Perpetrators: The term is commonly used to describe individuals who have committed or are responsible for illegal or harmful actions. These actions can range from criminal offenses like theft or assault to more extensive acts like war crimes or genocide.\n",
      "\n",
      "7. Victims: Individuals who have suffered harm, injury, or death as a result of the actions of others or in unfortunate events. This harm could be physical, psychological, financial, or other forms of damage.\n",
      "\n",
      "8. Business Owners: People who own an enterprise or a commercial establishment. They could be sole proprietors, partners in a partnership, or shareholders in a corporation, and are responsible for the strategic direction and management of the business.\n"
     ]
    }
   ],
   "source": [
    "# 定義 prompt\n",
    "prompt_def = \"\"\"\n",
    "Please define the following categories:\n",
    "1. Celebrity\n",
    "2. Professor in college of social sciences, humanities, or education\n",
    "3. Politician\n",
    "4. Journalist/Media\n",
    "5. General Public\n",
    "6. Perpetrator\n",
    "7. Victim\n",
    "8. Business Owners\n",
    "\"\"\"\n",
    "openai.api_key = \"YOUR_API_KEY\"\n",
    "response_def = openai.ChatCompletion.create(\n",
    "    model=\"gpt-4\",\n",
    "    messages=[\n",
    "      {\"role\": \"system\", \"content\": \"You are a helpful assistant.\"},\n",
    "      {\"role\": \"user\", \"content\": prompt_def}\n",
    "    ]\n",
    ")\n",
    "\n",
    "print(response_def.choices[0].message[\"content\"])\n"
   ]
  },
  {
   "cell_type": "code",
   "execution_count": 8,
   "id": "1e425ae7-00f3-4d48-81e0-4e729b77ff0f",
   "metadata": {},
   "outputs": [
    {
     "name": "stdout",
     "output_type": "stream",
     "text": [
      "- Barack Obama: Politician\n",
      "- Taylor Swift: Celebrity\n",
      "- Anderson Cooper: Journalist/Media\n",
      "- A random person on the street: General Public\n",
      "- A guy who killed a woman: Perpetrator\n",
      "- A woman who got murdered: Victim\n",
      "- A professor in the department of psychology: Professors in college of social sciences, humanities, or education\n",
      "- A professor in the department of information management: Unknown (as 'Information Management' does not fall under previosly defined categories of social sciences, humanities, or education)\n",
      "- A founder of a tech company: Business Owner\n"
     ]
    }
   ],
   "source": [
    "# 假設 GPT 回答了某個定義，然後你在第二步的 prompt 中包含之前的對話\n",
    "conversation_history = f\"User: {prompt_def}\\nAssistant: {response_def.choices[0].message['content']}\"\n",
    "\n",
    "# 第二步請求，基於上一步的對話\n",
    "prompt_2 = \"\"\"\n",
    "Here are some individuals. For each, categorize them as either \"celebrity\", \"professors in college of social sciences, humanities, or education\", \"politician\", \"journalist/media\", \"general public\", \"perpetrator\", \"victim\", or \"business owner\".\n",
    "Please do not use categories that are not defined in the previous response. If you do not know the answer, please say \"unknown\" and further explain the reason why you don't know.\n",
    "\n",
    "1. Barack Obama\n",
    "2. Taylor Swift\n",
    "3. Anderson Cooper\n",
    "4. A random person on the street\n",
    "5. A guy killed a woman\n",
    "6. A woman got murdered \n",
    "7. A professor in the department of psychology\n",
    "8. A professor in the department of information management\n",
    "9. A founder of a tech company\n",
    "\n",
    "Provide the classification in the following format:\n",
    "- Name: [Classification]\n",
    "\"\"\"\n",
    "prompt_test = f\"{conversation_history}\\nUser: {prompt_2}\"\n",
    "response_test = openai.ChatCompletion.create(\n",
    "    model=\"gpt-4\",\n",
    "    messages=[\n",
    "      {\"role\": \"system\", \"content\": \"You are a helpful assistant.\"},\n",
    "      {\"role\": \"user\", \"content\": prompt_test}\n",
    "    ]\n",
    ")\n",
    "print(response_test.choices[0].message[\"content\"])\n"
   ]
  },
  {
   "cell_type": "code",
   "execution_count": 11,
   "id": "dd4bd17c-b71d-425b-b361-551a6423aaa7",
   "metadata": {},
   "outputs": [],
   "source": [
    "def classify_identities(article_text):\n",
    "    prompt = f\"\"\"\n",
    "    Analyze the following text and extract the names and their identities as either \"celebrity\", \"professor in college of social sciences, humanities, or education\", \"politician\", \"journalist/media\", \"general public\", \"perpetrator\", \"victim\", or \"business owner\" by definition provided. \n",
    "\n",
    "    Definition:\n",
    "    {conversation_history}\n",
    "    \n",
    "    Text:\n",
    "    {article_text}\n",
    "    Also, you should determine whether the entity is \"asian\", \"non-asian\" or \"unknown\".\n",
    "    \n",
    "    Provide the result in the following JSON format: \n",
    "    {{\n",
    "    \"entities\": [\n",
    "        {{\n",
    "            \"name\": \"\",\n",
    "            \"identity\": \"\"\n",
    "            \"isasian\": \"\"\n",
    "        }},\n",
    "        {{\n",
    "            \"name\": \"\",\n",
    "            \"identity\": \"\"\n",
    "            \"isasian\": \"\"\n",
    "        }}\n",
    "    ]\n",
    "    }}\n",
    "    After completing the analysis, provide your JSON output within <result> tags\n",
    "    \"\"\"\n",
    "    \n",
    "    response = openai.ChatCompletion.create(\n",
    "        model=\"gpt-4\",\n",
    "        messages=[\n",
    "          {\"role\": \"system\", \"content\": \"You are a helpful assistant.\"},\n",
    "          {\"role\": \"user\", \"content\": prompt}\n",
    "        ]\n",
    "    )\n",
    "    \n",
    "    return response.choices[0].message[\"content\"]"
   ]
  },
  {
   "cell_type": "code",
   "execution_count": 12,
   "id": "270a210d-8342-4f60-bb58-be5df880be85",
   "metadata": {},
   "outputs": [],
   "source": [
    "valid_identities = [\"celebrity\", \"professor in college of social sciences, humanities, or education\", \"politician\", \"journalist/media\", \"general public\", \"perpetrator\", \"victim\", \"business owner\"]\n",
    "valid_isasian = [\"asian\", \"non-asian\", \"unknown\"]\n",
    "# 檢查 JSON 格式和 identity 是否有效\n",
    "def validate_json_and_identity(json_data):\n",
    "    try:        \n",
    "        # 檢查是否存在 \"entities\" 字段，並且它是否是一個列表\n",
    "        if \"entities\" in json_data and isinstance(json_data[\"entities\"], list):\n",
    "            # 檢查每個實體是否有 \"name\" 和 \"identity\" 字段，並且 identity 是否有效\n",
    "            for entity in json_data[\"entities\"]:\n",
    "                if \"name\" not in entity or \"identity\" not in entity or \"isasian\" not in entity:\n",
    "                    return False\n",
    "                if entity[\"identity\"].lower() not in valid_identities:\n",
    "                    return False\n",
    "                if entity[\"isasian\"].lower() not in valid_isasian:\n",
    "                    return False\n",
    "            return True\n",
    "        else:\n",
    "            return False\n",
    "    except json.JSONDecodeError:\n",
    "        # 如果無法解析成 JSON，則返回 False\n",
    "        return False"
   ]
  },
  {
   "cell_type": "code",
   "execution_count": 13,
   "id": "1713d8ed-f948-403c-9599-91afb4453ed4",
   "metadata": {},
   "outputs": [
    {
     "name": "stdout",
     "output_type": "stream",
     "text": [
      "5.txt success\n",
      "4.txt success\n",
      "3.txt failed\n",
      "2.txt success\n",
      "1.txt failed\n",
      "[{'entities': [{'name': 'yin, alice', 'identity': 'journalist/media', 'isasian': 'asian'}, {'name': 'hong liu', 'identity': 'general public', 'isasian': 'asian'}, {'name': 'robert aaron long', 'identity': 'perpetrator', 'isasian': 'non-asian'}, {'name': 'byron sigcho-lopez', 'identity': 'politician', 'isasian': 'unknown'}, {'name': 'lori lightfoot', 'identity': 'politician', 'isasian': 'non-asian'}, {'name': 'david wu', 'identity': 'business owner', 'isasian': 'asian'}, {'name': 'don jerome', 'identity': 'politician', 'isasian': 'non-asian'}, {'name': 'grace chan mckibben', 'identity': 'business owner', 'isasian': 'asian'}]}, {'entities': [{'name': 'yin, alice', 'identity': 'journalist/media', 'isasian': 'asian'}, {'name': 'julie moy', 'identity': 'general public', 'isasian': 'asian'}, {'name': 'jason', 'identity': 'general public', 'isasian': 'asian'}, {'name': 'weizhong xiong', 'identity': 'victim', 'isasian': 'asian'}, {'name': 'huayi bian', 'identity': 'victim', 'isasian': 'asian'}, {'name': 'shuai guan', 'identity': 'victim', 'isasian': 'asian'}, {'name': 'chris huang', 'identity': 'business owner', 'isasian': 'asian'}, {'name': 'grace chan mckibben', 'identity': 'general public', 'isasian': 'asian'}, {'name': 'nancy chen', 'identity': 'general public', 'isasian': 'asian'}, {'name': 'grace hou', 'identity': 'politician', 'isasian': 'asian'}, {'name': 'kim foxx', 'identity': 'politician', 'isasian': 'non-asian'}, {'name': 'toni preckwinkle', 'identity': 'politician', 'isasian': 'non-asian'}, {'name': 'donald trump', 'identity': 'politician', 'isasian': 'non-asian'}]}, {'entities': [{'name': 'donald trump', 'identity': 'politician', 'isasian': 'non-asian'}, {'name': 'sonny vinuya', 'identity': 'business owner', 'isasian': 'asian'}, {'name': 'karthick ramakrishnan', 'identity': 'professors in college of social sciences, humanities, or education', 'isasian': 'asian'}, {'name': 'joe biden', 'identity': 'politician', 'isasian': 'non-asian'}, {'name': 'barack obama', 'identity': 'politician', 'isasian': 'non-asian'}, {'name': 'kellyanne conway', 'identity': 'politician', 'isasian': 'non-asian'}, {'name': 'george conway', 'identity': 'general public', 'isasian': 'asian'}, {'name': 'kayleigh mcenany', 'identity': 'politician', 'isasian': 'non-asian'}, {'name': 'hillary clinton', 'identity': 'politician', 'isasian': 'non-asian'}]}, {'entities': [{'name': 'yin, alice', 'identity': 'journalist/media', 'isasian': 'asian'}, {'name': 'ro nguyen', 'identity': 'general public', 'isasian': 'asian'}, {'name': 'donald trump', 'identity': 'politician', 'isasian': 'non-asian'}, {'name': 'theresa mah', 'identity': 'politician', 'isasian': 'asian'}, {'name': 'mabel menard', 'identity': 'general public', 'isasian': 'asian'}, {'name': 'tuyet anh', 'identity': 'general public', 'isasian': 'asian'}, {'name': 'menard', 'identity': 'business owner', 'isasian': 'asian'}, {'name': 'manjusha kulkarni', 'identity': 'general public', 'isasian': 'asian'}, {'name': 'anthony guglielmi', 'identity': 'general public', 'isasian': 'non-asian'}, {'name': 'the dongs', 'identity': 'business owner', 'isasian': 'asian'}, {'name': 'ellen dong', 'identity': 'business owner', 'isasian': 'asian'}]}, {'entities': [{'name': 'julie morita', 'identity': 'general public', 'isasian': 'asian'}, {'name': \"morita's family\", 'identity': 'general public', 'isasian': 'asian'}, {'name': 'muslims', 'identity': 'general public', 'isasian': 'unknown'}, {'name': 'gilbert gee from ucla', 'identity': 'professors in college of social sciences, humanities or education', 'isasian': 'asian'}, {'name': 'thu nguyen of ucsf', 'identity': 'professors in college of social sciences, humanities, or education', 'isasian': 'asian'}, {'name': 'shanise criss of furman university', 'identity': 'professors in college of social sciences, humanities, or education', 'isasian': 'unknown'}, {'name': 'quyen nguyen of the university of maryland', 'identity': 'professors in college of social sciences, humanities, or education', 'isasian': 'asian'}, {'name': 'david chae of tulane', 'identity': 'professors in college of social sciences, humanities, or education', 'isasian': 'unknown'}, {'name': 'asian americans', 'identity': 'general public', 'isasian': 'asian'}, {'name': 'john of the cross', 'identity': 'general public', 'isasian': 'non-asian'}]}]\n"
     ]
    }
   ],
   "source": [
    "import json\n",
    "articles_dir = \"../../test\" # 要正式跑的時候改成 codes/rag/articles\n",
    "results = []\n",
    "\n",
    "# 遍歷所有文章文件\n",
    "for filename in os.listdir(articles_dir):\n",
    "    rerun_times = 3\n",
    "    if filename.endswith(\".txt\"):  \n",
    "        with open(os.path.join(articles_dir, filename), \"r\", encoding=\"utf-8\") as file:\n",
    "            text = file.read()\n",
    "            content = classify_identities(text)\n",
    "            content = content.split(\"<result>\")[1].split(\"</result>\")[0].lower()\n",
    "            content_json = json.loads(content)\n",
    "            if validate_json_and_identity(content_json):\n",
    "                print(f\"{filename} success\")\n",
    "            while not validate_json_and_identity(content_json) and rerun_times>0:\n",
    "                content = classify_identities(text)\n",
    "                content = content.split(\"<result>\")[1].split(\"</result>\")[0].lower()\n",
    "                content_json = json.loads(content)\n",
    "                rerun_times = rerun_times - 1\n",
    "                if validate_json_and_identity(content_json):\n",
    "                    print(f\"{filename} success\")\n",
    "            if not validate_json_and_identity(content_json) and rerun_times == 0:\n",
    "                print(f\"{filename} failed\")\n",
    "            results.append(\n",
    "                content_json\n",
    "            )\n",
    "print(results)"
   ]
  },
  {
   "cell_type": "code",
   "execution_count": 17,
   "id": "ea6e123e-a183-4419-a35d-bd981bdfa662",
   "metadata": {},
   "outputs": [],
   "source": [
    "output_file_path = \"../../test/result.json\"\n",
    "with open(output_file_path, 'w', encoding='utf-8') as json_file:\n",
    "    json.dump(results, json_file, indent=4)"
   ]
  },
  {
   "cell_type": "code",
   "execution_count": null,
   "id": "31f3266c",
   "metadata": {},
   "outputs": [],
   "source": []
  }
 ],
 "metadata": {
  "kernelspec": {
   "display_name": "Python 3 (ipykernel)",
   "language": "python",
   "name": "python3"
  },
  "language_info": {
   "codemirror_mode": {
    "name": "ipython",
    "version": 3
   },
   "file_extension": ".py",
   "mimetype": "text/x-python",
   "name": "python",
   "nbconvert_exporter": "python",
   "pygments_lexer": "ipython3",
   "version": "3.10.10"
  }
 },
 "nbformat": 4,
 "nbformat_minor": 5
}
