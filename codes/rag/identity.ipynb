{
 "cells": [
  {
   "cell_type": "code",
   "execution_count": 1,
   "id": "3ffc4550-a35e-430e-bace-acb0ff545bde",
   "metadata": {},
   "outputs": [],
   "source": [
    "import openai\n",
    "import os\n",
    "\n",
    "\n"
   ]
  },
  {
   "cell_type": "code",
   "execution_count": 2,
   "id": "1a0a7ef5-e6a2-4edb-9005-7a7809f4a61f",
   "metadata": {},
   "outputs": [
    {
     "name": "stdout",
     "output_type": "stream",
     "text": [
      "1. Celebrity: A celebrity refers to a person who has gained public recognition and popularity, typically through their work in areas such as entertainment, sports or other media-oriented fields. These individuals often use their fame to influence trends, culture, and public opinion.\n",
      "\n",
      "2. Politician: A politician is an individual who is involved in influencing or making public policy decisions, usually by holding an elected position in a government office. This can include roles from local governance like mayors or council members, to national roles like senators, representatives, or even the president or prime minister.\n",
      "\n",
      "3. Journalist/Media: Journalists or media personnel work in broadcasting, print, or digital platforms, providing news and information to the public. Their job often involves researching, reporting, writing, presenting, or editing news stories. The term \"media\" refers to entities that provide information, such as newspapers, television, radio, websites and social media platforms.\n",
      "\n",
      "4. General Public: The term \"general public\" refers to the community of people at large, or the populace, who are not specifically part of any special groups and have different occupations and backgrounds. They are the primary consumers of various services, including media services, public services, products and entertainment.\n",
      "\n",
      "5. Perpetrators: This term generally refers to individuals or groups of individuals who have committed or are accused of committing criminal or unethical activities. The nature of their acts may range from petty offenses to serious crimes.\n",
      "\n",
      "6. Victims: Victims are individuals or groups who have been harmed, injured, wronged, or subjected to some form of injustice or crime. They can be victims of a range of incidents, from natural disasters to acts of violence, online scamming, or harassment.\n"
     ]
    }
   ],
   "source": [
    "# 定義 prompt\n",
    "prompt_def = \"\"\"\n",
    "Please define the following categories:\n",
    "1. Celebrity\n",
    "2. Politician\n",
    "3. Journalist/Media\n",
    "4. General Public\n",
    "5. Perpetrators\n",
    "6. Victims\n",
    "\"\"\"\n",
    "response_def = openai.ChatCompletion.create(\n",
    "    model=\"gpt-4\",\n",
    "    messages=[\n",
    "      {\"role\": \"system\", \"content\": \"You are a helpful assistant.\"},\n",
    "      {\"role\": \"user\", \"content\": prompt_def}\n",
    "    ]\n",
    ")\n",
    "\n",
    "print(response_def.choices[0].message[\"content\"])\n"
   ]
  },
  {
   "cell_type": "code",
   "execution_count": 3,
   "id": "1e425ae7-00f3-4d48-81e0-4e729b77ff0f",
   "metadata": {},
   "outputs": [
    {
     "name": "stdout",
     "output_type": "stream",
     "text": [
      "1. Barack Obama: Politician\n",
      "2. Taylor Swift: Celebrity\n",
      "3. Anderson Cooper: Journalist/Media\n",
      "4. A random person on the street: General Public\n",
      "5. A guy killed a woman: Perpetrator\n",
      "6. A woman got murdered: Victim\n"
     ]
    }
   ],
   "source": [
    "# 假設 GPT 回答了某個定義，然後你在第二步的 prompt 中包含之前的對話\n",
    "conversation_history = f\"User: {prompt_def}\\nAssistant: {response_def.choices[0].message[\"content\"]}\"\n",
    "\n",
    "# 第二步請求，基於上一步的對話\n",
    "promp_2 = \"\"\"\n",
    "Here are some individuals. For each, categorize them as either \"celebrity\", \"politician\", \"journalist/media\", \"general public\", \"perpetrators\" or \"victims\":\n",
    "\n",
    "1. Barack Obama\n",
    "2. Taylor Swift\n",
    "3. Anderson Cooper\n",
    "4. A random person on the street\n",
    "5. A guy killed a woman\n",
    "6. A woman got murdered \n",
    "\n",
    "Provide the classification in the following format:\n",
    "- Name: [Classification]\n",
    "\"\"\"\n",
    "prompt_test = f\"{conversation_history}\\nUser: {promp_2}\"\n",
    "response_test = openai.ChatCompletion.create(\n",
    "    model=\"gpt-4\",\n",
    "    messages=[\n",
    "      {\"role\": \"system\", \"content\": \"You are a helpful assistant.\"},\n",
    "      {\"role\": \"user\", \"content\": prompt_test}\n",
    "    ]\n",
    ")\n",
    "print(response_test.choices[0].message[\"content\"])\n"
   ]
  },
  {
   "cell_type": "code",
   "execution_count": 4,
   "id": "dd4bd17c-b71d-425b-b361-551a6423aaa7",
   "metadata": {},
   "outputs": [],
   "source": [
    "def classify_identities(article_text):\n",
    "    prompt = f\"\"\"\n",
    "    Analyze the following text and extract the names and their identities as either \"celebrity\", \"politician\", \"journalist/media\", \"perpetrator\", \"victim\" or \"general public\" by definition provided. \n",
    "\n",
    "    Definition:\n",
    "    {conversation_history}\n",
    "    \n",
    "    Text:\n",
    "    {article_text}\n",
    "    Also, you should determine whether the entity is \"asian\", \"non-asian\" or \"unknown\".\n",
    "    \n",
    "    Provide the result in the following JSON format: \n",
    "    {{\n",
    "    \"entities\": [\n",
    "        {{\n",
    "            \"name\": \"\",\n",
    "            \"identity\": \"\"\n",
    "            \"isasian\": \"\"\n",
    "        }},\n",
    "        {{\n",
    "            \"name\": \"\",\n",
    "            \"identity\": \"\"\n",
    "            \"isasian\": \"\"\n",
    "        }}\n",
    "    ]\n",
    "    }}\n",
    "    After completing the analysis, provide your JSON output within <result> tags\n",
    "    \"\"\"\n",
    "    \n",
    "    response = openai.ChatCompletion.create(\n",
    "        model=\"gpt-4\",\n",
    "        messages=[\n",
    "          {\"role\": \"system\", \"content\": \"You are a helpful assistant.\"},\n",
    "          {\"role\": \"user\", \"content\": prompt}\n",
    "        ]\n",
    "    )\n",
    "    \n",
    "    return response.choices[0].message[\"content\"]\n",
    "\n",
    "\n"
   ]
  },
  {
   "cell_type": "code",
   "execution_count": 5,
   "id": "270a210d-8342-4f60-bb58-be5df880be85",
   "metadata": {},
   "outputs": [],
   "source": [
    "valid_identities = [\"celebrity\", \"politician\", \"journalist/media\", \"general public\", \"perpetrator\", \"victim\"]\n",
    "valid_isasian = [\"asian\", \"non-asian\", \"unknown\"]\n",
    "# 檢查 JSON 格式和 identity 是否有效\n",
    "def validate_json_and_identity(json_data):\n",
    "    try:        \n",
    "        # 檢查是否存在 \"entities\" 字段，並且它是否是一個列表\n",
    "        if \"entities\" in json_data and isinstance(json_data[\"entities\"], list):\n",
    "            # 檢查每個實體是否有 \"name\" 和 \"identity\" 字段，並且 identity 是否有效\n",
    "            for entity in json_data[\"entities\"]:\n",
    "                if \"name\" not in entity or \"identity\" not in entity or \"isasian\" not in entity:\n",
    "                    return False\n",
    "                if entity[\"identity\"].lower() not in valid_identities:\n",
    "                    return False\n",
    "                if entity[\"isasian\"].lower() not in valid_isasian:\n",
    "                    return False\n",
    "            return True\n",
    "        else:\n",
    "            return False\n",
    "    except json.JSONDecodeError:\n",
    "        # 如果無法解析成 JSON，則返回 False\n",
    "        return False"
   ]
  },
  {
   "cell_type": "code",
   "execution_count": null,
   "id": "1713d8ed-f948-403c-9599-91afb4453ed4",
   "metadata": {},
   "outputs": [
    {
     "name": "stdout",
     "output_type": "stream",
     "text": [
      "0.txt success\n",
      "1.txt success\n",
      "2.txt success\n",
      "3.txt success\n",
      "4.txt success\n"
     ]
    }
   ],
   "source": [
    "import json\n",
    "articles_dir = \"../../test\" #要正式跑的時候改成 ../../txt\n",
    "results = []\n",
    "\n",
    "# 遍歷所有文章文件\n",
    "for filename in os.listdir(articles_dir):\n",
    "    rerun_times = 3\n",
    "    if filename.endswith(\".txt\"):  \n",
    "        with open(os.path.join(articles_dir, filename), \"r\", encoding=\"utf-8\") as file:\n",
    "            text = file.read()\n",
    "            content = classify_identities(text)\n",
    "            content = content.split(\"<result>\")[1].split(\"</result>\")[0].lower()\n",
    "            content_json = json.loads(content)\n",
    "            if validate_json_and_identity(content_json):\n",
    "                print(f\"{filename} success\")\n",
    "            while not validate_json_and_identity(content_json) and rerun_times>0:\n",
    "                content = classify_identities(text)\n",
    "                content = content.split(\"<result>\")[1].split(\"</result>\")[0].lower()\n",
    "                content_json = json.loads(content)\n",
    "                rerun_times = rerun_times - 1\n",
    "                if validate_json_and_identity(content_json):\n",
    "                    print(f\"{filename} success\")\n",
    "            if not validate_json_and_identity(content_json) and rerun_times == 0:\n",
    "                print(f\"{filename} failed\")\n",
    "            results.append(\n",
    "                content_json\n",
    "            )\n",
    "print(results)\n"
   ]
  },
  {
   "cell_type": "code",
   "execution_count": null,
   "id": "ea6e123e-a183-4419-a35d-bd981bdfa662",
   "metadata": {},
   "outputs": [],
   "source": []
  }
 ],
 "metadata": {
  "kernelspec": {
   "display_name": "Python 3 (ipykernel)",
   "language": "python",
   "name": "python3"
  },
  "language_info": {
   "codemirror_mode": {
    "name": "ipython",
    "version": 3
   },
   "file_extension": ".py",
   "mimetype": "text/x-python",
   "name": "python",
   "nbconvert_exporter": "python",
   "pygments_lexer": "ipython3",
   "version": "3.12.0rc3"
  }
 },
 "nbformat": 4,
 "nbformat_minor": 5
}
