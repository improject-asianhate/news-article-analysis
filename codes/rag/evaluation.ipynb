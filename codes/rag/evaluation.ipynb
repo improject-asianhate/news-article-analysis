{
 "cells": [
  {
   "cell_type": "code",
   "execution_count": 1,
   "metadata": {},
   "outputs": [],
   "source": [
    "import pandas as pd"
   ]
  },
  {
   "cell_type": "code",
   "execution_count": 5,
   "metadata": {},
   "outputs": [
    {
     "data": {
      "text/html": [
       "<div>\n",
       "<style scoped>\n",
       "    .dataframe tbody tr th:only-of-type {\n",
       "        vertical-align: middle;\n",
       "    }\n",
       "\n",
       "    .dataframe tbody tr th {\n",
       "        vertical-align: top;\n",
       "    }\n",
       "\n",
       "    .dataframe thead th {\n",
       "        text-align: right;\n",
       "    }\n",
       "</style>\n",
       "<table border=\"1\" class=\"dataframe\">\n",
       "  <thead>\n",
       "    <tr style=\"text-align: right;\">\n",
       "      <th></th>\n",
       "      <th>ARTICLE</th>\n",
       "      <th>CONCEPT_TREE</th>\n",
       "      <th>CHOSEN_CONCEPT</th>\n",
       "      <th>EXPLANATION</th>\n",
       "      <th>RESPONSE</th>\n",
       "    </tr>\n",
       "  </thead>\n",
       "  <tbody>\n",
       "    <tr>\n",
       "      <th>0</th>\n",
       "      <td>Anti-Asian violence shows folly of defunding p...</td>\n",
       "      <td>COVID-19/coronavirus/pandemic (Triggering anti...</td>\n",
       "      <td>COVID-19/coronavirus/pandemic (Triggering anti...</td>\n",
       "      <td>The article discusses that the rise in anti-As...</td>\n",
       "      <td>&lt;evaluation&gt;\\n&lt;reasoning&gt;\\nThe chosen concept ...</td>\n",
       "    </tr>\n",
       "    <tr>\n",
       "      <th>1</th>\n",
       "      <td>Anti-Asian violence shows folly of defunding p...</td>\n",
       "      <td>COVID-19/coronavirus/pandemic (Triggering anti...</td>\n",
       "      <td>Types of Anti-Asian hate/Individual-level raci...</td>\n",
       "      <td>The article mentions the phrase “Chinese virus...</td>\n",
       "      <td>&lt;evaluation&gt;\\n&lt;reasoning&gt;\\nThe chosen concept ...</td>\n",
       "    </tr>\n",
       "    <tr>\n",
       "      <th>2</th>\n",
       "      <td>Anti-Asian violence shows folly of defunding p...</td>\n",
       "      <td>COVID-19/coronavirus/pandemic (Triggering anti...</td>\n",
       "      <td>Types of Anti-Asian hate/Individual-level raci...</td>\n",
       "      <td>The article provides examples of physical atta...</td>\n",
       "      <td>&lt;evaluation&gt;\\n&lt;reasoning&gt;\\nThe chosen concept ...</td>\n",
       "    </tr>\n",
       "    <tr>\n",
       "      <th>3</th>\n",
       "      <td>Anti-Asian violence shows folly of defunding p...</td>\n",
       "      <td>COVID-19/coronavirus/pandemic (Triggering anti...</td>\n",
       "      <td>Reactions toward Anti-Asian Hate/Law enforceme...</td>\n",
       "      <td>The article mentions that many anti-Asian crim...</td>\n",
       "      <td>&lt;evaluation&gt;\\n&lt;reasoning&gt;\\nThe chosen concept ...</td>\n",
       "    </tr>\n",
       "    <tr>\n",
       "      <th>4</th>\n",
       "      <td>Anti-Asian violence shows folly of defunding p...</td>\n",
       "      <td>COVID-19/coronavirus/pandemic (Triggering anti...</td>\n",
       "      <td>Reactions toward Anti-Asian Hate/Communities/A...</td>\n",
       "      <td>The article talks about rallies and efforts by...</td>\n",
       "      <td>&lt;evaluation&gt;\\n&lt;reasoning&gt;\\nThe chosen concept ...</td>\n",
       "    </tr>\n",
       "  </tbody>\n",
       "</table>\n",
       "</div>"
      ],
      "text/plain": [
       "                                             ARTICLE  \\\n",
       "0  Anti-Asian violence shows folly of defunding p...   \n",
       "1  Anti-Asian violence shows folly of defunding p...   \n",
       "2  Anti-Asian violence shows folly of defunding p...   \n",
       "3  Anti-Asian violence shows folly of defunding p...   \n",
       "4  Anti-Asian violence shows folly of defunding p...   \n",
       "\n",
       "                                        CONCEPT_TREE  \\\n",
       "0  COVID-19/coronavirus/pandemic (Triggering anti...   \n",
       "1  COVID-19/coronavirus/pandemic (Triggering anti...   \n",
       "2  COVID-19/coronavirus/pandemic (Triggering anti...   \n",
       "3  COVID-19/coronavirus/pandemic (Triggering anti...   \n",
       "4  COVID-19/coronavirus/pandemic (Triggering anti...   \n",
       "\n",
       "                                      CHOSEN_CONCEPT  \\\n",
       "0  COVID-19/coronavirus/pandemic (Triggering anti...   \n",
       "1  Types of Anti-Asian hate/Individual-level raci...   \n",
       "2  Types of Anti-Asian hate/Individual-level raci...   \n",
       "3  Reactions toward Anti-Asian Hate/Law enforceme...   \n",
       "4  Reactions toward Anti-Asian Hate/Communities/A...   \n",
       "\n",
       "                                         EXPLANATION  \\\n",
       "0  The article discusses that the rise in anti-As...   \n",
       "1  The article mentions the phrase “Chinese virus...   \n",
       "2  The article provides examples of physical atta...   \n",
       "3  The article mentions that many anti-Asian crim...   \n",
       "4  The article talks about rallies and efforts by...   \n",
       "\n",
       "                                            RESPONSE  \n",
       "0  <evaluation>\\n<reasoning>\\nThe chosen concept ...  \n",
       "1  <evaluation>\\n<reasoning>\\nThe chosen concept ...  \n",
       "2  <evaluation>\\n<reasoning>\\nThe chosen concept ...  \n",
       "3  <evaluation>\\n<reasoning>\\nThe chosen concept ...  \n",
       "4  <evaluation>\\n<reasoning>\\nThe chosen concept ...  "
      ]
     },
     "execution_count": 5,
     "metadata": {},
     "output_type": "execute_result"
    }
   ],
   "source": [
    "df_eval = pd.read_csv('concept-article-fit-evaluation-v2-evals.csv')\n",
    "df_eval = df_eval[['ARTICLE', 'CONCEPT_TREE', 'CHOSEN_CONCEPT', 'EXPLANATION', 'Concept-Article Fit Evaluation (v2): Response']]\n",
    "df_eval = df_eval.rename(columns={'Concept-Article Fit Evaluation (v2): Response': 'RESPONSE'})\n",
    "df_eval.head()"
   ]
  },
  {
   "cell_type": "code",
   "execution_count": 24,
   "metadata": {},
   "outputs": [
    {
     "name": "stdout",
     "output_type": "stream",
     "text": [
      "18\n"
     ]
    }
   ],
   "source": [
    "# Drop nan rows in RESPONSE\n",
    "df_eval = df_eval.dropna(subset=['RESPONSE'])\n",
    "print(len(df_eval))"
   ]
  },
  {
   "cell_type": "code",
   "execution_count": 25,
   "metadata": {},
   "outputs": [],
   "source": [
    "# Extract the score and reasoning from RESPONSE\n",
    "df_eval['SCORE'] = df_eval['RESPONSE'].apply(lambda x: x.split('<score>\\n')[1].split('\\n</score>')[0] if '<score>' in x else None)\n",
    "df_eval['REASONING'] = df_eval['RESPONSE'].apply(lambda x: x.split('<reasoning>\\n')[1].split('\\n</reasoning>')[0] if '<reasoning>' in x else None)"
   ]
  },
  {
   "cell_type": "code",
   "execution_count": 26,
   "metadata": {},
   "outputs": [
    {
     "data": {
      "text/html": [
       "<div>\n",
       "<style scoped>\n",
       "    .dataframe tbody tr th:only-of-type {\n",
       "        vertical-align: middle;\n",
       "    }\n",
       "\n",
       "    .dataframe tbody tr th {\n",
       "        vertical-align: top;\n",
       "    }\n",
       "\n",
       "    .dataframe thead th {\n",
       "        text-align: right;\n",
       "    }\n",
       "</style>\n",
       "<table border=\"1\" class=\"dataframe\">\n",
       "  <thead>\n",
       "    <tr style=\"text-align: right;\">\n",
       "      <th></th>\n",
       "      <th>ARTICLE</th>\n",
       "      <th>CONCEPT_TREE</th>\n",
       "      <th>CHOSEN_CONCEPT</th>\n",
       "      <th>EXPLANATION</th>\n",
       "      <th>RESPONSE</th>\n",
       "      <th>SCORE</th>\n",
       "      <th>REASONING</th>\n",
       "    </tr>\n",
       "  </thead>\n",
       "  <tbody>\n",
       "    <tr>\n",
       "      <th>0</th>\n",
       "      <td>Anti-Asian violence shows folly of defunding p...</td>\n",
       "      <td>COVID-19/coronavirus/pandemic (Triggering anti...</td>\n",
       "      <td>COVID-19/coronavirus/pandemic (Triggering anti...</td>\n",
       "      <td>The article discusses that the rise in anti-As...</td>\n",
       "      <td>&lt;evaluation&gt;\\n&lt;reasoning&gt;\\nThe chosen concept ...</td>\n",
       "      <td>6</td>\n",
       "      <td>The chosen concept \"COVID-19/coronavirus/pande...</td>\n",
       "    </tr>\n",
       "    <tr>\n",
       "      <th>1</th>\n",
       "      <td>Anti-Asian violence shows folly of defunding p...</td>\n",
       "      <td>COVID-19/coronavirus/pandemic (Triggering anti...</td>\n",
       "      <td>Types of Anti-Asian hate/Individual-level raci...</td>\n",
       "      <td>The article mentions the phrase “Chinese virus...</td>\n",
       "      <td>&lt;evaluation&gt;\\n&lt;reasoning&gt;\\nThe chosen concept ...</td>\n",
       "      <td>5</td>\n",
       "      <td>The chosen concept \"Types of Anti-Asian hate/I...</td>\n",
       "    </tr>\n",
       "    <tr>\n",
       "      <th>2</th>\n",
       "      <td>Anti-Asian violence shows folly of defunding p...</td>\n",
       "      <td>COVID-19/coronavirus/pandemic (Triggering anti...</td>\n",
       "      <td>Types of Anti-Asian hate/Individual-level raci...</td>\n",
       "      <td>The article provides examples of physical atta...</td>\n",
       "      <td>&lt;evaluation&gt;\\n&lt;reasoning&gt;\\nThe chosen concept ...</td>\n",
       "      <td>7</td>\n",
       "      <td>The chosen concept \"Types of Anti-Asian hate/I...</td>\n",
       "    </tr>\n",
       "    <tr>\n",
       "      <th>3</th>\n",
       "      <td>Anti-Asian violence shows folly of defunding p...</td>\n",
       "      <td>COVID-19/coronavirus/pandemic (Triggering anti...</td>\n",
       "      <td>Reactions toward Anti-Asian Hate/Law enforceme...</td>\n",
       "      <td>The article mentions that many anti-Asian crim...</td>\n",
       "      <td>&lt;evaluation&gt;\\n&lt;reasoning&gt;\\nThe chosen concept ...</td>\n",
       "      <td>5</td>\n",
       "      <td>The chosen concept \"Reactions toward Anti-Asia...</td>\n",
       "    </tr>\n",
       "    <tr>\n",
       "      <th>4</th>\n",
       "      <td>Anti-Asian violence shows folly of defunding p...</td>\n",
       "      <td>COVID-19/coronavirus/pandemic (Triggering anti...</td>\n",
       "      <td>Reactions toward Anti-Asian Hate/Communities/A...</td>\n",
       "      <td>The article talks about rallies and efforts by...</td>\n",
       "      <td>&lt;evaluation&gt;\\n&lt;reasoning&gt;\\nThe chosen concept ...</td>\n",
       "      <td>3</td>\n",
       "      <td>The chosen concept \"Reactions toward Anti-Asia...</td>\n",
       "    </tr>\n",
       "  </tbody>\n",
       "</table>\n",
       "</div>"
      ],
      "text/plain": [
       "                                             ARTICLE  \\\n",
       "0  Anti-Asian violence shows folly of defunding p...   \n",
       "1  Anti-Asian violence shows folly of defunding p...   \n",
       "2  Anti-Asian violence shows folly of defunding p...   \n",
       "3  Anti-Asian violence shows folly of defunding p...   \n",
       "4  Anti-Asian violence shows folly of defunding p...   \n",
       "\n",
       "                                        CONCEPT_TREE  \\\n",
       "0  COVID-19/coronavirus/pandemic (Triggering anti...   \n",
       "1  COVID-19/coronavirus/pandemic (Triggering anti...   \n",
       "2  COVID-19/coronavirus/pandemic (Triggering anti...   \n",
       "3  COVID-19/coronavirus/pandemic (Triggering anti...   \n",
       "4  COVID-19/coronavirus/pandemic (Triggering anti...   \n",
       "\n",
       "                                      CHOSEN_CONCEPT  \\\n",
       "0  COVID-19/coronavirus/pandemic (Triggering anti...   \n",
       "1  Types of Anti-Asian hate/Individual-level raci...   \n",
       "2  Types of Anti-Asian hate/Individual-level raci...   \n",
       "3  Reactions toward Anti-Asian Hate/Law enforceme...   \n",
       "4  Reactions toward Anti-Asian Hate/Communities/A...   \n",
       "\n",
       "                                         EXPLANATION  \\\n",
       "0  The article discusses that the rise in anti-As...   \n",
       "1  The article mentions the phrase “Chinese virus...   \n",
       "2  The article provides examples of physical atta...   \n",
       "3  The article mentions that many anti-Asian crim...   \n",
       "4  The article talks about rallies and efforts by...   \n",
       "\n",
       "                                            RESPONSE SCORE  \\\n",
       "0  <evaluation>\\n<reasoning>\\nThe chosen concept ...     6   \n",
       "1  <evaluation>\\n<reasoning>\\nThe chosen concept ...     5   \n",
       "2  <evaluation>\\n<reasoning>\\nThe chosen concept ...     7   \n",
       "3  <evaluation>\\n<reasoning>\\nThe chosen concept ...     5   \n",
       "4  <evaluation>\\n<reasoning>\\nThe chosen concept ...     3   \n",
       "\n",
       "                                           REASONING  \n",
       "0  The chosen concept \"COVID-19/coronavirus/pande...  \n",
       "1  The chosen concept \"Types of Anti-Asian hate/I...  \n",
       "2  The chosen concept \"Types of Anti-Asian hate/I...  \n",
       "3  The chosen concept \"Reactions toward Anti-Asia...  \n",
       "4  The chosen concept \"Reactions toward Anti-Asia...  "
      ]
     },
     "execution_count": 26,
     "metadata": {},
     "output_type": "execute_result"
    }
   ],
   "source": [
    "df_eval.head()"
   ]
  },
  {
   "cell_type": "code",
   "execution_count": 32,
   "metadata": {},
   "outputs": [],
   "source": [
    "df_eval.to_excel('sample-eval.xlsx')"
   ]
  },
  {
   "cell_type": "code",
   "execution_count": 31,
   "metadata": {},
   "outputs": [
    {
     "name": "stdout",
     "output_type": "stream",
     "text": [
      "Collecting openpyxl\n",
      "  Downloading openpyxl-3.1.5-py2.py3-none-any.whl.metadata (2.5 kB)\n",
      "Collecting et-xmlfile (from openpyxl)\n",
      "  Downloading et_xmlfile-1.1.0-py3-none-any.whl.metadata (1.8 kB)\n",
      "Downloading openpyxl-3.1.5-py2.py3-none-any.whl (250 kB)\n",
      "\u001b[2K   \u001b[90m━━━━━━━━━━━━━━━━━━━━━━━━━━━━━━━━━━━━━━━━\u001b[0m \u001b[32m250.9/250.9 kB\u001b[0m \u001b[31m1.4 MB/s\u001b[0m eta \u001b[36m0:00:00\u001b[0m00:01\u001b[0m00:01\u001b[0mm\n",
      "\u001b[?25hDownloading et_xmlfile-1.1.0-py3-none-any.whl (4.7 kB)\n",
      "Installing collected packages: et-xmlfile, openpyxl\n",
      "Successfully installed et-xmlfile-1.1.0 openpyxl-3.1.5\n"
     ]
    }
   ],
   "source": [
    "! pip install openpyxl"
   ]
  }
 ],
 "metadata": {
  "kernelspec": {
   "display_name": "rag",
   "language": "python",
   "name": "python3"
  },
  "language_info": {
   "codemirror_mode": {
    "name": "ipython",
    "version": 3
   },
   "file_extension": ".py",
   "mimetype": "text/x-python",
   "name": "python",
   "nbconvert_exporter": "python",
   "pygments_lexer": "ipython3",
   "version": "3.10.14"
  }
 },
 "nbformat": 4,
 "nbformat_minor": 2
}
