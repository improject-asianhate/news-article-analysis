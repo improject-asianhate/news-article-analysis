{
 "cells": [
  {
   "cell_type": "markdown",
   "metadata": {},
   "source": [
    "## Load OpenAI's LLM"
   ]
  },
  {
   "cell_type": "code",
   "execution_count": 1,
   "metadata": {},
   "outputs": [],
   "source": [
    "from langchain_openai import ChatOpenAI\n",
    "import getpass\n",
    "import os\n",
    "\n",
    "os.environ[\"OPENAI_API_KEY\"] = getpass.getpass()\n",
    "llm = ChatOpenAI(model=\"gpt-4o-mini\")"
   ]
  },
  {
   "cell_type": "markdown",
   "metadata": {},
   "source": [
    "## Indexing\n",
    "### Load Glossary"
   ]
  },
  {
   "cell_type": "code",
   "execution_count": 2,
   "metadata": {},
   "outputs": [
    {
     "name": "stdout",
     "output_type": "stream",
     "text": [
      "126 documents loaded\n"
     ]
    }
   ],
   "source": [
    "# Load the pdf documents from ./glossary\n",
    "from langchain_community.document_loaders import PyPDFDirectoryLoader\n",
    "loader = PyPDFDirectoryLoader(\"./glossary\")\n",
    "docs = loader.load()\n",
    "print(len(docs), \"documents loaded\")"
   ]
  },
  {
   "cell_type": "markdown",
   "metadata": {},
   "source": [
    "### Split\n",
    "Our loaded document is over 42k characters long. This is too long to fit in the context window of many models. Even for those models that could fit the full post in their context window, models can struggle to find information in very long inputs.\n",
    "\n",
    "To handle this we’ll split the Document into chunks for embedding and vector storage. This should help us retrieve only the most relevant bits of the blog post at run time."
   ]
  },
  {
   "cell_type": "code",
   "execution_count": 3,
   "metadata": {},
   "outputs": [
    {
     "data": {
      "text/plain": [
       "370"
      ]
     },
     "execution_count": 3,
     "metadata": {},
     "output_type": "execute_result"
    }
   ],
   "source": [
    "from langchain_text_splitters import RecursiveCharacterTextSplitter\n",
    "\n",
    "text_splitter = RecursiveCharacterTextSplitter(\n",
    "    chunk_size=1000, chunk_overlap=200, add_start_index=True\n",
    ")\n",
    "all_splits = text_splitter.split_documents(docs)\n",
    "\n",
    "len(all_splits)"
   ]
  },
  {
   "cell_type": "markdown",
   "metadata": {},
   "source": [
    "### Store\n",
    "\n",
    "Now we need to index our text chunks so that we can search over them at runtime. The most common way to do this is to **embed the contents of each document split** and **insert these embeddings into a vector database** (or vector store)."
   ]
  },
  {
   "cell_type": "code",
   "execution_count": 4,
   "metadata": {},
   "outputs": [],
   "source": [
    "from langchain_chroma import Chroma # Chroma vector store\n",
    "from langchain_openai import OpenAIEmbeddings\n",
    "\n",
    "vectorstore = Chroma.from_documents(documents=all_splits, embedding=OpenAIEmbeddings(), persist_directory=\"vectorstore\")"
   ]
  },
  {
   "cell_type": "markdown",
   "metadata": {},
   "source": [
    "## Retrieval and Generation"
   ]
  },
  {
   "cell_type": "markdown",
   "metadata": {},
   "source": [
    "### Retrieval"
   ]
  },
  {
   "cell_type": "code",
   "execution_count": 5,
   "metadata": {},
   "outputs": [
    {
     "data": {
      "text/plain": [
       "5"
      ]
     },
     "execution_count": 5,
     "metadata": {},
     "output_type": "execute_result"
    }
   ],
   "source": [
    "retriever = vectorstore.as_retriever(search_type=\"similarity\", search_kwargs={\"k\": 5})  \n",
    "retrieved_docs = retriever.invoke(\"What is Model Minority?\")\n",
    "\n",
    "len(retrieved_docs)"
   ]
  },
  {
   "cell_type": "markdown",
   "metadata": {},
   "source": [
    "### Generation"
   ]
  },
  {
   "cell_type": "markdown",
   "metadata": {},
   "source": [
    "Read the example articles"
   ]
  },
  {
   "cell_type": "code",
   "execution_count": 6,
   "metadata": {},
   "outputs": [
    {
     "name": "stdout",
     "output_type": "stream",
     "text": [
      "640\n"
     ]
    }
   ],
   "source": [
    "len_articles = 640\n",
    "example_articles = []\n",
    "for i in range(1, len_articles + 1):\n",
    "    with open(f\"../articles/{i}.txt\", \"r\") as f:\n",
    "        example_articles.append(f.read())\n",
    "\n",
    "print(len(example_articles))"
   ]
  },
  {
   "cell_type": "code",
   "execution_count": 7,
   "metadata": {},
   "outputs": [],
   "source": [
    "from langchain_core.prompts import ChatPromptTemplate, PromptTemplate\n",
    "from langchain_core.output_parsers import StrOutputParser\n",
    "from langchain_core.runnables import RunnablePassthrough\n",
    "\n",
    "\n",
    "def format_docs(docs):\n",
    "    return \"\\n\\n\".join(doc.page_content for doc in docs)\n",
    "\n",
    "def format_docs_with_id(docs):\n",
    "    formatted = [\n",
    "        f\"Source ID: {i}\\nArticle Title: {doc.metadata['source']}\\nArticle Snippet: {doc.page_content}\"\n",
    "        for i, doc in enumerate(docs)\n",
    "    ]\n",
    "    return \"\\n\\n\" + \"\\n\\n\".join(formatted)\n",
    "\n",
    "prompt_template_path = \"./prompt_template.txt\"\n",
    "with open(prompt_template_path, \"r\") as f:\n",
    "    template = f.read()\n",
    "\n",
    "custom_rag_prompt = PromptTemplate.from_template(template)\n",
    "\n",
    "rag_chain_from_docs = (\n",
    "    RunnablePassthrough.assign(context=(lambda x: format_docs_with_id(x[\"context\"])))\n",
    "    | custom_rag_prompt\n",
    "    | llm\n",
    ")\n",
    "\n",
    "retrieve_docs = (lambda x: x[\"input\"]) | retriever\n",
    "\n",
    "chain = RunnablePassthrough.assign(context=retrieve_docs).assign(\n",
    "    answer=rag_chain_from_docs\n",
    ")"
   ]
  },
  {
   "cell_type": "code",
   "execution_count": 8,
   "metadata": {},
   "outputs": [
    {
     "name": "stderr",
     "output_type": "stream",
     "text": [
      "12it [07:55, 39.63s/it]\n"
     ]
    },
    {
     "ename": "KeyboardInterrupt",
     "evalue": "",
     "output_type": "error",
     "traceback": [
      "\u001b[0;31m---------------------------------------------------------------------------\u001b[0m",
      "\u001b[0;31mKeyboardInterrupt\u001b[0m                         Traceback (most recent call last)",
      "File \u001b[0;32m~/opt/anaconda3/envs/rag/lib/python3.10/site-packages/langchain_core/runnables/config.py:555\u001b[0m, in \u001b[0;36mget_executor_for_config\u001b[0;34m(config)\u001b[0m\n\u001b[1;32m    552\u001b[0m \u001b[38;5;28;01mwith\u001b[39;00m ContextThreadPoolExecutor(\n\u001b[1;32m    553\u001b[0m     max_workers\u001b[38;5;241m=\u001b[39mconfig\u001b[38;5;241m.\u001b[39mget(\u001b[38;5;124m\"\u001b[39m\u001b[38;5;124mmax_concurrency\u001b[39m\u001b[38;5;124m\"\u001b[39m)\n\u001b[1;32m    554\u001b[0m ) \u001b[38;5;28;01mas\u001b[39;00m executor:\n\u001b[0;32m--> 555\u001b[0m     \u001b[38;5;28;01myield\u001b[39;00m executor\n",
      "File \u001b[0;32m~/opt/anaconda3/envs/rag/lib/python3.10/site-packages/langchain_core/runnables/base.py:3579\u001b[0m, in \u001b[0;36mRunnableParallel.invoke\u001b[0;34m(self, input, config)\u001b[0m\n\u001b[1;32m   3575\u001b[0m         futures \u001b[38;5;241m=\u001b[39m [\n\u001b[1;32m   3576\u001b[0m             executor\u001b[38;5;241m.\u001b[39msubmit(_invoke_step, step, \u001b[38;5;28minput\u001b[39m, config, key)\n\u001b[1;32m   3577\u001b[0m             \u001b[38;5;28;01mfor\u001b[39;00m key, step \u001b[38;5;129;01min\u001b[39;00m steps\u001b[38;5;241m.\u001b[39mitems()\n\u001b[1;32m   3578\u001b[0m         ]\n\u001b[0;32m-> 3579\u001b[0m         output \u001b[38;5;241m=\u001b[39m {key: future\u001b[38;5;241m.\u001b[39mresult() \u001b[38;5;28;01mfor\u001b[39;00m key, future \u001b[38;5;129;01min\u001b[39;00m \u001b[38;5;28mzip\u001b[39m(steps, futures)}\n\u001b[1;32m   3580\u001b[0m \u001b[38;5;66;03m# finish the root run\u001b[39;00m\n",
      "File \u001b[0;32m~/opt/anaconda3/envs/rag/lib/python3.10/site-packages/langchain_core/runnables/base.py:3579\u001b[0m, in \u001b[0;36m<dictcomp>\u001b[0;34m(.0)\u001b[0m\n\u001b[1;32m   3575\u001b[0m         futures \u001b[38;5;241m=\u001b[39m [\n\u001b[1;32m   3576\u001b[0m             executor\u001b[38;5;241m.\u001b[39msubmit(_invoke_step, step, \u001b[38;5;28minput\u001b[39m, config, key)\n\u001b[1;32m   3577\u001b[0m             \u001b[38;5;28;01mfor\u001b[39;00m key, step \u001b[38;5;129;01min\u001b[39;00m steps\u001b[38;5;241m.\u001b[39mitems()\n\u001b[1;32m   3578\u001b[0m         ]\n\u001b[0;32m-> 3579\u001b[0m         output \u001b[38;5;241m=\u001b[39m {key: \u001b[43mfuture\u001b[49m\u001b[38;5;241;43m.\u001b[39;49m\u001b[43mresult\u001b[49m\u001b[43m(\u001b[49m\u001b[43m)\u001b[49m \u001b[38;5;28;01mfor\u001b[39;00m key, future \u001b[38;5;129;01min\u001b[39;00m \u001b[38;5;28mzip\u001b[39m(steps, futures)}\n\u001b[1;32m   3580\u001b[0m \u001b[38;5;66;03m# finish the root run\u001b[39;00m\n",
      "File \u001b[0;32m~/opt/anaconda3/envs/rag/lib/python3.10/concurrent/futures/_base.py:453\u001b[0m, in \u001b[0;36mFuture.result\u001b[0;34m(self, timeout)\u001b[0m\n\u001b[1;32m    451\u001b[0m     \u001b[38;5;28;01mreturn\u001b[39;00m \u001b[38;5;28mself\u001b[39m\u001b[38;5;241m.\u001b[39m__get_result()\n\u001b[0;32m--> 453\u001b[0m \u001b[38;5;28;43mself\u001b[39;49m\u001b[38;5;241;43m.\u001b[39;49m\u001b[43m_condition\u001b[49m\u001b[38;5;241;43m.\u001b[39;49m\u001b[43mwait\u001b[49m\u001b[43m(\u001b[49m\u001b[43mtimeout\u001b[49m\u001b[43m)\u001b[49m\n\u001b[1;32m    455\u001b[0m \u001b[38;5;28;01mif\u001b[39;00m \u001b[38;5;28mself\u001b[39m\u001b[38;5;241m.\u001b[39m_state \u001b[38;5;129;01min\u001b[39;00m [CANCELLED, CANCELLED_AND_NOTIFIED]:\n",
      "File \u001b[0;32m~/opt/anaconda3/envs/rag/lib/python3.10/threading.py:320\u001b[0m, in \u001b[0;36mCondition.wait\u001b[0;34m(self, timeout)\u001b[0m\n\u001b[1;32m    319\u001b[0m \u001b[38;5;28;01mif\u001b[39;00m timeout \u001b[38;5;129;01mis\u001b[39;00m \u001b[38;5;28;01mNone\u001b[39;00m:\n\u001b[0;32m--> 320\u001b[0m     \u001b[43mwaiter\u001b[49m\u001b[38;5;241;43m.\u001b[39;49m\u001b[43macquire\u001b[49m\u001b[43m(\u001b[49m\u001b[43m)\u001b[49m\n\u001b[1;32m    321\u001b[0m     gotit \u001b[38;5;241m=\u001b[39m \u001b[38;5;28;01mTrue\u001b[39;00m\n",
      "\u001b[0;31mKeyboardInterrupt\u001b[0m: ",
      "\nDuring handling of the above exception, another exception occurred:\n",
      "\u001b[0;31mKeyboardInterrupt\u001b[0m                         Traceback (most recent call last)",
      "Cell \u001b[0;32mIn[8], line 4\u001b[0m\n\u001b[1;32m      2\u001b[0m results \u001b[38;5;241m=\u001b[39m []\n\u001b[1;32m      3\u001b[0m \u001b[38;5;28;01mfor\u001b[39;00m i, example_article \u001b[38;5;129;01min\u001b[39;00m tqdm(\u001b[38;5;28menumerate\u001b[39m(example_articles)):\n\u001b[0;32m----> 4\u001b[0m     result \u001b[38;5;241m=\u001b[39m \u001b[43mchain\u001b[49m\u001b[38;5;241;43m.\u001b[39;49m\u001b[43minvoke\u001b[49m\u001b[43m(\u001b[49m\u001b[43m{\u001b[49m\u001b[38;5;124;43m\"\u001b[39;49m\u001b[38;5;124;43minput\u001b[39;49m\u001b[38;5;124;43m\"\u001b[39;49m\u001b[43m:\u001b[49m\u001b[43m \u001b[49m\u001b[43mexample_article\u001b[49m\u001b[43m}\u001b[49m\u001b[43m)\u001b[49m\n\u001b[1;32m      5\u001b[0m     results\u001b[38;5;241m.\u001b[39mappend(result)\n",
      "File \u001b[0;32m~/opt/anaconda3/envs/rag/lib/python3.10/site-packages/langchain_core/runnables/base.py:2876\u001b[0m, in \u001b[0;36mRunnableSequence.invoke\u001b[0;34m(self, input, config, **kwargs)\u001b[0m\n\u001b[1;32m   2874\u001b[0m context\u001b[38;5;241m.\u001b[39mrun(_set_config_context, config)\n\u001b[1;32m   2875\u001b[0m \u001b[38;5;28;01mif\u001b[39;00m i \u001b[38;5;241m==\u001b[39m \u001b[38;5;241m0\u001b[39m:\n\u001b[0;32m-> 2876\u001b[0m     \u001b[38;5;28minput\u001b[39m \u001b[38;5;241m=\u001b[39m \u001b[43mcontext\u001b[49m\u001b[38;5;241;43m.\u001b[39;49m\u001b[43mrun\u001b[49m\u001b[43m(\u001b[49m\u001b[43mstep\u001b[49m\u001b[38;5;241;43m.\u001b[39;49m\u001b[43minvoke\u001b[49m\u001b[43m,\u001b[49m\u001b[43m \u001b[49m\u001b[38;5;28;43minput\u001b[39;49m\u001b[43m,\u001b[49m\u001b[43m \u001b[49m\u001b[43mconfig\u001b[49m\u001b[43m,\u001b[49m\u001b[43m \u001b[49m\u001b[38;5;241;43m*\u001b[39;49m\u001b[38;5;241;43m*\u001b[39;49m\u001b[43mkwargs\u001b[49m\u001b[43m)\u001b[49m\n\u001b[1;32m   2877\u001b[0m \u001b[38;5;28;01melse\u001b[39;00m:\n\u001b[1;32m   2878\u001b[0m     \u001b[38;5;28minput\u001b[39m \u001b[38;5;241m=\u001b[39m context\u001b[38;5;241m.\u001b[39mrun(step\u001b[38;5;241m.\u001b[39minvoke, \u001b[38;5;28minput\u001b[39m, config)\n",
      "File \u001b[0;32m~/opt/anaconda3/envs/rag/lib/python3.10/site-packages/langchain_core/runnables/passthrough.py:495\u001b[0m, in \u001b[0;36mRunnableAssign.invoke\u001b[0;34m(self, input, config, **kwargs)\u001b[0m\n\u001b[1;32m    489\u001b[0m \u001b[38;5;28;01mdef\u001b[39;00m \u001b[38;5;21minvoke\u001b[39m(\n\u001b[1;32m    490\u001b[0m     \u001b[38;5;28mself\u001b[39m,\n\u001b[1;32m    491\u001b[0m     \u001b[38;5;28minput\u001b[39m: Dict[\u001b[38;5;28mstr\u001b[39m, Any],\n\u001b[1;32m    492\u001b[0m     config: Optional[RunnableConfig] \u001b[38;5;241m=\u001b[39m \u001b[38;5;28;01mNone\u001b[39;00m,\n\u001b[1;32m    493\u001b[0m     \u001b[38;5;241m*\u001b[39m\u001b[38;5;241m*\u001b[39mkwargs: Any,\n\u001b[1;32m    494\u001b[0m ) \u001b[38;5;241m-\u001b[39m\u001b[38;5;241m>\u001b[39m Dict[\u001b[38;5;28mstr\u001b[39m, Any]:\n\u001b[0;32m--> 495\u001b[0m     \u001b[38;5;28;01mreturn\u001b[39;00m \u001b[38;5;28;43mself\u001b[39;49m\u001b[38;5;241;43m.\u001b[39;49m\u001b[43m_call_with_config\u001b[49m\u001b[43m(\u001b[49m\u001b[38;5;28;43mself\u001b[39;49m\u001b[38;5;241;43m.\u001b[39;49m\u001b[43m_invoke\u001b[49m\u001b[43m,\u001b[49m\u001b[43m \u001b[49m\u001b[38;5;28;43minput\u001b[39;49m\u001b[43m,\u001b[49m\u001b[43m \u001b[49m\u001b[43mconfig\u001b[49m\u001b[43m,\u001b[49m\u001b[43m \u001b[49m\u001b[38;5;241;43m*\u001b[39;49m\u001b[38;5;241;43m*\u001b[39;49m\u001b[43mkwargs\u001b[49m\u001b[43m)\u001b[49m\n",
      "File \u001b[0;32m~/opt/anaconda3/envs/rag/lib/python3.10/site-packages/langchain_core/runnables/base.py:1785\u001b[0m, in \u001b[0;36mRunnable._call_with_config\u001b[0;34m(self, func, input, config, run_type, **kwargs)\u001b[0m\n\u001b[1;32m   1781\u001b[0m     context \u001b[38;5;241m=\u001b[39m copy_context()\n\u001b[1;32m   1782\u001b[0m     context\u001b[38;5;241m.\u001b[39mrun(_set_config_context, child_config)\n\u001b[1;32m   1783\u001b[0m     output \u001b[38;5;241m=\u001b[39m cast(\n\u001b[1;32m   1784\u001b[0m         Output,\n\u001b[0;32m-> 1785\u001b[0m         \u001b[43mcontext\u001b[49m\u001b[38;5;241;43m.\u001b[39;49m\u001b[43mrun\u001b[49m\u001b[43m(\u001b[49m\n\u001b[1;32m   1786\u001b[0m \u001b[43m            \u001b[49m\u001b[43mcall_func_with_variable_args\u001b[49m\u001b[43m,\u001b[49m\u001b[43m  \u001b[49m\u001b[38;5;66;43;03m# type: ignore[arg-type]\u001b[39;49;00m\n\u001b[1;32m   1787\u001b[0m \u001b[43m            \u001b[49m\u001b[43mfunc\u001b[49m\u001b[43m,\u001b[49m\u001b[43m  \u001b[49m\u001b[38;5;66;43;03m# type: ignore[arg-type]\u001b[39;49;00m\n\u001b[1;32m   1788\u001b[0m \u001b[43m            \u001b[49m\u001b[38;5;28;43minput\u001b[39;49m\u001b[43m,\u001b[49m\u001b[43m  \u001b[49m\u001b[38;5;66;43;03m# type: ignore[arg-type]\u001b[39;49;00m\n\u001b[1;32m   1789\u001b[0m \u001b[43m            \u001b[49m\u001b[43mconfig\u001b[49m\u001b[43m,\u001b[49m\n\u001b[1;32m   1790\u001b[0m \u001b[43m            \u001b[49m\u001b[43mrun_manager\u001b[49m\u001b[43m,\u001b[49m\n\u001b[1;32m   1791\u001b[0m \u001b[43m            \u001b[49m\u001b[38;5;241;43m*\u001b[39;49m\u001b[38;5;241;43m*\u001b[39;49m\u001b[43mkwargs\u001b[49m\u001b[43m,\u001b[49m\n\u001b[1;32m   1792\u001b[0m \u001b[43m        \u001b[49m\u001b[43m)\u001b[49m,\n\u001b[1;32m   1793\u001b[0m     )\n\u001b[1;32m   1794\u001b[0m \u001b[38;5;28;01mexcept\u001b[39;00m \u001b[38;5;167;01mBaseException\u001b[39;00m \u001b[38;5;28;01mas\u001b[39;00m e:\n\u001b[1;32m   1795\u001b[0m     run_manager\u001b[38;5;241m.\u001b[39mon_chain_error(e)\n",
      "File \u001b[0;32m~/opt/anaconda3/envs/rag/lib/python3.10/site-packages/langchain_core/runnables/config.py:398\u001b[0m, in \u001b[0;36mcall_func_with_variable_args\u001b[0;34m(func, input, config, run_manager, **kwargs)\u001b[0m\n\u001b[1;32m    396\u001b[0m \u001b[38;5;28;01mif\u001b[39;00m run_manager \u001b[38;5;129;01mis\u001b[39;00m \u001b[38;5;129;01mnot\u001b[39;00m \u001b[38;5;28;01mNone\u001b[39;00m \u001b[38;5;129;01mand\u001b[39;00m accepts_run_manager(func):\n\u001b[1;32m    397\u001b[0m     kwargs[\u001b[38;5;124m\"\u001b[39m\u001b[38;5;124mrun_manager\u001b[39m\u001b[38;5;124m\"\u001b[39m] \u001b[38;5;241m=\u001b[39m run_manager\n\u001b[0;32m--> 398\u001b[0m \u001b[38;5;28;01mreturn\u001b[39;00m \u001b[43mfunc\u001b[49m\u001b[43m(\u001b[49m\u001b[38;5;28;43minput\u001b[39;49m\u001b[43m,\u001b[49m\u001b[43m \u001b[49m\u001b[38;5;241;43m*\u001b[39;49m\u001b[38;5;241;43m*\u001b[39;49m\u001b[43mkwargs\u001b[49m\u001b[43m)\u001b[49m\n",
      "File \u001b[0;32m~/opt/anaconda3/envs/rag/lib/python3.10/site-packages/langchain_core/runnables/passthrough.py:482\u001b[0m, in \u001b[0;36mRunnableAssign._invoke\u001b[0;34m(self, input, run_manager, config, **kwargs)\u001b[0m\n\u001b[1;32m    469\u001b[0m \u001b[38;5;28;01mdef\u001b[39;00m \u001b[38;5;21m_invoke\u001b[39m(\n\u001b[1;32m    470\u001b[0m     \u001b[38;5;28mself\u001b[39m,\n\u001b[1;32m    471\u001b[0m     \u001b[38;5;28minput\u001b[39m: Dict[\u001b[38;5;28mstr\u001b[39m, Any],\n\u001b[0;32m   (...)\u001b[0m\n\u001b[1;32m    474\u001b[0m     \u001b[38;5;241m*\u001b[39m\u001b[38;5;241m*\u001b[39mkwargs: Any,\n\u001b[1;32m    475\u001b[0m ) \u001b[38;5;241m-\u001b[39m\u001b[38;5;241m>\u001b[39m Dict[\u001b[38;5;28mstr\u001b[39m, Any]:\n\u001b[1;32m    476\u001b[0m     \u001b[38;5;28;01massert\u001b[39;00m \u001b[38;5;28misinstance\u001b[39m(\n\u001b[1;32m    477\u001b[0m         \u001b[38;5;28minput\u001b[39m, \u001b[38;5;28mdict\u001b[39m\n\u001b[1;32m    478\u001b[0m     ), \u001b[38;5;124m\"\u001b[39m\u001b[38;5;124mThe input to RunnablePassthrough.assign() must be a dict.\u001b[39m\u001b[38;5;124m\"\u001b[39m\n\u001b[1;32m    480\u001b[0m     \u001b[38;5;28;01mreturn\u001b[39;00m {\n\u001b[1;32m    481\u001b[0m         \u001b[38;5;241m*\u001b[39m\u001b[38;5;241m*\u001b[39m\u001b[38;5;28minput\u001b[39m,\n\u001b[0;32m--> 482\u001b[0m         \u001b[38;5;241m*\u001b[39m\u001b[38;5;241m*\u001b[39m\u001b[38;5;28;43mself\u001b[39;49m\u001b[38;5;241;43m.\u001b[39;49m\u001b[43mmapper\u001b[49m\u001b[38;5;241;43m.\u001b[39;49m\u001b[43minvoke\u001b[49m\u001b[43m(\u001b[49m\n\u001b[1;32m    483\u001b[0m \u001b[43m            \u001b[49m\u001b[38;5;28;43minput\u001b[39;49m\u001b[43m,\u001b[49m\n\u001b[1;32m    484\u001b[0m \u001b[43m            \u001b[49m\u001b[43mpatch_config\u001b[49m\u001b[43m(\u001b[49m\u001b[43mconfig\u001b[49m\u001b[43m,\u001b[49m\u001b[43m \u001b[49m\u001b[43mcallbacks\u001b[49m\u001b[38;5;241;43m=\u001b[39;49m\u001b[43mrun_manager\u001b[49m\u001b[38;5;241;43m.\u001b[39;49m\u001b[43mget_child\u001b[49m\u001b[43m(\u001b[49m\u001b[43m)\u001b[49m\u001b[43m)\u001b[49m\u001b[43m,\u001b[49m\n\u001b[1;32m    485\u001b[0m \u001b[43m            \u001b[49m\u001b[38;5;241;43m*\u001b[39;49m\u001b[38;5;241;43m*\u001b[39;49m\u001b[43mkwargs\u001b[49m\u001b[43m,\u001b[49m\n\u001b[1;32m    486\u001b[0m \u001b[43m        \u001b[49m\u001b[43m)\u001b[49m,\n\u001b[1;32m    487\u001b[0m     }\n",
      "File \u001b[0;32m~/opt/anaconda3/envs/rag/lib/python3.10/site-packages/langchain_core/runnables/base.py:3574\u001b[0m, in \u001b[0;36mRunnableParallel.invoke\u001b[0;34m(self, input, config)\u001b[0m\n\u001b[1;32m   3570\u001b[0m \u001b[38;5;28;01mtry\u001b[39;00m:\n\u001b[1;32m   3571\u001b[0m     \u001b[38;5;66;03m# copy to avoid issues from the caller mutating the steps during invoke()\u001b[39;00m\n\u001b[1;32m   3572\u001b[0m     steps \u001b[38;5;241m=\u001b[39m \u001b[38;5;28mdict\u001b[39m(\u001b[38;5;28mself\u001b[39m\u001b[38;5;241m.\u001b[39msteps__)\n\u001b[0;32m-> 3574\u001b[0m     \u001b[38;5;28;01mwith\u001b[39;00m get_executor_for_config(config) \u001b[38;5;28;01mas\u001b[39;00m executor:\n\u001b[1;32m   3575\u001b[0m         futures \u001b[38;5;241m=\u001b[39m [\n\u001b[1;32m   3576\u001b[0m             executor\u001b[38;5;241m.\u001b[39msubmit(_invoke_step, step, \u001b[38;5;28minput\u001b[39m, config, key)\n\u001b[1;32m   3577\u001b[0m             \u001b[38;5;28;01mfor\u001b[39;00m key, step \u001b[38;5;129;01min\u001b[39;00m steps\u001b[38;5;241m.\u001b[39mitems()\n\u001b[1;32m   3578\u001b[0m         ]\n\u001b[1;32m   3579\u001b[0m         output \u001b[38;5;241m=\u001b[39m {key: future\u001b[38;5;241m.\u001b[39mresult() \u001b[38;5;28;01mfor\u001b[39;00m key, future \u001b[38;5;129;01min\u001b[39;00m \u001b[38;5;28mzip\u001b[39m(steps, futures)}\n",
      "File \u001b[0;32m~/opt/anaconda3/envs/rag/lib/python3.10/contextlib.py:153\u001b[0m, in \u001b[0;36m_GeneratorContextManager.__exit__\u001b[0;34m(self, typ, value, traceback)\u001b[0m\n\u001b[1;32m    151\u001b[0m     value \u001b[38;5;241m=\u001b[39m typ()\n\u001b[1;32m    152\u001b[0m \u001b[38;5;28;01mtry\u001b[39;00m:\n\u001b[0;32m--> 153\u001b[0m     \u001b[38;5;28;43mself\u001b[39;49m\u001b[38;5;241;43m.\u001b[39;49m\u001b[43mgen\u001b[49m\u001b[38;5;241;43m.\u001b[39;49m\u001b[43mthrow\u001b[49m\u001b[43m(\u001b[49m\u001b[43mtyp\u001b[49m\u001b[43m,\u001b[49m\u001b[43m \u001b[49m\u001b[43mvalue\u001b[49m\u001b[43m,\u001b[49m\u001b[43m \u001b[49m\u001b[43mtraceback\u001b[49m\u001b[43m)\u001b[49m\n\u001b[1;32m    154\u001b[0m \u001b[38;5;28;01mexcept\u001b[39;00m \u001b[38;5;167;01mStopIteration\u001b[39;00m \u001b[38;5;28;01mas\u001b[39;00m exc:\n\u001b[1;32m    155\u001b[0m     \u001b[38;5;66;03m# Suppress StopIteration *unless* it's the same exception that\u001b[39;00m\n\u001b[1;32m    156\u001b[0m     \u001b[38;5;66;03m# was passed to throw().  This prevents a StopIteration\u001b[39;00m\n\u001b[1;32m    157\u001b[0m     \u001b[38;5;66;03m# raised inside the \"with\" statement from being suppressed.\u001b[39;00m\n\u001b[1;32m    158\u001b[0m     \u001b[38;5;28;01mreturn\u001b[39;00m exc \u001b[38;5;129;01mis\u001b[39;00m \u001b[38;5;129;01mnot\u001b[39;00m value\n",
      "File \u001b[0;32m~/opt/anaconda3/envs/rag/lib/python3.10/site-packages/langchain_core/runnables/config.py:552\u001b[0m, in \u001b[0;36mget_executor_for_config\u001b[0;34m(config)\u001b[0m\n\u001b[1;32m    543\u001b[0m \u001b[38;5;250m\u001b[39m\u001b[38;5;124;03m\"\"\"Get an executor for a config.\u001b[39;00m\n\u001b[1;32m    544\u001b[0m \n\u001b[1;32m    545\u001b[0m \u001b[38;5;124;03mArgs:\u001b[39;00m\n\u001b[0;32m   (...)\u001b[0m\n\u001b[1;32m    549\u001b[0m \u001b[38;5;124;03m    Generator[Executor, None, None]: The executor.\u001b[39;00m\n\u001b[1;32m    550\u001b[0m \u001b[38;5;124;03m\"\"\"\u001b[39;00m\n\u001b[1;32m    551\u001b[0m config \u001b[38;5;241m=\u001b[39m config \u001b[38;5;129;01mor\u001b[39;00m {}\n\u001b[0;32m--> 552\u001b[0m \u001b[38;5;28;01mwith\u001b[39;00m ContextThreadPoolExecutor(\n\u001b[1;32m    553\u001b[0m     max_workers\u001b[38;5;241m=\u001b[39mconfig\u001b[38;5;241m.\u001b[39mget(\u001b[38;5;124m\"\u001b[39m\u001b[38;5;124mmax_concurrency\u001b[39m\u001b[38;5;124m\"\u001b[39m)\n\u001b[1;32m    554\u001b[0m ) \u001b[38;5;28;01mas\u001b[39;00m executor:\n\u001b[1;32m    555\u001b[0m     \u001b[38;5;28;01myield\u001b[39;00m executor\n",
      "File \u001b[0;32m~/opt/anaconda3/envs/rag/lib/python3.10/concurrent/futures/_base.py:649\u001b[0m, in \u001b[0;36mExecutor.__exit__\u001b[0;34m(self, exc_type, exc_val, exc_tb)\u001b[0m\n\u001b[1;32m    648\u001b[0m \u001b[38;5;28;01mdef\u001b[39;00m \u001b[38;5;21m__exit__\u001b[39m(\u001b[38;5;28mself\u001b[39m, exc_type, exc_val, exc_tb):\n\u001b[0;32m--> 649\u001b[0m     \u001b[38;5;28;43mself\u001b[39;49m\u001b[38;5;241;43m.\u001b[39;49m\u001b[43mshutdown\u001b[49m\u001b[43m(\u001b[49m\u001b[43mwait\u001b[49m\u001b[38;5;241;43m=\u001b[39;49m\u001b[38;5;28;43;01mTrue\u001b[39;49;00m\u001b[43m)\u001b[49m\n\u001b[1;32m    650\u001b[0m     \u001b[38;5;28;01mreturn\u001b[39;00m \u001b[38;5;28;01mFalse\u001b[39;00m\n",
      "File \u001b[0;32m~/opt/anaconda3/envs/rag/lib/python3.10/concurrent/futures/thread.py:235\u001b[0m, in \u001b[0;36mThreadPoolExecutor.shutdown\u001b[0;34m(self, wait, cancel_futures)\u001b[0m\n\u001b[1;32m    233\u001b[0m \u001b[38;5;28;01mif\u001b[39;00m wait:\n\u001b[1;32m    234\u001b[0m     \u001b[38;5;28;01mfor\u001b[39;00m t \u001b[38;5;129;01min\u001b[39;00m \u001b[38;5;28mself\u001b[39m\u001b[38;5;241m.\u001b[39m_threads:\n\u001b[0;32m--> 235\u001b[0m         \u001b[43mt\u001b[49m\u001b[38;5;241;43m.\u001b[39;49m\u001b[43mjoin\u001b[49m\u001b[43m(\u001b[49m\u001b[43m)\u001b[49m\n",
      "File \u001b[0;32m~/opt/anaconda3/envs/rag/lib/python3.10/threading.py:1096\u001b[0m, in \u001b[0;36mThread.join\u001b[0;34m(self, timeout)\u001b[0m\n\u001b[1;32m   1093\u001b[0m     \u001b[38;5;28;01mraise\u001b[39;00m \u001b[38;5;167;01mRuntimeError\u001b[39;00m(\u001b[38;5;124m\"\u001b[39m\u001b[38;5;124mcannot join current thread\u001b[39m\u001b[38;5;124m\"\u001b[39m)\n\u001b[1;32m   1095\u001b[0m \u001b[38;5;28;01mif\u001b[39;00m timeout \u001b[38;5;129;01mis\u001b[39;00m \u001b[38;5;28;01mNone\u001b[39;00m:\n\u001b[0;32m-> 1096\u001b[0m     \u001b[38;5;28;43mself\u001b[39;49m\u001b[38;5;241;43m.\u001b[39;49m\u001b[43m_wait_for_tstate_lock\u001b[49m\u001b[43m(\u001b[49m\u001b[43m)\u001b[49m\n\u001b[1;32m   1097\u001b[0m \u001b[38;5;28;01melse\u001b[39;00m:\n\u001b[1;32m   1098\u001b[0m     \u001b[38;5;66;03m# the behavior of a negative timeout isn't documented, but\u001b[39;00m\n\u001b[1;32m   1099\u001b[0m     \u001b[38;5;66;03m# historically .join(timeout=x) for x<0 has acted as if timeout=0\u001b[39;00m\n\u001b[1;32m   1100\u001b[0m     \u001b[38;5;28mself\u001b[39m\u001b[38;5;241m.\u001b[39m_wait_for_tstate_lock(timeout\u001b[38;5;241m=\u001b[39m\u001b[38;5;28mmax\u001b[39m(timeout, \u001b[38;5;241m0\u001b[39m))\n",
      "File \u001b[0;32m~/opt/anaconda3/envs/rag/lib/python3.10/threading.py:1116\u001b[0m, in \u001b[0;36mThread._wait_for_tstate_lock\u001b[0;34m(self, block, timeout)\u001b[0m\n\u001b[1;32m   1113\u001b[0m     \u001b[38;5;28;01mreturn\u001b[39;00m\n\u001b[1;32m   1115\u001b[0m \u001b[38;5;28;01mtry\u001b[39;00m:\n\u001b[0;32m-> 1116\u001b[0m     \u001b[38;5;28;01mif\u001b[39;00m \u001b[43mlock\u001b[49m\u001b[38;5;241;43m.\u001b[39;49m\u001b[43macquire\u001b[49m\u001b[43m(\u001b[49m\u001b[43mblock\u001b[49m\u001b[43m,\u001b[49m\u001b[43m \u001b[49m\u001b[43mtimeout\u001b[49m\u001b[43m)\u001b[49m:\n\u001b[1;32m   1117\u001b[0m         lock\u001b[38;5;241m.\u001b[39mrelease()\n\u001b[1;32m   1118\u001b[0m         \u001b[38;5;28mself\u001b[39m\u001b[38;5;241m.\u001b[39m_stop()\n",
      "\u001b[0;31mKeyboardInterrupt\u001b[0m: "
     ]
    }
   ],
   "source": [
    "from tqdm import tqdm\n",
    "results = []\n",
    "for i, example_article in tqdm(enumerate(example_articles)):\n",
    "    result = chain.invoke({\"input\": example_article})\n",
    "    results.append(result)"
   ]
  },
  {
   "cell_type": "code",
   "execution_count": 9,
   "metadata": {},
   "outputs": [
    {
     "name": "stdout",
     "output_type": "stream",
     "text": [
      "<result>\n",
      "{\n",
      "  \"metadata\": {\n",
      "    \"title\": \"Racism is the other virus sweeping America during this pandemic\",\n",
      "    \"date\": \"2020-04-21\",\n",
      "    \"publisher\": \"Chicago Tribune\",\n",
      "    \"author\": \"Julie Morita\",\n",
      "    \"asian\": \"true\"\n",
      "  },\n",
      "  \"racism_types\": [\n",
      "    \"Macro-level racism > systematic racism > racial injustice/inequity and oppression\",\n",
      "    \"Macro-level racism > systematic racism > white supremacy\",\n",
      "    \"Macro-level racism > systematic racism > Racial bias\",\n",
      "    \"Individual-level racism > Stereotype B (with hatred) > China/Chinese/Asian virus/Kung flu/plague/Ramen noodle flu\",\n",
      "    \"Individual-level racism > Stereotype B (with hatred) > yellow peril\",\n",
      "    \"Individual-level racism > Bigotry/prejudice > Scapegoat > Xenophobia\"\n",
      "  ],\n",
      "  \"entities\": [\n",
      "    {\n",
      "      \"name\": \"Julie Morita\",\n",
      "      \"identity\": \"victim\",\n",
      "      \"profession\": \"public health professional\",\n",
      "      \"reactions\": {\n",
      "        \"actions\": [\n",
      "          \"speaks out against injustices\",\n",
      "          \"advocates for a fair and just opportunity for everyone\"\n",
      "        ],\n",
      "        \"emotions\": [\"anger\", \"fear\"],\n",
      "        \"attitudes\": [\n",
      "          {\n",
      "            \"attitude\": \"Negative\",\n",
      "            \"toward\": \"anti-Asian incidents\"\n",
      "          }\n",
      "        ]\n",
      "      }\n",
      "    },\n",
      "    {\n",
      "      \"name\": \"Julie Morita's parents\",\n",
      "      \"identity\": \"victims\",\n",
      "      \"profession\": \"Unknown\",\n",
      "      \"reactions\": {\n",
      "        \"actions\": [\n",
      "          \"became activists\",\n",
      "          \"shared their experiences in panel discussions\"\n",
      "        ],\n",
      "        \"emotions\": [\"anger\", \"trust\"],\n",
      "        \"attitudes\": [\n",
      "          {\n",
      "            \"attitude\": \"Positive\",\n",
      "            \"toward\": \"advocating against racism\"\n",
      "          }\n",
      "        ]\n",
      "      }\n",
      "    }\n",
      "  ]\n",
      "}\n",
      "</result>\n"
     ]
    }
   ],
   "source": [
    "print(results[0][\"answer\"].content)"
   ]
  },
  {
   "cell_type": "markdown",
   "metadata": {},
   "source": [
    "## Save the results"
   ]
  },
  {
   "cell_type": "code",
   "execution_count": null,
   "metadata": {},
   "outputs": [
    {
     "name": "stdout",
     "output_type": "stream",
     "text": [
      "[{'metadata': {'title': 'Anti-Asian violence shows folly of defunding police movement', 'date': '2021-03-21', 'publisher': 'USA Today', 'author': 'Tom Elias', 'asian': 'false'}, 'racism_types': ['Macro-level racism > systematic racism > racial injustice/inequity and oppression', 'Macro-level racism > systematic racism > white supremacy', 'Macro-level racism > systematic racism > Racial bias', 'Individual-level racism > Stereotype B (with hatred) > China/Chinese/Asian virus', 'Individual-level racism > Stereotype B (with hatred) > Perpetual/forever foreigner (Go back to China)', 'Individual-level racism > Bigotry/prejudice > Scapegoat > Racism toward Asian women', 'Individual-level racism > Bigotry/prejudice > Scapegoat > Xenophobia', 'Individual-level racism > Racial discrimination > Physical attack/violence > Anti-Asian hate crimes (investigated by police)', 'Individual-level racism > Racial discrimination > Physical attack/violence > Non-crime (not being investigated by police)'], 'entities': [{'name': 'Vicha Ratanapakdee', 'identity': 'victim', 'profession': 'Unknown', 'reactions': {'actions': ['Beaten to death in broad daylight'], 'emotions': ['sadness'], 'attitudes': [{'attitude': 'Negative', 'toward': 'the violence he suffered'}]}}, {'name': 'Asian-Americans Advancing Justice representative', 'identity': 'witness', 'profession': 'advocate', 'reactions': {'actions': ['Reported that many crimes go unreported due to language barriers'], 'emotions': ['fear'], 'attitudes': [{'attitude': 'Negative', 'toward': 'the lack of police response'}]}}, {'name': 'Asian-American woman in Fresno', 'identity': 'victim', 'profession': 'Unknown', 'reactions': {'actions': ['Harassed at a stoplight'], 'emotions': ['fear'], 'attitudes': [{'attitude': 'Negative', 'toward': 'the harassment she experienced'}]}}, {'name': 'general public', 'identity': 'general public', 'profession': 'Unknown', 'reactions': {'actions': ['Held 700-person rallies decrying the attacks'], 'emotions': ['anger'], 'attitudes': [{'attitude': 'Negative', 'toward': 'the ongoing violence against Asian individuals'}]}}, {'name': 'police', 'identity': 'institution', 'profession': 'law enforcement', 'reactions': {'actions': ['Not increasing patrols despite rising anti-Asian hate crimes'], 'emotions': ['disgust'], 'attitudes': [{'attitude': 'Negative', 'toward': 'the lack of effective policing'}]}}]}, {'metadata': {'title': 'After Georgia Attacks Asian Americans Demand Serious Action on Bias', 'date': '2021-03-18', 'publisher': 'New York Times', 'author': 'Eligon John, Fuller Thomas, Cowan Jill', 'asian': 'false'}, 'racism_types': ['Macro-level racism > systematic racism > racial injustice/inequity and oppression', 'Macro-level racism > systematic racism > white supremacy', 'Macro-level racism > systematic racism > white privilege', 'Macro-level racism > systematic racism > Racial bias', 'Individual-level racism > Stereotype B (with hatred) > China/Chinese/Asian virus/Kung flu/plague/Ramen noodle flu', 'Individual-level racism > Stereotype B (with hatred) > yellow peril', 'Individual-level racism > Bigotry/prejudice > Scapegoat > Racism toward Asian women', 'Individual-level racism > Bigotry/prejudice > Scapegoat > Misogyny', 'Individual-level racism > Bigotry/prejudice > Scapegoat > Xenophobia', 'Individual-level racism > Racial discrimination > Physical attack/violence > Anti-Asian hate crimes (investigated by police) > Attacked by White or not specified'], 'entities': [{'name': 'Victim 1', 'identity': 'victim', 'profession': 'Unknown', 'reactions': {'actions': [], 'emotions': ['sadness'], 'attitudes': [{'attitude': 'Negative', 'toward': 'anti-Asian discrimination'}]}}, {'name': 'Angela Hsu', 'identity': 'witness', 'profession': 'lawyer', 'reactions': {'actions': ['expressed disbelief in violence against Asian Americans'], 'emotions': ['fear'], 'attitudes': [{'attitude': 'Negative', 'toward': 'discrimination against Asian Americans'}]}}, {'name': 'Chris J. Lee', 'identity': 'activist', 'profession': 'founder of Plan A Magazine', 'reactions': {'actions': ['highlighted the invisibility of Asian Americans'], 'emotions': ['anger'], 'attitudes': [{'attitude': 'Negative', 'toward': 'societal dismissal of anti-Asian violence'}]}}, {'name': 'Will Lex Ham', 'identity': 'activist', 'profession': 'actor', 'reactions': {'actions': ['led a campaign of awareness'], 'emotions': ['anger'], 'attitudes': [{'attitude': 'Negative', 'toward': 'discrimination against Asians'}]}}, {'name': 'David Chiu', 'identity': 'politician', 'profession': 'California state Assembly member', 'reactions': {'actions': ['demanded an Asian American attorney general'], 'emotions': ['anger'], 'attitudes': [{'attitude': 'Negative', 'toward': 'lack of representation in law enforcement'}]}}, {'name': 'Suraiya Sharker', 'identity': 'community organizer', 'profession': 'community organizer with the National Asian Pacific American Women’s Forum', 'reactions': {'actions': ['received calls from members in distress'], 'emotions': ['fear'], 'attitudes': [{'attitude': 'Negative', 'toward': 'vulnerability of Asian American families'}]}}]}, {'metadata': {'title': 'Asian Americans Are Being Attacked. Why Are Hate Crime Charges So Rare?', 'date': '2021-03-18', 'publisher': 'New York Times', 'author': 'Nicole Hong, Jonah E. Bromwich', 'asian': 'false'}, 'racism_types': ['Macro-level racism > systematic racism > racial injustice/inequity and oppression', 'Macro-level racism > systematic racism > white supremacy', 'Macro-level racism > systematic racism > racial bias', 'Individual-level racism > Stereotype B (with hatred) > China/Chinese/Asian virus', 'Individual-level racism > Bigotry/prejudice > Scapegoat > Racism toward Asian women', 'Individual-level racism > Racial discrimination > Physical attack/violence > Anti-Asian hate crimes (investigated by police)', 'Individual-level racism > Racial discrimination > harassments > Verbal'], 'entities': [{'name': 'Victim 1', 'identity': 'victim', 'profession': 'Unknown', 'reactions': {'actions': [], 'emotions': ['fear'], 'attitudes': [{'attitude': 'Negative', 'toward': 'the violence against Asian Americans'}]}}, {'name': 'Perpetrator 1', 'identity': 'suspect', 'profession': 'Unknown', 'reactions': {'actions': ['attacked the victim'], 'emotions': ['Unknown'], 'attitudes': [{'attitude': 'Negative', 'toward': 'Asian Americans'}]}}, {'name': 'Don Lee', 'identity': 'community activist', 'profession': 'activist', 'reactions': {'actions': ['spoke at the rally', 'protested outside the Manhattan District Attorney’s Office'], 'emotions': ['anger'], 'attitudes': [{'attitude': 'Negative', 'toward': 'the lack of recognition of hate crimes'}]}}, {'name': 'Robert Aaron Long', 'identity': 'suspect', 'profession': 'Unknown', 'reactions': {'actions': ['denied harboring a racial bias'], 'emotions': ['Unknown'], 'attitudes': [{'attitude': 'Negative', 'toward': 'Asian victims'}]}}, {'name': 'Wayne Ho', 'identity': 'community leader', 'profession': 'president of the Chinese-American Planning Council', 'reactions': {'actions': ['expressed concern about police involvement'], 'emotions': ['fear'], 'attitudes': [{'attitude': 'Negative', 'toward': 'police treatment of minorities'}]}}, {'name': 'Alice Wong', 'identity': 'colleague', 'profession': 'Unknown', 'reactions': {'actions': ['reflected on the consequences of jail'], 'emotions': ['fear'], 'attitudes': [{'attitude': 'Negative', 'toward': 'the effectiveness of jailing perpetrators'}]}}, {'name': 'Elizabeth OuYang', 'identity': 'civil rights lawyer', 'profession': 'lawyer', 'reactions': {'actions': ['supervised the educational program'], 'emotions': ['trust'], 'attitudes': [{'attitude': 'Positive', 'toward': 'the potential for change in attitudes'}]}}]}, {'metadata': {'title': 'Visual timeline: What happened at Atlanta spa shootings', 'date': '2021-03-17', 'publisher': 'USA Today', 'author': 'Padilla, Ramon; Petras, George; Loehrke, Janet; Beard, Stephen J.', 'asian': 'false'}, 'racism_types': ['Macro-level racism > systematic racism > racial injustice/inequity and oppression', 'Individual-level racism > Bigotry/prejudice > Scapegoat > Racism toward Asian women', 'Individual-level racism > Bigotry/prejudice > Scapegoat > Misogyny', 'Individual-level racism > Bigotry/prejudice > Scapegoat > Xenophobia'], 'entities': [{'name': 'Robert Aaron Long', 'identity': 'suspect', 'profession': 'Unknown', 'reactions': {'actions': ['Told police the acts were not racially motivated.', 'Stated he has a sexual addiction.'], 'emotions': ['Unknown'], 'attitudes': [{'attitude': 'Negative', 'toward': 'Asian victims'}]}}, {'name': 'Victim 1', 'identity': 'victim', 'profession': 'Unknown', 'reactions': {'actions': [], 'emotions': ['sadness'], 'attitudes': [{'attitude': 'Negative', 'toward': 'the violence against Asian women'}]}}, {'name': 'Victim 2', 'identity': 'victim', 'profession': 'Unknown', 'reactions': {'actions': [], 'emotions': ['sadness'], 'attitudes': [{'attitude': 'Negative', 'toward': 'the violence against Asian women'}]}}, {'name': 'Victim 3', 'identity': 'victim', 'profession': 'Unknown', 'reactions': {'actions': [], 'emotions': ['sadness'], 'attitudes': [{'attitude': 'Negative', 'toward': 'the violence against Asian women'}]}}, {'name': 'Victim 4', 'identity': 'victim', 'profession': 'Unknown', 'reactions': {'actions': [], 'emotions': ['sadness'], 'attitudes': [{'attitude': 'Negative', 'toward': 'the violence against Asian women'}]}}, {'name': 'Grace Kao', 'identity': 'expert', 'profession': 'sociology department chair at Yale University', 'reactions': {'actions': ['Commented on the difficulty of disentangling race from the killings.'], 'emotions': ['sadness'], 'attitudes': [{'attitude': 'Negative', 'toward': 'the killings'}]}}, {'name': 'FBI Director Christopher Wray', 'identity': 'official', 'profession': 'FBI Director', 'reactions': {'actions': ['Stated that the investigation continues.'], 'emotions': ['Unknown'], 'attitudes': [{'attitude': 'Neutral', 'toward': 'the ongoing investigation'}]}}]}, {'metadata': {'title': 'Violence and hate against Asian Americans is a health and safety crisis for everyone', 'date': '2021-03-17', 'publisher': 'USA Today', 'author': 'Stacy Torres', 'asian': 'true'}, 'racism_types': ['Types of Anti-Asian hate > Macro-level racism > systematic racism > racial injustice/inequity and oppression', 'Types of Anti-Asian hate > Macro-level racism > systematic racism > white supremacy', 'Types of Anti-Asian hate > Macro-level racism > systematic racism > racial bias', 'Types of Anti-Asian hate > Individual-level racism > Racial discrimination > Physical attack/violence > Anti-Asian hate crimes (investigated by police) > Attacked by other minorities (e.g., Black)', 'Types of Anti-Asian hate > Individual-level racism > Racial discrimination > Physical attack/violence > Anti-Asian hate crimes (investigated by police) > Attacked by White or not specified'], 'entities': [{'name': 'Vicha Ratanapakdee', 'identity': 'victim', 'profession': 'elder', 'reactions': {'actions': ['was killed in a racially motivated attack'], 'emotions': ['sadness'], 'attitudes': [{'attitude': 'Negative', 'toward': 'Anti-Asian violence'}]}}, {'name': '91-year-old man', 'identity': 'victim', 'profession': 'elder', 'reactions': {'actions': [\"was attacked in Oakland's Chinatown\"], 'emotions': ['fear'], 'attitudes': [{'attitude': 'Negative', 'toward': 'Anti-Asian violence'}]}}, {'name': 'Pak Ho', 'identity': 'victim', 'profession': 'elder', 'reactions': {'actions': ['was robbed and killed during a morning walk'], 'emotions': ['sadness'], 'attitudes': [{'attitude': 'Negative', 'toward': 'Anti-Asian violence'}]}}, {'name': 'Russell Jeung', 'identity': 'expert', 'profession': 'Professor', 'reactions': {'actions': ['pointed to community disinvestment as a problem'], 'emotions': ['anger'], 'attitudes': [{'attitude': 'Negative', 'toward': 'Community disinvestment and racism'}]}}, {'name': 'Loren Taylor', 'identity': 'politician', 'profession': 'City Council Member', 'reactions': {'actions': ['expressed concern about community violence'], 'emotions': ['fear'], 'attitudes': [{'attitude': 'Negative', 'toward': 'Gun violence in the community'}]}}]}]\n"
     ]
    }
   ],
   "source": [
    "# For each response, extract the content between <result></result> and then put it into a big JSON file\n",
    "import json\n",
    "\n",
    "results_json = []\n",
    "\n",
    "for result in results:\n",
    "    content = result['answer'].content\n",
    "    # extract the content between <result></result>\n",
    "    content = content.split(\"<result>\")[1].split(\"</result>\")[0]\n",
    "    # Convert the content to JSON\n",
    "    content_json = json.loads(content)\n",
    "    results_json.append(content_json)\n",
    "\n",
    "print(results_json)"
   ]
  },
  {
   "cell_type": "code",
   "execution_count": null,
   "metadata": {},
   "outputs": [],
   "source": [
    "# Save the results to a JSON file\n",
    "\n",
    "with open(\"results.json\", \"w\") as f:\n",
    "    json.dump(results_json, f, indent=4)\n"
   ]
  }
 ],
 "metadata": {
  "kernelspec": {
   "display_name": "rag",
   "language": "python",
   "name": "python3"
  },
  "language_info": {
   "codemirror_mode": {
    "name": "ipython",
    "version": 3
   },
   "file_extension": ".py",
   "mimetype": "text/x-python",
   "name": "python",
   "nbconvert_exporter": "python",
   "pygments_lexer": "ipython3",
   "version": "3.10.14"
  }
 },
 "nbformat": 4,
 "nbformat_minor": 2
}
