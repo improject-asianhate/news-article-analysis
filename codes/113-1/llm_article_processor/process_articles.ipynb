{
 "cells": [
  {
   "cell_type": "markdown",
   "metadata": {},
   "source": [
    "Read the prompt"
   ]
  },
  {
   "cell_type": "code",
   "execution_count": 42,
   "metadata": {},
   "outputs": [],
   "source": [
    "# FILEPATH: prompt.txt\n",
    "with open('prompt.txt', 'r') as file:\n",
    "    prompt = file.read()"
   ]
  },
  {
   "cell_type": "markdown",
   "metadata": {},
   "source": [
    "Read the articles and put them into the prompt"
   ]
  },
  {
   "cell_type": "code",
   "execution_count": 43,
   "metadata": {},
   "outputs": [
    {
     "name": "stdout",
     "output_type": "stream",
     "text": [
      "4\n"
     ]
    }
   ],
   "source": [
    "articles = {}\n",
    "# Read all txt files in ./articles\n",
    "import os\n",
    "for filename in os.listdir('./articles'):\n",
    "    if filename.endswith('.txt'):\n",
    "        with open(f'./articles/{filename}', 'r') as file:\n",
    "            articles[filename] = file.read()\n",
    "\n",
    "prompt_with_articles = {filename: prompt.replace('[Insert the article text here]', article) for filename, article in articles.items()}\n",
    "print(len(prompt_with_articles))"
   ]
  },
  {
   "cell_type": "markdown",
   "metadata": {},
   "source": [
    "Definition of `get_response()` function"
   ]
  },
  {
   "cell_type": "code",
   "execution_count": 46,
   "metadata": {},
   "outputs": [],
   "source": [
    "from openai import OpenAI\n",
    "client = OpenAI()\n",
    "\n",
    "def get_response(prompt):\n",
    "    completion = client.chat.completions.create(\n",
    "        model=\"gpt-4o\",\n",
    "        messages=[\n",
    "            {\"role\": \"user\", \"content\": prompt}\n",
    "        ]\n",
    "    )\n",
    "    return completion.choices[0].message.content"
   ]
  },
  {
   "cell_type": "markdown",
   "metadata": {},
   "source": [
    "Get the responses for all the articles we've provided"
   ]
  },
  {
   "cell_type": "code",
   "execution_count": 47,
   "metadata": {},
   "outputs": [],
   "source": [
    "responses = {filename: get_response(prompt) for filename, prompt in prompt_with_articles.items()}"
   ]
  },
  {
   "cell_type": "markdown",
   "metadata": {},
   "source": [
    "Convert the responses to csv file respectively and save them"
   ]
  },
  {
   "cell_type": "code",
   "execution_count": 48,
   "metadata": {},
   "outputs": [
    {
     "name": "stdout",
     "output_type": "stream",
     "text": [
      "4.txt done\n",
      "3.txt done\n",
      "2.txt done\n",
      "1.txt done\n"
     ]
    }
   ],
   "source": [
    "import pandas as pd\n",
    "from io import StringIO\n",
    "\n",
    "for filename, response in responses.items():\n",
    "    content = response[response.find(\"```\\n\")+3:response.rfind(\"\\n```\")]\n",
    "    df = pd.read_csv(StringIO(content), sep=\"/\")\n",
    "    df.to_csv(f'./responses/{filename.replace(\".txt\", \".csv\")}', index=False)\n",
    "    print(f'{filename} done')"
   ]
  }
 ],
 "metadata": {
  "kernelspec": {
   "display_name": "Python 3",
   "language": "python",
   "name": "python3"
  },
  "language_info": {
   "codemirror_mode": {
    "name": "ipython",
    "version": 3
   },
   "file_extension": ".py",
   "mimetype": "text/x-python",
   "name": "python",
   "nbconvert_exporter": "python",
   "pygments_lexer": "ipython3",
   "version": "3.9.13"
  }
 },
 "nbformat": 4,
 "nbformat_minor": 2
}
